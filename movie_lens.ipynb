{
 "cells": [
  {
   "cell_type": "code",
   "execution_count": 1,
   "source": [
    "import json\n",
    "import pickle"
   ],
   "outputs": [],
   "metadata": {}
  },
  {
   "cell_type": "code",
   "execution_count": 3,
   "source": [
    "dataset_path = \"./data/movie_lens_output_path.json\"\n",
    "with open(dataset_path) as json_file:\n",
    "    _dataset_path = json.load(json_file)\n",
    "\n",
    "dataset = {}\n",
    "with open(_dataset_path[\"train_users_dict\"], \"rb\") as pkl_file:\n",
    "    dataset[\"train_users_dict\"] = pickle.load(pkl_file)\n",
    "with open(_dataset_path[\"train_users_history_lens\"], \"rb\") as pkl_file:\n",
    "    dataset[\"train_users_history_lens\"] = pickle.load(pkl_file)\n",
    "with open(_dataset_path[\"eval_users_dict\"], \"rb\") as pkl_file:\n",
    "    dataset[\"eval_users_dict\"] = pickle.load(pkl_file)\n",
    "with open(_dataset_path[\"eval_users_history_lens\"], \"rb\") as pkl_file:\n",
    "    dataset[\"eval_users_history_lens\"] = pickle.load(pkl_file)\n",
    "with open(_dataset_path[\"users_history_lens\"], \"rb\") as pkl_file:\n",
    "    dataset[\"users_history_lens\"] = pickle.load(pkl_file)\n",
    "with open(_dataset_path[\"movies_id_to_movies\"], \"rb\") as pkl_file:\n",
    "    dataset[\"movies_id_to_movies\"] = pickle.load(pkl_file)\n",
    "with open(_dataset_path[\"movies_groups\"], \"rb\") as pkl_file:\n",
    "    dataset[\"movies_groups\"] = pickle.load(pkl_file)"
   ],
   "outputs": [],
   "metadata": {}
  },
  {
   "cell_type": "code",
   "execution_count": null,
   "source": [],
   "outputs": [],
   "metadata": {}
  }
 ],
 "metadata": {
  "orig_nbformat": 4,
  "language_info": {
   "name": "python",
   "version": "3.8.10",
   "mimetype": "text/x-python",
   "codemirror_mode": {
    "name": "ipython",
    "version": 3
   },
   "pygments_lexer": "ipython3",
   "nbconvert_exporter": "python",
   "file_extension": ".py"
  },
  "kernelspec": {
   "name": "python3",
   "display_name": "Python 3.8.10 64-bit ('recsys-rl': conda)"
  },
  "interpreter": {
   "hash": "c9cc416c9b4a579684153a23d03c41615bbea27f5c395f25c19bd5c734da2247"
  }
 },
 "nbformat": 4,
 "nbformat_minor": 2
}