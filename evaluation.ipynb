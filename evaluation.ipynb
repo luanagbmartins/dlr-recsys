{
 "cells": [
  {
   "cell_type": "code",
   "execution_count": 1,
   "source": [
    "#Dependencies\n",
    "import pandas as pd\n",
    "import numpy as np\n",
    "import tensorflow as tf\n",
    "import itertools\n",
    "import matplotlib.pyplot as plt\n",
    "import time\n",
    "\n",
    "from src.environment.ml_env import OfflineEnv\n",
    "from src.model.recommender import DRRAgent\n",
    "\n",
    "import os\n",
    "\n",
    "DATA_DIR = \"data/ml-1m\"\n",
    "STATE_SIZE = 10"
   ],
   "outputs": [],
   "metadata": {
    "colab": {},
    "colab_type": "code",
    "id": "r1NmejTIFPtf"
   }
  },
  {
   "cell_type": "code",
   "execution_count": 13,
   "source": [
    "import json \n",
    "import pickle\n",
    "\n",
    "dataset_path = \"data/movie_lens_output_path.json\"\n",
    "with open(dataset_path) as json_file:\n",
    "    _dataset_path = json.load(json_file)\n",
    "\n",
    "with open(_dataset_path[\"train_users_dict\"], \"rb\") as pkl_file:\n",
    "    train_users_dict = pickle.load(pkl_file)\n",
    "with open(_dataset_path[\"train_users_history_lens\"], \"rb\") as pkl_file:\n",
    "    train_users_history_lens = pickle.load(pkl_file)\n",
    "with open(_dataset_path[\"eval_users_dict\"], \"rb\") as pkl_file:\n",
    "    eval_users_dict = pickle.load(pkl_file)\n",
    "with open(_dataset_path[\"eval_users_history_lens\"], \"rb\") as pkl_file:\n",
    "    eval_users_history_lens = pickle.load(pkl_file)\n",
    "with open(_dataset_path[\"users_history_lens\"], \"rb\") as pkl_file:\n",
    "    users_history_lens = pickle.load(pkl_file)\n",
    "with open(_dataset_path[\"movies_id_to_movies\"], \"rb\") as pkl_file:\n",
    "    movies_id_to_movies = pickle.load(pkl_file)\n",
    "with open(_dataset_path[\"movies_groups\"], \"rb\") as pkl_file:\n",
    "    movies_groups = pickle.load(pkl_file)"
   ],
   "outputs": [],
   "metadata": {}
  },
  {
   "cell_type": "code",
   "execution_count": 3,
   "source": [
    "users_num = 6041\n",
    "items_num = 3953"
   ],
   "outputs": [],
   "metadata": {}
  },
  {
   "cell_type": "markdown",
   "source": [
    "### Training setting"
   ],
   "metadata": {}
  },
  {
   "cell_type": "code",
   "execution_count": 4,
   "source": [
    "train_users_num = int(users_num * 0.8)\n",
    "train_items_num = items_num\n",
    "print(train_users_num, train_items_num)"
   ],
   "outputs": [
    {
     "output_type": "stream",
     "name": "stdout",
     "text": [
      "4832 3953\n"
     ]
    }
   ],
   "metadata": {}
  },
  {
   "cell_type": "markdown",
   "source": [
    "### Evaluating setting"
   ],
   "metadata": {}
  },
  {
   "cell_type": "code",
   "execution_count": 5,
   "source": [
    "eval_users_num = int(users_num * 0.2)\n",
    "eval_items_num = items_num\n",
    "print(eval_users_num, eval_items_num)"
   ],
   "outputs": [
    {
     "output_type": "stream",
     "name": "stdout",
     "text": [
      "1208 3953\n"
     ]
    }
   ],
   "metadata": {}
  },
  {
   "cell_type": "markdown",
   "source": [
    "### Evalutation"
   ],
   "metadata": {}
  },
  {
   "cell_type": "code",
   "execution_count": 6,
   "source": [
    "def evaluate(recommender, env, check_movies = False, top_k=False):\n",
    "    # episodic reward\n",
    "    episode_reward = 0\n",
    "    steps = 0\n",
    "    mean_precision = 0\n",
    "    mean_ndcg = 0\n",
    "    # Environment\n",
    "    user_id, items_ids, done = env.reset()\n",
    "    if check_movies:\n",
    "        print(f'user_id : {user_id}, rated_items_length:{len(env.user_items)}')\n",
    "        print('items : \\n', np.array(env.get_items_names(items_ids)))\n",
    "\n",
    "    while not done:\n",
    "\n",
    "        # Observe current state & Find action\n",
    "        ## Embedding\n",
    "        user_eb = recommender.embedding_network.get_layer('user_embedding')(np.array(user_id))\n",
    "        items_eb = recommender.embedding_network.get_layer('movie_embedding')(np.array(items_ids))\n",
    "        ## SRM state\n",
    "        state = recommender.srm_ave([np.expand_dims(user_eb, axis=0), np.expand_dims(items_eb, axis=0)])\n",
    "        ## Action(ranking score) \n",
    "        action = recommender.actor.network(state)\n",
    "        ## Item \n",
    "        recommended_item = recommender.recommend_item(action, env.recommended_items, top_k=top_k)\n",
    "        if check_movies:\n",
    "            print(f'recommended items ids : {recommended_item}')\n",
    "            print(f'recommened items : \\n {np.array(env.get_items_names(recommended_item), dtype=object)}')\n",
    "        # Calculate reward and observe new state (in env)\n",
    "        ## Step\n",
    "        next_items_ids, reward, done, _ = env.step(recommended_item, top_k=top_k)\n",
    "        if top_k:\n",
    "            correct_list = [1 if r > 0 else 0 for r in reward]\n",
    "            # ndcg\n",
    "            dcg, idcg = calculate_ndcg(correct_list, [1 for _ in range(len(reward))])\n",
    "            mean_ndcg += dcg/idcg\n",
    "            \n",
    "            #precision\n",
    "            correct_num = top_k-correct_list.count(0)\n",
    "            mean_precision += correct_num/top_k\n",
    "            \n",
    "        reward = np.sum(reward)\n",
    "        items_ids = next_items_ids\n",
    "        episode_reward += reward\n",
    "        steps += 1\n",
    "        \n",
    "        if check_movies:\n",
    "            print(f'precision : {correct_num/top_k}, dcg : {dcg:0.3f}, idcg : {idcg:0.3f}, ndcg : {dcg/idcg:0.3f}, reward : {reward}')\n",
    "            print()\n",
    "        break\n",
    "    \n",
    "    if check_movies:\n",
    "        print(f'precision : {mean_precision/steps}, ngcg : {mean_ndcg/steps}, episode_reward : {episode_reward}')\n",
    "        print()\n",
    "    \n",
    "    return mean_precision/steps, mean_ndcg/steps\n",
    "\n",
    "def calculate_ndcg(rel, irel):\n",
    "    dcg = 0\n",
    "    idcg = 0\n",
    "    rel = [1 if r>0 else 0 for r in rel]\n",
    "    for i, (r, ir) in enumerate(zip(rel, irel)):\n",
    "        dcg += (r)/np.log2(i+2)\n",
    "        idcg += (ir)/np.log2(i+2)\n",
    "    return dcg, idcg"
   ],
   "outputs": [],
   "metadata": {}
  },
  {
   "cell_type": "code",
   "execution_count": 7,
   "source": [
    "tf.keras.backend.set_floatx('float64')"
   ],
   "outputs": [],
   "metadata": {}
  },
  {
   "cell_type": "code",
   "execution_count": 14,
   "source": [
    "sum_precision = 0\n",
    "sum_ndcg = 0\n",
    "TOP_K = 10\n",
    "\n",
    "for user_id in eval_users_dict.keys():\n",
    "    env = OfflineEnv(\n",
    "        eval_users_dict, \n",
    "        users_history_lens, \n",
    "        movies_id_to_movies, \n",
    "        movies_groups, \n",
    "        STATE_SIZE, \n",
    "        fix_user_id=user_id\n",
    "    )\n",
    "    recommender = DRRAgent(\n",
    "        env, \n",
    "        users_num, \n",
    "        items_num, \n",
    "        STATE_SIZE,\n",
    "        \"model/movie_lens\",\n",
    "        \"model/movie_lens/user_movie_at_once.h5\",\n",
    "        \"movie_lens\"\n",
    "    )\n",
    "    recommender.actor.build_networks()\n",
    "    recommender.critic.build_networks()\n",
    "    recommender.load_model('model/movie_lens/actor_8000.h5', \n",
    "                           'model/movie_lens/critic_8000.h5')\n",
    "    precision, ndcg = evaluate(recommender, env, top_k=TOP_K)\n",
    "    sum_precision += precision\n",
    "    sum_ndcg += ndcg\n",
    "    \n",
    "print(f'precision@{TOP_K} : {sum_precision/len(eval_users_dict)}, ndcg@{TOP_K} : {sum_ndcg/len(eval_users_dict)}')"
   ],
   "outputs": [
    {
     "output_type": "stream",
     "name": "stdout",
     "text": [
      "precision@10 : 0.40149006622516603, ndcg@10 : 0.3890252611393004\n"
     ]
    }
   ],
   "metadata": {
    "scrolled": false
   }
  }
 ],
 "metadata": {
  "colab": {
   "collapsed_sections": [],
   "include_colab_link": true,
   "machine_shape": "hm",
   "name": "RL_ActorCritic_DDPG_Movie_Recommendation.ipynb",
   "provenance": []
  },
  "kernelspec": {
   "name": "python3",
   "display_name": "Python 3.8.10 64-bit ('recsys-rl': conda)"
  },
  "language_info": {
   "codemirror_mode": {
    "name": "ipython",
    "version": 3
   },
   "file_extension": ".py",
   "mimetype": "text/x-python",
   "name": "python",
   "nbconvert_exporter": "python",
   "pygments_lexer": "ipython3",
   "version": "3.8.10"
  },
  "interpreter": {
   "hash": "c9cc416c9b4a579684153a23d03c41615bbea27f5c395f25c19bd5c734da2247"
  }
 },
 "nbformat": 4,
 "nbformat_minor": 1
}