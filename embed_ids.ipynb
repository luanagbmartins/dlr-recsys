{
 "cells": [
  {
   "cell_type": "markdown",
   "source": [
    "# Embedding Model"
   ],
   "metadata": {}
  },
  {
   "cell_type": "code",
   "execution_count": 2,
   "source": [
    "import pandas as pd\n",
    "import numpy as np\n",
    "import itertools\n",
    "\n",
    "import logging, os\n",
    "\n",
    "logging.disable(logging.WARNING)\n",
    "os.environ[\"TF_CPP_MIN_LOG_LEVEL\"] = \"3\"\n",
    "\n",
    "import tensorflow as tf\n",
    "\n",
    "import matplotlib.pyplot as plt\n",
    "import plotly.express as px\n",
    "\n",
    "import time\n",
    "import tqdm\n",
    "\n",
    "\n",
    "ROOT_DIR = os.getcwd()\n",
    "DATA_DIR = os.path.join(ROOT_DIR, 'data/ml-1m/')\n",
    "STATE_SIZE = 10"
   ],
   "outputs": [],
   "metadata": {
    "colab": {},
    "colab_type": "code",
    "id": "r1NmejTIFPtf"
   }
  },
  {
   "cell_type": "code",
   "execution_count": 3,
   "source": [
    "#Loading datasets\n",
    "\n",
    "ratings_list = [i.strip().split(\"::\") for i in open(os.path.join(DATA_DIR,'ratings.dat'), 'r').readlines()]\n",
    "users_list = [i.strip().split(\"::\") for i in open(os.path.join(DATA_DIR,'users.dat'), 'r').readlines()]\n",
    "movies_list = [i.strip().split(\"::\") for i in open(os.path.join(DATA_DIR,'movies.dat'),encoding='latin-1').readlines()]\n",
    "ratings_df = pd.DataFrame(ratings_list, columns = ['UserID', 'MovieID', 'Rating', 'Timestamp'], dtype = np.uint32)\n",
    "movies_df = pd.DataFrame(movies_list, columns = ['MovieID', 'Title', 'Genres'])\n",
    "movies_df['MovieID'] = movies_df['MovieID'].apply(pd.to_numeric)\n",
    "users_df = pd.DataFrame(users_list, columns=['UserID','Gender','Age','Occupation','Zip-code'])\n",
    "\n",
    "# ratings_df = pd.read_csv(\n",
    "#     os.path.join(DATA_DIR, \"u.data\"),\n",
    "#     \"\\t\",\n",
    "#     names=[\"UserID\", \"MovieID\", \"Rating\", \"Timestamp\"],\n",
    "#     engine=\"python\",\n",
    "#     dtype=np.uint32,\n",
    "# )\n",
    "# users_df = pd.read_csv(\n",
    "#     os.path.join(DATA_DIR, \"u.user\"),\n",
    "#     \"|\",\n",
    "#     names=[\"user_id\", \"age\", \"gender\", \"occupation\", \"zip_code\"],\n",
    "#     engine=\"python\",\n",
    "# )\n",
    "# movies_list = [\n",
    "#     i.strip().split(\"|\")\n",
    "#     for i in open(\n",
    "#         os.path.join(DATA_DIR, \"u.item\"), encoding=\"latin-1\"\n",
    "#     ).readlines()\n",
    "# ]\n",
    "# movies_df = pd.DataFrame(\n",
    "#     movies_list,\n",
    "#     columns=[\n",
    "#         \"MovieID\",\n",
    "#         \"title\",\n",
    "#         \"release_date\",\n",
    "#         \"video_release_date\",\n",
    "#         \"imdb_url\",\n",
    "#         \"unknown\",\n",
    "#         \"Action\",\n",
    "#         \"Adventure\",\n",
    "#         \"Animation\",\n",
    "#         \"Children's\",\n",
    "#         \"Comedy\",\n",
    "#         \"Crime\",\n",
    "#         \"Documentary\",\n",
    "#         \"Drama\",\n",
    "#         \"Fantasy\",\n",
    "#         \"Film-Noir\",\n",
    "#         \"Horror\",\n",
    "#         \"Musical\",\n",
    "#         \"Mystery\",\n",
    "#         \"Romance\",\n",
    "#         \"Sci-Fi\",\n",
    "#         \"Thriller\",\n",
    "#         \"War\",\n",
    "#         \"Western\",\n",
    "#     ],\n",
    "# )\n",
    "# movies_df[\"MovieID\"] = movies_df[\"MovieID\"].apply(pd.to_numeric)"
   ],
   "outputs": [
    {
     "output_type": "stream",
     "name": "stderr",
     "text": [
      "/data/miniconda3/envs/recsysrl/lib/python3.8/site-packages/IPython/core/interactiveshell.py:3441: FutureWarning: Could not cast to uint32, falling back to object. This behavior is deprecated. In a future version, when a dtype is passed to 'DataFrame', either all columns will be cast to that dtype, or a TypeError will be raised\n",
      "  exec(code_obj, self.user_global_ns, self.user_ns)\n"
     ]
    }
   ],
   "metadata": {
    "colab": {},
    "colab_type": "code",
    "id": "b8aPaxXpNsz7",
    "scrolled": true
   }
  },
  {
   "cell_type": "code",
   "execution_count": 4,
   "source": [
    "len(movies_list)\n",
    "movies_id_to_movies = {movie[0]: movie[1:] for movie in movies_list}"
   ],
   "outputs": [],
   "metadata": {}
  },
  {
   "cell_type": "code",
   "execution_count": 5,
   "source": [
    "movies_df.head(5)"
   ],
   "outputs": [
    {
     "output_type": "execute_result",
     "data": {
      "text/html": [
       "<div>\n",
       "<style scoped>\n",
       "    .dataframe tbody tr th:only-of-type {\n",
       "        vertical-align: middle;\n",
       "    }\n",
       "\n",
       "    .dataframe tbody tr th {\n",
       "        vertical-align: top;\n",
       "    }\n",
       "\n",
       "    .dataframe thead th {\n",
       "        text-align: right;\n",
       "    }\n",
       "</style>\n",
       "<table border=\"1\" class=\"dataframe\">\n",
       "  <thead>\n",
       "    <tr style=\"text-align: right;\">\n",
       "      <th></th>\n",
       "      <th>MovieID</th>\n",
       "      <th>Title</th>\n",
       "      <th>Genres</th>\n",
       "    </tr>\n",
       "  </thead>\n",
       "  <tbody>\n",
       "    <tr>\n",
       "      <th>0</th>\n",
       "      <td>1</td>\n",
       "      <td>Toy Story (1995)</td>\n",
       "      <td>Animation|Children's|Comedy</td>\n",
       "    </tr>\n",
       "    <tr>\n",
       "      <th>1</th>\n",
       "      <td>2</td>\n",
       "      <td>Jumanji (1995)</td>\n",
       "      <td>Adventure|Children's|Fantasy</td>\n",
       "    </tr>\n",
       "    <tr>\n",
       "      <th>2</th>\n",
       "      <td>3</td>\n",
       "      <td>Grumpier Old Men (1995)</td>\n",
       "      <td>Comedy|Romance</td>\n",
       "    </tr>\n",
       "    <tr>\n",
       "      <th>3</th>\n",
       "      <td>4</td>\n",
       "      <td>Waiting to Exhale (1995)</td>\n",
       "      <td>Comedy|Drama</td>\n",
       "    </tr>\n",
       "    <tr>\n",
       "      <th>4</th>\n",
       "      <td>5</td>\n",
       "      <td>Father of the Bride Part II (1995)</td>\n",
       "      <td>Comedy</td>\n",
       "    </tr>\n",
       "  </tbody>\n",
       "</table>\n",
       "</div>"
      ],
      "text/plain": [
       "   MovieID                               Title                        Genres\n",
       "0        1                    Toy Story (1995)   Animation|Children's|Comedy\n",
       "1        2                      Jumanji (1995)  Adventure|Children's|Fantasy\n",
       "2        3             Grumpier Old Men (1995)                Comedy|Romance\n",
       "3        4            Waiting to Exhale (1995)                  Comedy|Drama\n",
       "4        5  Father of the Bride Part II (1995)                        Comedy"
      ]
     },
     "metadata": {},
     "execution_count": 5
    }
   ],
   "metadata": {
    "scrolled": true
   }
  },
  {
   "cell_type": "code",
   "execution_count": 6,
   "source": [
    "ratings_df.head(5)"
   ],
   "outputs": [
    {
     "output_type": "execute_result",
     "data": {
      "text/html": [
       "<div>\n",
       "<style scoped>\n",
       "    .dataframe tbody tr th:only-of-type {\n",
       "        vertical-align: middle;\n",
       "    }\n",
       "\n",
       "    .dataframe tbody tr th {\n",
       "        vertical-align: top;\n",
       "    }\n",
       "\n",
       "    .dataframe thead th {\n",
       "        text-align: right;\n",
       "    }\n",
       "</style>\n",
       "<table border=\"1\" class=\"dataframe\">\n",
       "  <thead>\n",
       "    <tr style=\"text-align: right;\">\n",
       "      <th></th>\n",
       "      <th>UserID</th>\n",
       "      <th>MovieID</th>\n",
       "      <th>Rating</th>\n",
       "      <th>Timestamp</th>\n",
       "    </tr>\n",
       "  </thead>\n",
       "  <tbody>\n",
       "    <tr>\n",
       "      <th>0</th>\n",
       "      <td>1</td>\n",
       "      <td>1193</td>\n",
       "      <td>5</td>\n",
       "      <td>978300760</td>\n",
       "    </tr>\n",
       "    <tr>\n",
       "      <th>1</th>\n",
       "      <td>1</td>\n",
       "      <td>661</td>\n",
       "      <td>3</td>\n",
       "      <td>978302109</td>\n",
       "    </tr>\n",
       "    <tr>\n",
       "      <th>2</th>\n",
       "      <td>1</td>\n",
       "      <td>914</td>\n",
       "      <td>3</td>\n",
       "      <td>978301968</td>\n",
       "    </tr>\n",
       "    <tr>\n",
       "      <th>3</th>\n",
       "      <td>1</td>\n",
       "      <td>3408</td>\n",
       "      <td>4</td>\n",
       "      <td>978300275</td>\n",
       "    </tr>\n",
       "    <tr>\n",
       "      <th>4</th>\n",
       "      <td>1</td>\n",
       "      <td>2355</td>\n",
       "      <td>5</td>\n",
       "      <td>978824291</td>\n",
       "    </tr>\n",
       "  </tbody>\n",
       "</table>\n",
       "</div>"
      ],
      "text/plain": [
       "  UserID MovieID Rating  Timestamp\n",
       "0      1    1193      5  978300760\n",
       "1      1     661      3  978302109\n",
       "2      1     914      3  978301968\n",
       "3      1    3408      4  978300275\n",
       "4      1    2355      5  978824291"
      ]
     },
     "metadata": {},
     "execution_count": 6
    }
   ],
   "metadata": {}
  },
  {
   "cell_type": "code",
   "execution_count": 7,
   "source": [
    "genres = [\n",
    "        'Action',\n",
    "        'Adventure',\n",
    "        'Animation',\n",
    "        \"Children's\",\n",
    "        'Comedy',\n",
    "        'Crime',\n",
    "        'Documentary',\n",
    "        'Drama',\n",
    "        'Fantasy',\n",
    "        'Film-Noir',\n",
    "        'Horror',\n",
    "        'Musical',\n",
    "        'Mystery',\n",
    "        'Romance',\n",
    "        'Sci-Fi',\n",
    "        'Thriller',\n",
    "        'War',\n",
    "        'Western'\n",
    "]\n",
    "\n",
    "# genres = [\n",
    "#         \"MovieID\",\n",
    "#         'Action',\n",
    "#         'Adventure',\n",
    "#         'Animation',\n",
    "#         \"Children's\",\n",
    "#         'Comedy',\n",
    "#         'Crime',\n",
    "#         'Documentary',\n",
    "#         'Drama',\n",
    "#         'Fantasy',\n",
    "#         'Film-Noir',\n",
    "#         'Horror',\n",
    "#         'Musical',\n",
    "#         'Mystery',\n",
    "#         'Romance',\n",
    "#         'Sci-Fi',\n",
    "#         'Thriller',\n",
    "#         'War',\n",
    "#         'Western'\n",
    "# ]"
   ],
   "outputs": [],
   "metadata": {}
  },
  {
   "cell_type": "code",
   "execution_count": 8,
   "source": [
    "movies_genres_df = movies_df[['MovieID', 'Genres']]\n",
    "movies_genres_df.head(5)\n",
    "\n",
    "# movies_genres_df = movies_df[genres]\n",
    "# movies_genres_df.head(5)"
   ],
   "outputs": [
    {
     "output_type": "execute_result",
     "data": {
      "text/html": [
       "<div>\n",
       "<style scoped>\n",
       "    .dataframe tbody tr th:only-of-type {\n",
       "        vertical-align: middle;\n",
       "    }\n",
       "\n",
       "    .dataframe tbody tr th {\n",
       "        vertical-align: top;\n",
       "    }\n",
       "\n",
       "    .dataframe thead th {\n",
       "        text-align: right;\n",
       "    }\n",
       "</style>\n",
       "<table border=\"1\" class=\"dataframe\">\n",
       "  <thead>\n",
       "    <tr style=\"text-align: right;\">\n",
       "      <th></th>\n",
       "      <th>MovieID</th>\n",
       "      <th>Genres</th>\n",
       "    </tr>\n",
       "  </thead>\n",
       "  <tbody>\n",
       "    <tr>\n",
       "      <th>0</th>\n",
       "      <td>1</td>\n",
       "      <td>Animation|Children's|Comedy</td>\n",
       "    </tr>\n",
       "    <tr>\n",
       "      <th>1</th>\n",
       "      <td>2</td>\n",
       "      <td>Adventure|Children's|Fantasy</td>\n",
       "    </tr>\n",
       "    <tr>\n",
       "      <th>2</th>\n",
       "      <td>3</td>\n",
       "      <td>Comedy|Romance</td>\n",
       "    </tr>\n",
       "    <tr>\n",
       "      <th>3</th>\n",
       "      <td>4</td>\n",
       "      <td>Comedy|Drama</td>\n",
       "    </tr>\n",
       "    <tr>\n",
       "      <th>4</th>\n",
       "      <td>5</td>\n",
       "      <td>Comedy</td>\n",
       "    </tr>\n",
       "  </tbody>\n",
       "</table>\n",
       "</div>"
      ],
      "text/plain": [
       "   MovieID                        Genres\n",
       "0        1   Animation|Children's|Comedy\n",
       "1        2  Adventure|Children's|Fantasy\n",
       "2        3                Comedy|Romance\n",
       "3        4                  Comedy|Drama\n",
       "4        5                        Comedy"
      ]
     },
     "metadata": {},
     "execution_count": 8
    }
   ],
   "metadata": {}
  },
  {
   "cell_type": "code",
   "execution_count": 9,
   "source": [
    "def _split_and_index(string):\n",
    "    string = string.split('|')\n",
    "    for i, s in enumerate(string):\n",
    "        string[i] = genres.index(s)\n",
    "    return string\n",
    "\n",
    "movies_genres_df['Genres'] = movies_genres_df['Genres'].map(lambda x : _split_and_index(x))\n",
    "movies_genres_df.head(5)"
   ],
   "outputs": [
    {
     "output_type": "stream",
     "name": "stderr",
     "text": [
      "<ipython-input-9-dd2bb910045d>:7: SettingWithCopyWarning: \n",
      "A value is trying to be set on a copy of a slice from a DataFrame.\n",
      "Try using .loc[row_indexer,col_indexer] = value instead\n",
      "\n",
      "See the caveats in the documentation: https://pandas.pydata.org/pandas-docs/stable/user_guide/indexing.html#returning-a-view-versus-a-copy\n",
      "  movies_genres_df['Genres'] = movies_genres_df['Genres'].map(lambda x : _split_and_index(x))\n"
     ]
    },
    {
     "output_type": "execute_result",
     "data": {
      "text/html": [
       "<div>\n",
       "<style scoped>\n",
       "    .dataframe tbody tr th:only-of-type {\n",
       "        vertical-align: middle;\n",
       "    }\n",
       "\n",
       "    .dataframe tbody tr th {\n",
       "        vertical-align: top;\n",
       "    }\n",
       "\n",
       "    .dataframe thead th {\n",
       "        text-align: right;\n",
       "    }\n",
       "</style>\n",
       "<table border=\"1\" class=\"dataframe\">\n",
       "  <thead>\n",
       "    <tr style=\"text-align: right;\">\n",
       "      <th></th>\n",
       "      <th>MovieID</th>\n",
       "      <th>Genres</th>\n",
       "    </tr>\n",
       "  </thead>\n",
       "  <tbody>\n",
       "    <tr>\n",
       "      <th>0</th>\n",
       "      <td>1</td>\n",
       "      <td>[2, 3, 4]</td>\n",
       "    </tr>\n",
       "    <tr>\n",
       "      <th>1</th>\n",
       "      <td>2</td>\n",
       "      <td>[1, 3, 8]</td>\n",
       "    </tr>\n",
       "    <tr>\n",
       "      <th>2</th>\n",
       "      <td>3</td>\n",
       "      <td>[4, 13]</td>\n",
       "    </tr>\n",
       "    <tr>\n",
       "      <th>3</th>\n",
       "      <td>4</td>\n",
       "      <td>[4, 7]</td>\n",
       "    </tr>\n",
       "    <tr>\n",
       "      <th>4</th>\n",
       "      <td>5</td>\n",
       "      <td>[4]</td>\n",
       "    </tr>\n",
       "  </tbody>\n",
       "</table>\n",
       "</div>"
      ],
      "text/plain": [
       "   MovieID     Genres\n",
       "0        1  [2, 3, 4]\n",
       "1        2  [1, 3, 8]\n",
       "2        3    [4, 13]\n",
       "3        4     [4, 7]\n",
       "4        5        [4]"
      ]
     },
     "metadata": {},
     "execution_count": 9
    }
   ],
   "metadata": {}
  },
  {
   "cell_type": "code",
   "execution_count": 10,
   "source": [
    "movies_genres_df.isnull().sum()"
   ],
   "outputs": [
    {
     "output_type": "execute_result",
     "data": {
      "text/plain": [
       "MovieID    0\n",
       "Genres     0\n",
       "dtype: int64"
      ]
     },
     "metadata": {},
     "execution_count": 10
    }
   ],
   "metadata": {
    "scrolled": true
   }
  },
  {
   "cell_type": "code",
   "execution_count": 11,
   "source": [
    "len(movies_genres_df['MovieID'])"
   ],
   "outputs": [
    {
     "output_type": "execute_result",
     "data": {
      "text/plain": [
       "3883"
      ]
     },
     "metadata": {},
     "execution_count": 11
    }
   ],
   "metadata": {}
  },
  {
   "cell_type": "code",
   "execution_count": 12,
   "source": [
    "movies_genres_df['MovieID'].nunique()"
   ],
   "outputs": [
    {
     "output_type": "execute_result",
     "data": {
      "text/plain": [
       "3883"
      ]
     },
     "metadata": {},
     "execution_count": 12
    }
   ],
   "metadata": {}
  },
  {
   "cell_type": "code",
   "execution_count": 13,
   "source": [
    "user_movie_rating_df = ratings_df[['UserID','MovieID','Rating']]\n",
    "user_movie_rating_df.head(5)"
   ],
   "outputs": [
    {
     "output_type": "execute_result",
     "data": {
      "text/html": [
       "<div>\n",
       "<style scoped>\n",
       "    .dataframe tbody tr th:only-of-type {\n",
       "        vertical-align: middle;\n",
       "    }\n",
       "\n",
       "    .dataframe tbody tr th {\n",
       "        vertical-align: top;\n",
       "    }\n",
       "\n",
       "    .dataframe thead th {\n",
       "        text-align: right;\n",
       "    }\n",
       "</style>\n",
       "<table border=\"1\" class=\"dataframe\">\n",
       "  <thead>\n",
       "    <tr style=\"text-align: right;\">\n",
       "      <th></th>\n",
       "      <th>UserID</th>\n",
       "      <th>MovieID</th>\n",
       "      <th>Rating</th>\n",
       "    </tr>\n",
       "  </thead>\n",
       "  <tbody>\n",
       "    <tr>\n",
       "      <th>0</th>\n",
       "      <td>1</td>\n",
       "      <td>1193</td>\n",
       "      <td>5</td>\n",
       "    </tr>\n",
       "    <tr>\n",
       "      <th>1</th>\n",
       "      <td>1</td>\n",
       "      <td>661</td>\n",
       "      <td>3</td>\n",
       "    </tr>\n",
       "    <tr>\n",
       "      <th>2</th>\n",
       "      <td>1</td>\n",
       "      <td>914</td>\n",
       "      <td>3</td>\n",
       "    </tr>\n",
       "    <tr>\n",
       "      <th>3</th>\n",
       "      <td>1</td>\n",
       "      <td>3408</td>\n",
       "      <td>4</td>\n",
       "    </tr>\n",
       "    <tr>\n",
       "      <th>4</th>\n",
       "      <td>1</td>\n",
       "      <td>2355</td>\n",
       "      <td>5</td>\n",
       "    </tr>\n",
       "  </tbody>\n",
       "</table>\n",
       "</div>"
      ],
      "text/plain": [
       "  UserID MovieID Rating\n",
       "0      1    1193      5\n",
       "1      1     661      3\n",
       "2      1     914      3\n",
       "3      1    3408      4\n",
       "4      1    2355      5"
      ]
     },
     "metadata": {},
     "execution_count": 13
    }
   ],
   "metadata": {}
  },
  {
   "cell_type": "code",
   "execution_count": 14,
   "source": [
    "user_movie_rating_df.isnull().sum()"
   ],
   "outputs": [
    {
     "output_type": "execute_result",
     "data": {
      "text/plain": [
       "UserID     0\n",
       "MovieID    0\n",
       "Rating     0\n",
       "dtype: int64"
      ]
     },
     "metadata": {},
     "execution_count": 14
    }
   ],
   "metadata": {}
  },
  {
   "cell_type": "code",
   "execution_count": 15,
   "source": [
    "user_movie_rating_df['UserID'].nunique()"
   ],
   "outputs": [
    {
     "output_type": "execute_result",
     "data": {
      "text/plain": [
       "6040"
      ]
     },
     "metadata": {},
     "execution_count": 15
    }
   ],
   "metadata": {
    "scrolled": true
   }
  },
  {
   "cell_type": "code",
   "execution_count": 16,
   "source": [
    "user_movie_rating_df['MovieID'].nunique()"
   ],
   "outputs": [
    {
     "output_type": "execute_result",
     "data": {
      "text/plain": [
       "3706"
      ]
     },
     "metadata": {},
     "execution_count": 16
    }
   ],
   "metadata": {}
  },
  {
   "cell_type": "code",
   "execution_count": 18,
   "source": [
    "movies.reset_index"
   ],
   "outputs": [
    {
     "output_type": "error",
     "ename": "NameError",
     "evalue": "name 'movies' is not defined",
     "traceback": [
      "\u001b[0;31m---------------------------------------------------------------------------\u001b[0m",
      "\u001b[0;31mNameError\u001b[0m                                 Traceback (most recent call last)",
      "\u001b[0;32m<ipython-input-18-3fbd30bbf32d>\u001b[0m in \u001b[0;36m<module>\u001b[0;34m\u001b[0m\n\u001b[0;32m----> 1\u001b[0;31m \u001b[0mmovies\u001b[0m\u001b[0;34m.\u001b[0m\u001b[0mreset_index\u001b[0m\u001b[0;34m\u001b[0m\u001b[0;34m\u001b[0m\u001b[0m\n\u001b[0m",
      "\u001b[0;31mNameError\u001b[0m: name 'movies' is not defined"
     ]
    }
   ],
   "metadata": {}
  },
  {
   "cell_type": "markdown",
   "source": [
    "# Case 1"
   ],
   "metadata": {}
  },
  {
   "cell_type": "code",
   "execution_count": 16,
   "source": [
    "from tensorflow.keras.layers import InputLayer, Embedding, Dot, Reshape, Dense\n",
    "from tensorflow.keras.models import Model"
   ],
   "outputs": [],
   "metadata": {}
  },
  {
   "cell_type": "markdown",
   "source": [
    "### Movie Genre Embedding "
   ],
   "metadata": {}
  },
  {
   "cell_type": "code",
   "execution_count": 17,
   "source": [
    "class MovieGenreEmbedding(tf.keras.Model):\n",
    "    def __init__(self, len_movies, len_genres, embedding_size):\n",
    "        super(MovieGenreEmbedding, self).__init__()\n",
    "\n",
    "        self.m_g_input = InputLayer(name='input_layer', input_shape=(2,))\n",
    "        self.m_embedding = Embedding(name='movie_embedding', input_dim=len_movies, output_dim=embedding_size)\n",
    "        self.g_embedding = Embedding(name='genre_embedding', input_dim=len_genres, output_dim=embedding_size)\n",
    "        self.m_g_merge = Dot(name='movie_genre_dot', normalize=True, axes=1)\n",
    "        self.m_g_fc = Dense(1, activation='sigmoid')\n",
    "        \n",
    "    def call(self, x):\n",
    "        x = self.m_g_input(x)\n",
    "        memb = self.m_embedding(x[0])\n",
    "        gemb = self.g_embedding(x[1])\n",
    "        m_g = self.m_g_merge([memb, gemb])\n",
    "        return self.m_g_fc(m_g)"
   ],
   "outputs": [],
   "metadata": {}
  },
  {
   "cell_type": "markdown",
   "source": [
    "### User Embedding "
   ],
   "metadata": {}
  },
  {
   "cell_type": "code",
   "execution_count": 19,
   "source": [
    "class UserMovieEmbedding(tf.keras.Model):\n",
    "    def __init__(self, len_users, embedding_size):\n",
    "        super(UserMovieEmbedding, self).__init__()\n",
    "\n",
    "        self.m_u_input = InputLayer(name='input_layer', input_shape=(2,))\n",
    "        self.u_embedding = Embedding(name='user_embedding', input_dim=len_users, output_dim=embedding_size)\n",
    "        self.m_u_merge = Dot(name='movie_user_dot', normalize=False, axes=1)\n",
    "        self.m_u_fc = Dense(1, activation='sigmoid')\n",
    "        \n",
    "    def call(self, x):\n",
    "        x = self.m_u_input(x)\n",
    "        uemb = self.u_embedding(x[0])\n",
    "        m_u = self.m_u_merge([x[1], uemb])\n",
    "        \n",
    "        return self.m_u_fc(m_u)"
   ],
   "outputs": [],
   "metadata": {}
  },
  {
   "cell_type": "markdown",
   "source": [
    "## Data generator"
   ],
   "metadata": {}
  },
  {
   "cell_type": "markdown",
   "source": [
    "### Movie Genre batch generator"
   ],
   "metadata": {}
  },
  {
   "cell_type": "code",
   "execution_count": 20,
   "source": [
    "movies_genres_df.head()"
   ],
   "outputs": [
    {
     "output_type": "execute_result",
     "data": {
      "text/html": [
       "<div>\n",
       "<style scoped>\n",
       "    .dataframe tbody tr th:only-of-type {\n",
       "        vertical-align: middle;\n",
       "    }\n",
       "\n",
       "    .dataframe tbody tr th {\n",
       "        vertical-align: top;\n",
       "    }\n",
       "\n",
       "    .dataframe thead th {\n",
       "        text-align: right;\n",
       "    }\n",
       "</style>\n",
       "<table border=\"1\" class=\"dataframe\">\n",
       "  <thead>\n",
       "    <tr style=\"text-align: right;\">\n",
       "      <th></th>\n",
       "      <th>MovieID</th>\n",
       "      <th>Genres</th>\n",
       "    </tr>\n",
       "  </thead>\n",
       "  <tbody>\n",
       "    <tr>\n",
       "      <th>0</th>\n",
       "      <td>1</td>\n",
       "      <td>[2, 3, 4]</td>\n",
       "    </tr>\n",
       "    <tr>\n",
       "      <th>1</th>\n",
       "      <td>2</td>\n",
       "      <td>[1, 3, 8]</td>\n",
       "    </tr>\n",
       "    <tr>\n",
       "      <th>2</th>\n",
       "      <td>3</td>\n",
       "      <td>[4, 13]</td>\n",
       "    </tr>\n",
       "    <tr>\n",
       "      <th>3</th>\n",
       "      <td>4</td>\n",
       "      <td>[4, 7]</td>\n",
       "    </tr>\n",
       "    <tr>\n",
       "      <th>4</th>\n",
       "      <td>5</td>\n",
       "      <td>[4]</td>\n",
       "    </tr>\n",
       "  </tbody>\n",
       "</table>\n",
       "</div>"
      ],
      "text/plain": [
       "   MovieID     Genres\n",
       "0        1  [2, 3, 4]\n",
       "1        2  [1, 3, 8]\n",
       "2        3    [4, 13]\n",
       "3        4     [4, 7]\n",
       "4        5        [4]"
      ]
     },
     "metadata": {},
     "execution_count": 20
    }
   ],
   "metadata": {
    "scrolled": true
   }
  },
  {
   "cell_type": "code",
   "execution_count": 21,
   "source": [
    "movies_genres_dict = {m : g for m, g in zip(movies_genres_df[\"MovieID\"],movies_genres_df[\"Genres\"])}\n",
    "movies_genres_dict[1]"
   ],
   "outputs": [
    {
     "output_type": "execute_result",
     "data": {
      "text/plain": [
       "[2, 3, 4]"
      ]
     },
     "metadata": {},
     "execution_count": 21
    }
   ],
   "metadata": {}
  },
  {
   "cell_type": "code",
   "execution_count": 22,
   "source": [
    "positive_m_g_pairs = []\n",
    "negative_m_g_pairs = []\n",
    "for movie in movies_genres_df[\"MovieID\"]:\n",
    "    for i in range(len(genres)):\n",
    "        if i in movies_genres_dict[movie]:\n",
    "            positive_m_g_pairs.append((movie, i, 1))\n",
    "        else:\n",
    "            negative_m_g_pairs.append((movie, i, 0))"
   ],
   "outputs": [],
   "metadata": {}
  },
  {
   "cell_type": "code",
   "execution_count": 23,
   "source": [
    "def generate_movie_genre_batch(positive_pairs, negative_pairs, batch_size, negative_ratio=0.5):\n",
    "    \n",
    "    batch = np.zeros((batch_size, 3))\n",
    "    num_of_positive = batch_size-int(batch_size*negative_ratio)\n",
    "    \n",
    "    while True:\n",
    "        idx = np.random.choice(len(positive_pairs), num_of_positive)\n",
    "        positive_data = np.array(positive_pairs)[idx]\n",
    "        for i, data in enumerate(positive_data):\n",
    "            batch[i] = data\n",
    "        \n",
    "        idx = np.random.choice(len(negative_pairs), int(batch_size*negative_ratio))\n",
    "        negative_data = np.array(negative_pairs)[idx]\n",
    "        for i, data in enumerate(negative_data):\n",
    "            batch[num_of_positive+i] = data\n",
    "        \n",
    "        np.random.shuffle(batch)\n",
    "        yield batch[:,0], batch[:,1], batch[:,2]"
   ],
   "outputs": [],
   "metadata": {}
  },
  {
   "cell_type": "code",
   "execution_count": 24,
   "source": [
    "user_movie_rating_df = user_movie_rating_df.apply(np.int32)\n",
    "user_movie_rating_df.head()"
   ],
   "outputs": [
    {
     "output_type": "execute_result",
     "data": {
      "text/html": [
       "<div>\n",
       "<style scoped>\n",
       "    .dataframe tbody tr th:only-of-type {\n",
       "        vertical-align: middle;\n",
       "    }\n",
       "\n",
       "    .dataframe tbody tr th {\n",
       "        vertical-align: top;\n",
       "    }\n",
       "\n",
       "    .dataframe thead th {\n",
       "        text-align: right;\n",
       "    }\n",
       "</style>\n",
       "<table border=\"1\" class=\"dataframe\">\n",
       "  <thead>\n",
       "    <tr style=\"text-align: right;\">\n",
       "      <th></th>\n",
       "      <th>UserID</th>\n",
       "      <th>MovieID</th>\n",
       "      <th>Rating</th>\n",
       "    </tr>\n",
       "  </thead>\n",
       "  <tbody>\n",
       "    <tr>\n",
       "      <th>0</th>\n",
       "      <td>1</td>\n",
       "      <td>1193</td>\n",
       "      <td>5</td>\n",
       "    </tr>\n",
       "    <tr>\n",
       "      <th>1</th>\n",
       "      <td>1</td>\n",
       "      <td>661</td>\n",
       "      <td>3</td>\n",
       "    </tr>\n",
       "    <tr>\n",
       "      <th>2</th>\n",
       "      <td>1</td>\n",
       "      <td>914</td>\n",
       "      <td>3</td>\n",
       "    </tr>\n",
       "    <tr>\n",
       "      <th>3</th>\n",
       "      <td>1</td>\n",
       "      <td>3408</td>\n",
       "      <td>4</td>\n",
       "    </tr>\n",
       "    <tr>\n",
       "      <th>4</th>\n",
       "      <td>1</td>\n",
       "      <td>2355</td>\n",
       "      <td>5</td>\n",
       "    </tr>\n",
       "  </tbody>\n",
       "</table>\n",
       "</div>"
      ],
      "text/plain": [
       "   UserID  MovieID  Rating\n",
       "0       1     1193       5\n",
       "1       1      661       3\n",
       "2       1      914       3\n",
       "3       1     3408       4\n",
       "4       1     2355       5"
      ]
     },
     "metadata": {},
     "execution_count": 24
    }
   ],
   "metadata": {
    "scrolled": false
   }
  },
  {
   "cell_type": "markdown",
   "source": [
    "### User batch generator"
   ],
   "metadata": {}
  },
  {
   "cell_type": "code",
   "execution_count": 25,
   "source": [
    "modified_user_movie_rating_df = user_movie_rating_df.apply(np.int32)\n",
    "index_names = modified_user_movie_rating_df[modified_user_movie_rating_df['Rating'] < 4].index\n",
    "modified_user_movie_rating_df = modified_user_movie_rating_df.drop(index_names)\n",
    "modified_user_movie_rating_df = modified_user_movie_rating_df.drop('Rating', axis=1)\n",
    "u_m_pairs = modified_user_movie_rating_df.to_numpy()\n",
    "u_m_pairs[:5]"
   ],
   "outputs": [
    {
     "output_type": "execute_result",
     "data": {
      "text/plain": [
       "array([[   1, 1193],\n",
       "       [   1, 3408],\n",
       "       [   1, 2355],\n",
       "       [   1, 1287],\n",
       "       [   1, 2804]], dtype=int32)"
      ]
     },
     "metadata": {},
     "execution_count": 25
    }
   ],
   "metadata": {}
  },
  {
   "cell_type": "code",
   "execution_count": 26,
   "source": [
    "positive_user_movie_dict = {u : [] for u in range(1, max(modified_user_movie_rating_df['UserID'])+1)}\n",
    "for data in modified_user_movie_rating_df.iterrows():\n",
    "    positive_user_movie_dict[data[1][0]].append(data[1][1])\n",
    "positive_user_movie_dict[1]"
   ],
   "outputs": [
    {
     "output_type": "execute_result",
     "data": {
      "text/plain": [
       "[1193,\n",
       " 3408,\n",
       " 2355,\n",
       " 1287,\n",
       " 2804,\n",
       " 594,\n",
       " 919,\n",
       " 595,\n",
       " 938,\n",
       " 2398,\n",
       " 2918,\n",
       " 1035,\n",
       " 2791,\n",
       " 2018,\n",
       " 3105,\n",
       " 2797,\n",
       " 1270,\n",
       " 527,\n",
       " 48,\n",
       " 1097,\n",
       " 1721,\n",
       " 1545,\n",
       " 2294,\n",
       " 3186,\n",
       " 1566,\n",
       " 588,\n",
       " 1907,\n",
       " 783,\n",
       " 1836,\n",
       " 1022,\n",
       " 2762,\n",
       " 150,\n",
       " 1,\n",
       " 1961,\n",
       " 1962,\n",
       " 2692,\n",
       " 260,\n",
       " 1028,\n",
       " 1029,\n",
       " 1207,\n",
       " 2028,\n",
       " 531,\n",
       " 3114,\n",
       " 608,\n",
       " 1246]"
      ]
     },
     "metadata": {},
     "execution_count": 26
    }
   ],
   "metadata": {
    "scrolled": true
   }
  },
  {
   "cell_type": "code",
   "execution_count": 27,
   "source": [
    "def generate_user_movie_batch(positive_pairs, batch_size, negative_ratio=0.5):\n",
    "    batch = np.zeros((batch_size, 3))\n",
    "    positive_batch_size = batch_size - int(batch_size*negative_ratio)\n",
    "    max_user_id = max(modified_user_movie_rating_df['UserID'])+1\n",
    "    max_movie_id = max(modified_user_movie_rating_df['MovieID'])+1\n",
    "    \n",
    "    while True:\n",
    "        idx = np.random.choice(len(positive_pairs), positive_batch_size)\n",
    "        data = positive_pairs[idx]\n",
    "        for i, d in enumerate(data):\n",
    "            batch[i] = (d[0], d[1], 1)\n",
    "        \n",
    "        while i+1 < batch_size:\n",
    "            u = np.random.randint(1, max_user_id)\n",
    "            m = np.random.randint(1, max_movie_id)\n",
    "            if m not in positive_user_movie_dict[u]:\n",
    "                i += 1\n",
    "                batch[i] = (u, m, 0)\n",
    "        \n",
    "        np.random.shuffle(batch)\n",
    "        yield batch[:,0], batch[:,1], batch[:,2]"
   ],
   "outputs": [],
   "metadata": {}
  },
  {
   "cell_type": "code",
   "execution_count": 28,
   "source": [
    "LEN_MOVIES = max(movies_genres_df[\"MovieID\"]) + 1\n",
    "LEN_GENRES = len(genres)+1\n",
    "LEN_USERS = max(user_movie_rating_df['UserID']) + 1\n",
    "EMBEDDING_SIZE = 100\n",
    "\n",
    "MAX_EPOCH = 100\n",
    "MOVIE_BATCH_SIZE = 128\n",
    "MOVIE_STEP_PER_EPOCH = len(positive_m_g_pairs) // MOVIE_BATCH_SIZE"
   ],
   "outputs": [],
   "metadata": {}
  },
  {
   "cell_type": "code",
   "execution_count": 29,
   "source": [
    "MOVIE_STEP_PER_EPOCH"
   ],
   "outputs": [
    {
     "output_type": "execute_result",
     "data": {
      "text/plain": [
       "50"
      ]
     },
     "metadata": {},
     "execution_count": 29
    }
   ],
   "metadata": {}
  },
  {
   "cell_type": "markdown",
   "source": [
    "### Movie Genre Embedding"
   ],
   "metadata": {}
  },
  {
   "cell_type": "code",
   "execution_count": null,
   "source": [
    "m_g_model = MovieGenreEmbedding(LEN_MOVIES, LEN_GENRES, EMBEDDING_SIZE)"
   ],
   "outputs": [],
   "metadata": {}
  },
  {
   "cell_type": "code",
   "execution_count": null,
   "source": [
    "m_g_model([np.zeros((1)),np.zeros((1))])\n",
    "m_g_model.summary()"
   ],
   "outputs": [],
   "metadata": {}
  },
  {
   "cell_type": "code",
   "execution_count": null,
   "source": [
    "optimizer = tf.keras.optimizers.Adam()\n",
    "bce = tf.keras.losses.BinaryCrossentropy()"
   ],
   "outputs": [],
   "metadata": {}
  },
  {
   "cell_type": "code",
   "execution_count": null,
   "source": [
    "m_g_train_loss = tf.keras.metrics.Mean(name='train_loss')\n",
    "m_g_train_accuracy = tf.keras.metrics.BinaryAccuracy(name='train_accuracy')\n",
    "\n",
    "@tf.function\n",
    "def m_g_train_step(m_g_inputs, labels):\n",
    "    with tf.GradientTape() as tape:\n",
    "        predictions = m_g_model(m_g_inputs, training=True)\n",
    "        loss = bce(labels, predictions)\n",
    "    gradients = tape.gradient(loss, m_g_model.trainable_variables)\n",
    "    optimizer.apply_gradients(zip(gradients, m_g_model.trainable_variables))\n",
    "\n",
    "    m_g_train_loss(loss)\n",
    "    m_g_train_accuracy(labels, predictions)"
   ],
   "outputs": [],
   "metadata": {}
  },
  {
   "cell_type": "code",
   "execution_count": null,
   "source": [
    "m_g_losses = []\n",
    "\n",
    "for epoch in range(MAX_EPOCH):\n",
    "    \n",
    "    m_g_generator = generate_movie_genre_batch(\n",
    "        positive_m_g_pairs, \n",
    "        negative_m_g_pairs, \n",
    "        MOVIE_BATCH_SIZE, \n",
    "        negative_ratio=0.5\n",
    "    )\n",
    "    \n",
    "    for step in range(MOVIE_STEP_PER_EPOCH):\n",
    "        m_batch, g_batch, m_g_label_batch = next(m_g_generator)\n",
    "        m_g_train_step([m_batch, g_batch], m_g_label_batch)\n",
    "        \n",
    "        print(f'{epoch} epoch, {step} steps, Loss: {m_g_train_loss.result():0.4f}, Accuracy: {m_g_train_accuracy.result() * 100:0.1f}', end='\\r')\n",
    "\n",
    "    m_g_losses.append(m_g_train_loss.result())"
   ],
   "outputs": [],
   "metadata": {}
  },
  {
   "cell_type": "code",
   "execution_count": null,
   "source": [
    "plt.plot(m_g_losses)"
   ],
   "outputs": [],
   "metadata": {
    "scrolled": true
   }
  },
  {
   "cell_type": "code",
   "execution_count": null,
   "source": [
    "m_g_model.save_weights('./save_weights/m_g_model_weights.h5')"
   ],
   "outputs": [],
   "metadata": {}
  },
  {
   "cell_type": "markdown",
   "source": [
    "### User Movie Embedding "
   ],
   "metadata": {}
  },
  {
   "cell_type": "code",
   "execution_count": null,
   "source": [
    "MAX_EPOCH = 150\n",
    "INIT_USER_BATCH_SIZE = 64\n",
    "FINAL_USER_BATCH_SIZE = 1024"
   ],
   "outputs": [],
   "metadata": {}
  },
  {
   "cell_type": "code",
   "execution_count": null,
   "source": [
    "u_m_model = UserMovieEmbedding(LEN_USERS, EMBEDDING_SIZE)"
   ],
   "outputs": [],
   "metadata": {}
  },
  {
   "cell_type": "code",
   "execution_count": null,
   "source": [
    "u_m_model([np.zeros((1)),np.zeros((1,100))])\n",
    "u_m_model.summary()"
   ],
   "outputs": [],
   "metadata": {}
  },
  {
   "cell_type": "code",
   "execution_count": null,
   "source": [
    "optimizer = tf.keras.optimizers.Adam()\n",
    "bce = tf.keras.losses.BinaryCrossentropy()"
   ],
   "outputs": [],
   "metadata": {}
  },
  {
   "cell_type": "code",
   "execution_count": null,
   "source": [
    "u_m_train_loss = tf.keras.metrics.Mean(name='train_loss')\n",
    "u_m_train_accuracy = tf.keras.metrics.BinaryAccuracy(name='train_accuracy')\n",
    "\n",
    "\n",
    "@tf.function\n",
    "def u_m_train_step(u_m_inputs, labels):\n",
    "    with tf.GradientTape() as tape:\n",
    "        predictions = u_m_model(u_m_inputs, training=True)\n",
    "        loss = bce(labels, predictions)\n",
    "    gradients = tape.gradient(loss, u_m_model.trainable_variables)\n",
    "    optimizer.apply_gradients(zip(gradients, u_m_model.trainable_variables))\n",
    "\n",
    "    u_m_train_loss(loss)\n",
    "    u_m_train_accuracy(labels, predictions)"
   ],
   "outputs": [],
   "metadata": {}
  },
  {
   "cell_type": "code",
   "execution_count": null,
   "source": [
    "u_m_losses = []\n",
    "\n",
    "for epoch in range(MAX_EPOCH):\n",
    "    \n",
    "    batch_size = INIT_USER_BATCH_SIZE * (epoch+1)\n",
    "    if batch_size > FINAL_USER_BATCH_SIZE:\n",
    "        batch_size = FINAL_USER_BATCH_SIZE\n",
    "    u_m_generator = generate_user_movie_batch(u_m_pairs, batch_size)\n",
    "    \n",
    "    for step in range(len(user_movie_rating_df)//batch_size):\n",
    "        u_batch, m_batch, u_m_label_batch = next(u_m_generator)\n",
    "        m_batch = m_g_model.get_layer('movie_embedding')(m_batch)\n",
    "        u_m_train_step([u_batch, m_batch], u_m_label_batch)\n",
    "        \n",
    "        print(f'{epoch} epoch, Batch size : {batch_size}, {step} steps, Loss: {u_m_train_loss.result():0.4f}, Accuracy: {u_m_train_accuracy.result() * 100:0.1f}', end='\\r')\n",
    "\n",
    "    u_m_losses.append(u_m_train_loss.result())"
   ],
   "outputs": [],
   "metadata": {}
  },
  {
   "cell_type": "code",
   "execution_count": null,
   "source": [
    "plt.plot(u_m_losses)"
   ],
   "outputs": [],
   "metadata": {}
  },
  {
   "cell_type": "code",
   "execution_count": null,
   "source": [
    "u_m_model.save_weights('./save_weights/u_m_model_weights.h5')"
   ],
   "outputs": [],
   "metadata": {}
  },
  {
   "cell_type": "code",
   "execution_count": null,
   "source": [
    "# embedded movie dataframe \n",
    "embedded_movie = movies_genres_df['MovieID'].apply(m_g_model.get_layer('movie_embedding'))\n",
    "columns = [x for x in range(100)]\n",
    "embedded_movie_df = pd.DataFrame(columns = columns)\n",
    "for data in embedded_movie:\n",
    "    embedded_movie_df = embedded_movie_df.append(pd.Series(data), ignore_index=True)\n",
    "embedded_movie_df.head()"
   ],
   "outputs": [],
   "metadata": {}
  },
  {
   "cell_type": "code",
   "execution_count": null,
   "source": [
    "from sklearn.preprocessing import StandardScaler\n",
    "from sklearn.decomposition import PCA\n",
    "\n",
    "movie_scaled = StandardScaler().fit_transform(embedded_movie_df)\n",
    "pca = PCA(n_components=2)\n",
    "pca.fit(movie_scaled)\n",
    "movie_pca = pca.transform(movie_scaled)\n",
    "pca_columns=[f'{n}' for n in range(2)]\n",
    "movie_df_pca = pd.DataFrame(movie_pca,columns=pca_columns)\n",
    "movie_df_pca = pd.concat([movie_df_pca, movies_df[\"Title\"]], axis=1)\n",
    "movie_df_pca = pd.concat([movie_df_pca, movies_df[\"Genres\"]], axis=1)\n",
    "movie_df_pca.head()"
   ],
   "outputs": [],
   "metadata": {}
  },
  {
   "cell_type": "code",
   "execution_count": null,
   "source": [
    "fig = px.scatter(movie_df_pca, x='0', y='1', color='Genres')\n",
    "fig.show()"
   ],
   "outputs": [],
   "metadata": {
    "scrolled": false
   }
  },
  {
   "cell_type": "code",
   "execution_count": null,
   "source": [
    "import matplotlib.pyplot as plt\n",
    "from sklearn.manifold import TSNE\n",
    "\n",
    "tsne = TSNE(n_components=2).fit_transform(embedded_movie_df)\n",
    "tsne_df = pd.DataFrame({'x': tsne[:, 0], 'y':tsne[:, 1]})\n",
    "tsne_df = pd.concat([tsne_df, movies_df[\"Title\"]], axis=1)\n",
    "tsne_df = pd.concat([tsne_df, movies_df[\"Genres\"]], axis=1)\n",
    "tsne_df.head()"
   ],
   "outputs": [],
   "metadata": {}
  },
  {
   "cell_type": "code",
   "execution_count": null,
   "source": [
    "fig = px.scatter(tsne_df, x='x', y='y', color='Genres')\n",
    "fig.show()"
   ],
   "outputs": [],
   "metadata": {
    "scrolled": false
   }
  },
  {
   "cell_type": "code",
   "execution_count": null,
   "source": [
    "# embedded user dataframe \n",
    "embedded_user = users_df['UserID'].apply(np.int32).apply(u_m_model.get_layer('user_embedding'))\n",
    "columns = [x for x in range(100)]\n",
    "embedded_user_df = pd.DataFrame(columns = columns)\n",
    "for data in embedded_user:\n",
    "    embedded_user_df = embedded_user_df.append(pd.Series(data.numpy()), ignore_index=True)\n",
    "embedded_user_df.head()"
   ],
   "outputs": [],
   "metadata": {}
  },
  {
   "cell_type": "code",
   "execution_count": null,
   "source": [
    "users_df.head()"
   ],
   "outputs": [],
   "metadata": {}
  },
  {
   "cell_type": "code",
   "execution_count": null,
   "source": [
    "from sklearn.preprocessing import StandardScaler\n",
    "from sklearn.decomposition import PCA\n",
    "\n",
    "user_scaled = StandardScaler().fit_transform(embedded_user_df)\n",
    "pca = PCA(n_components=2)\n",
    "pca.fit(user_scaled)\n",
    "user_pca = pca.transform(user_scaled)\n",
    "pca_columns=[f'{n}' for n in range(2)]\n",
    "user_df_pca = pd.DataFrame(user_pca,columns=pca_columns)\n",
    "user_df_pca = pd.concat([user_df_pca, users_df[\"Gender\"]], axis=1)\n",
    "user_df_pca = pd.concat([user_df_pca, users_df[\"Age\"]], axis=1)\n",
    "user_df_pca = pd.concat([user_df_pca, users_df[\"Zip-code\"]], axis=1)\n",
    "user_df_pca.head()"
   ],
   "outputs": [],
   "metadata": {}
  },
  {
   "cell_type": "code",
   "execution_count": null,
   "source": [
    "fig = px.scatter(user_df_pca, x='0', y='1', hover_data=user_df_pca)\n",
    "fig.show()"
   ],
   "outputs": [],
   "metadata": {}
  },
  {
   "cell_type": "code",
   "execution_count": null,
   "source": [
    "import matplotlib.pyplot as plt\n",
    "from sklearn.manifold import TSNE\n",
    "\n",
    "tsne = TSNE(n_components=2).fit_transform(embedded_user_df)\n",
    "tsne_df = pd.DataFrame({'x': tsne[:, 0], 'y':tsne[:, 1]})\n",
    "tsne_df = pd.concat([tsne_df, users_df[\"Gender\"]], axis=1)\n",
    "tsne_df = pd.concat([tsne_df, users_df[\"Age\"]], axis=1)\n",
    "tsne_df = pd.concat([tsne_df, users_df[\"Zip-code\"]], axis=1)\n",
    "tsne_df.head()"
   ],
   "outputs": [],
   "metadata": {}
  },
  {
   "cell_type": "code",
   "execution_count": null,
   "source": [
    "fig = px.scatter(tsne_df, x='x', y='y', hover_data=tsne_df)\n",
    "fig.show()"
   ],
   "outputs": [],
   "metadata": {}
  },
  {
   "cell_type": "markdown",
   "source": [
    "#  Case 2"
   ],
   "metadata": {}
  },
  {
   "cell_type": "code",
   "execution_count": 21,
   "source": [
    "LEN_MOVIES = max(movies_genres_df[\"MovieID\"])\n",
    "LEN_GENRES = len(genres)+1\n",
    "LEN_USERS = max(user_movie_rating_df['UserID'])\n",
    "EMBEDDING_SIZE = 50"
   ],
   "outputs": [],
   "metadata": {}
  },
  {
   "cell_type": "code",
   "execution_count": 22,
   "source": [
    "LEN_USERS"
   ],
   "outputs": [
    {
     "output_type": "execute_result",
     "data": {
      "text/plain": [
       "943"
      ]
     },
     "metadata": {},
     "execution_count": 22
    }
   ],
   "metadata": {}
  },
  {
   "cell_type": "code",
   "execution_count": 23,
   "source": [
    "LEN_MOVIES"
   ],
   "outputs": [
    {
     "output_type": "execute_result",
     "data": {
      "text/plain": [
       "1682"
      ]
     },
     "metadata": {},
     "execution_count": 23
    }
   ],
   "metadata": {}
  },
  {
   "cell_type": "code",
   "execution_count": 24,
   "source": [
    "class TestUserMovieEmbedding(tf.keras.Model):\n",
    "    def __init__(self, len_users, len_movies, embedding_size):\n",
    "        super(TestUserMovieEmbedding, self).__init__()\n",
    "        self.m_u_input = InputLayer(name='input_layer', input_shape=(2,))\n",
    "        self.u_embedding = Embedding(name='user_embedding', input_dim=len_users, output_dim=embedding_size)\n",
    "        self.m_embedding = Embedding(name='movie_embedding', input_dim=len_movies, output_dim=embedding_size)\n",
    "        self.m_u_merge = Dot(name='movie_user_dot', normalize=False, axes=1)\n",
    "        self.m_u_fc = Dense(1, activation='sigmoid')\n",
    "        \n",
    "    def call(self, x):\n",
    "        x = self.m_u_input(x)\n",
    "        uemb = self.u_embedding(x[0])\n",
    "        memb = self.m_embedding(x[1])\n",
    "        m_u = self.m_u_merge([memb, uemb])\n",
    "        return self.m_u_fc(m_u)"
   ],
   "outputs": [],
   "metadata": {}
  },
  {
   "cell_type": "code",
   "execution_count": 25,
   "source": [
    "MAX_EPOCH = 150\n",
    "INIT_USER_BATCH_SIZE = 32\n",
    "FINAL_USER_BATCH_SIZE = 1024"
   ],
   "outputs": [],
   "metadata": {}
  },
  {
   "cell_type": "code",
   "execution_count": 26,
   "source": [
    "test_model = TestUserMovieEmbedding(LEN_USERS, LEN_MOVIES, EMBEDDING_SIZE)\n",
    "test_model([np.zeros((1)),np.zeros((1))])\n",
    "test_model.summary()"
   ],
   "outputs": [
    {
     "output_type": "stream",
     "name": "stdout",
     "text": [
      "Model: \"test_user_movie_embedding\"\n",
      "_________________________________________________________________\n",
      "Layer (type)                 Output Shape              Param #   \n",
      "=================================================================\n",
      "input_layer (InputLayer)     [(None, 2)]               0         \n",
      "_________________________________________________________________\n",
      "user_embedding (Embedding)   multiple                  47150     \n",
      "_________________________________________________________________\n",
      "movie_embedding (Embedding)  multiple                  84100     \n",
      "_________________________________________________________________\n",
      "movie_user_dot (Dot)         multiple                  0         \n",
      "_________________________________________________________________\n",
      "dense (Dense)                multiple                  2         \n",
      "=================================================================\n",
      "Total params: 131,252\n",
      "Trainable params: 131,252\n",
      "Non-trainable params: 0\n",
      "_________________________________________________________________\n"
     ]
    }
   ],
   "metadata": {}
  },
  {
   "cell_type": "code",
   "execution_count": 27,
   "source": [
    "optimizer = tf.keras.optimizers.Adam()\n",
    "bce = tf.keras.losses.BinaryCrossentropy()"
   ],
   "outputs": [],
   "metadata": {}
  },
  {
   "cell_type": "code",
   "execution_count": 28,
   "source": [
    "test_train_loss = tf.keras.metrics.Mean(name='train_loss')\n",
    "test_train_accuracy = tf.keras.metrics.BinaryAccuracy(name='train_accuracy')\n",
    "\n",
    "\n",
    "@tf.function\n",
    "def test_train_step(test_inputs, labels):\n",
    "    with tf.GradientTape() as tape:\n",
    "        predictions = test_model(test_inputs, training=True)\n",
    "        loss = bce(labels, predictions)\n",
    "    gradients = tape.gradient(loss, test_model.trainable_variables)\n",
    "    optimizer.apply_gradients(zip(gradients, test_model.trainable_variables))\n",
    "\n",
    "    test_train_loss(loss)\n",
    "    test_train_accuracy(labels, predictions)"
   ],
   "outputs": [],
   "metadata": {}
  },
  {
   "cell_type": "code",
   "execution_count": 29,
   "source": [
    "test_losses = []\n",
    "\n",
    "for epoch in range(MAX_EPOCH):\n",
    "    \n",
    "    batch_size = INIT_USER_BATCH_SIZE * (epoch+1)\n",
    "    if batch_size > FINAL_USER_BATCH_SIZE:\n",
    "        batch_size = FINAL_USER_BATCH_SIZE\n",
    "    test_generator = generate_user_movie_batch(u_m_pairs, batch_size)\n",
    "    \n",
    "    for step in range(len(user_movie_rating_df)//batch_size):\n",
    "        u_batch, m_batch, u_m_label_batch = next(test_generator)\n",
    "        test_train_step([u_batch, m_batch], u_m_label_batch)\n",
    "        \n",
    "        print(f'{epoch} epoch, Batch size : {batch_size}, {step} steps, Loss: {test_train_loss.result():0.4f}, Accuracy: {test_train_accuracy.result() * 100:0.1f}', end='\\r')\n",
    "\n",
    "    test_losses.append(test_train_loss.result())"
   ],
   "outputs": [
    {
     "output_type": "stream",
     "name": "stdout",
     "text": []
    }
   ],
   "metadata": {}
  },
  {
   "cell_type": "code",
   "execution_count": 30,
   "source": [
    "plt.plot(test_losses)"
   ],
   "outputs": [
    {
     "output_type": "execute_result",
     "data": {
      "text/plain": [
       "[<matplotlib.lines.Line2D at 0x7ff7504778e0>]"
      ]
     },
     "metadata": {},
     "execution_count": 30
    }
   ],
   "metadata": {}
  },
  {
   "cell_type": "code",
   "execution_count": 31,
   "source": [
    "test_model.save_weights('model/movie_lens_100k/user_movie_at_once.h5')"
   ],
   "outputs": [],
   "metadata": {}
  },
  {
   "cell_type": "code",
   "execution_count": null,
   "source": [
    "embedded_movie = movies_genres_df['MovieID'].apply(test_model.get_layer('movie_embedding'))\n",
    "columns = [x for x in range(100)]\n",
    "embedded_movie_df = pd.DataFrame(columns = columns)\n",
    "for data in embedded_movie:\n",
    "    embedded_movie_df = embedded_movie_df.append(pd.Series(data), ignore_index=True)\n",
    "embedded_movie_df.head()\n",
    "\n",
    "from sklearn.preprocessing import StandardScaler\n",
    "from sklearn.decomposition import PCA\n",
    "\n",
    "movie_scaled = StandardScaler().fit_transform(embedded_movie_df)\n",
    "pca = PCA(n_components=2)\n",
    "pca.fit(movie_scaled)\n",
    "movie_pca = pca.transform(movie_scaled)\n",
    "pca_columns=[f'{n}' for n in range(2)]\n",
    "movie_df_pca = pd.DataFrame(movie_pca,columns=pca_columns)\n",
    "movie_df_pca = pd.concat([movie_df_pca, movies_df[\"Title\"]], axis=1)\n",
    "movie_df_pca = pd.concat([movie_df_pca, movies_df[\"Genres\"]], axis=1)\n",
    "movie_df_pca.head()\n",
    "\n",
    "fig = px.scatter(movie_df_pca, x='0', y='1', color='Genres')\n",
    "fig.show()"
   ],
   "outputs": [],
   "metadata": {}
  },
  {
   "cell_type": "code",
   "execution_count": null,
   "source": [
    "import matplotlib.pyplot as plt\n",
    "from sklearn.manifold import TSNE\n",
    "\n",
    "tsne = TSNE(n_components=2).fit_transform(embedded_movie_df)\n",
    "tsne_df = pd.DataFrame({'x': tsne[:, 0], 'y':tsne[:, 1]})\n",
    "tsne_df = pd.concat([tsne_df, movies_df[\"Title\"]], axis=1)\n",
    "tsne_df = pd.concat([tsne_df, movies_df[\"Genres\"]], axis=1)\n",
    "tsne_df.head()\n",
    "\n",
    "fig = px.scatter(tsne_df, x='x', y='y', color='Genres')\n",
    "fig.show()"
   ],
   "outputs": [],
   "metadata": {}
  },
  {
   "cell_type": "code",
   "execution_count": null,
   "source": [
    "embedded_user = users_df['UserID'].apply(np.int32).apply(test_model.get_layer('user_embedding'))\n",
    "columns = [x for x in range(100)]\n",
    "embedded_user_df = pd.DataFrame(columns = columns)\n",
    "for data in embedded_user:\n",
    "    embedded_user_df = embedded_user_df.append(pd.Series(data.numpy()), ignore_index=True)\n",
    "embedded_user_df.head()"
   ],
   "outputs": [],
   "metadata": {}
  },
  {
   "cell_type": "code",
   "execution_count": null,
   "source": [
    "import matplotlib.pyplot as plt\n",
    "from sklearn.manifold import TSNE\n",
    "\n",
    "tsne = TSNE(n_components=2).fit_transform(embedded_user_df)\n",
    "tsne_df = pd.DataFrame({'x': tsne[:, 0], 'y':tsne[:, 1]})\n",
    "tsne_df = pd.concat([tsne_df, users_df[\"Gender\"]], axis=1)\n",
    "tsne_df = pd.concat([tsne_df, users_df[\"Age\"]], axis=1)\n",
    "tsne_df = pd.concat([tsne_df, users_df[\"Zip-code\"]], axis=1)\n",
    "tsne_df.head()"
   ],
   "outputs": [],
   "metadata": {}
  },
  {
   "cell_type": "code",
   "execution_count": null,
   "source": [
    "fig = px.scatter(tsne_df, x='x', y='y', color='Age', hover_data=tsne_df)\n",
    "fig.show()"
   ],
   "outputs": [],
   "metadata": {}
  }
 ],
 "metadata": {
  "colab": {
   "collapsed_sections": [],
   "include_colab_link": true,
   "machine_shape": "hm",
   "name": "RL_ActorCritic_DDPG_Movie_Recommendation.ipynb",
   "provenance": []
  },
  "kernelspec": {
   "name": "python3",
   "display_name": "Python 3.8.11 64-bit ('recsysrl': conda)"
  },
  "language_info": {
   "codemirror_mode": {
    "name": "ipython",
    "version": 3
   },
   "file_extension": ".py",
   "mimetype": "text/x-python",
   "name": "python",
   "nbconvert_exporter": "python",
   "pygments_lexer": "ipython3",
   "version": "3.8.11"
  },
  "interpreter": {
   "hash": "dd2c8efcc0287468cbdc8d48ef7ab2401bf84f5d5031f37633db7ca0dfd74379"
  }
 },
 "nbformat": 4,
 "nbformat_minor": 1
}