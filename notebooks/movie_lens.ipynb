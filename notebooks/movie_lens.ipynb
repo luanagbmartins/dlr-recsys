{
 "cells": [
  {
   "cell_type": "code",
   "execution_count": null,
   "metadata": {},
   "outputs": [],
   "source": [
    "import os\n",
    "import json\n",
    "import pickle\n",
    "\n",
    "import torch\n",
    "import numpy as np\n",
    "import recmetrics as rm\n",
    "import scipy.sparse as sp\n",
    "from sklearn.manifold import TSNE\n",
    "from sklearn.metrics.pairwise import cosine_similarity\n",
    "\n",
    "import pandas as pd\n",
    "pd.set_option('display.max_columns', None)\n",
    "\n",
    "\n",
    "from matplotlib import pyplot as plt\n",
    "\n",
    "import plotly.offline as py\n",
    "import plotly.express as px\n",
    "import plotly.graph_objs as go\n",
    "py.init_notebook_mode(connected=True)\n",
    "\n",
    "\n",
    "import sys \n",
    "sys.path.append('..')\n",
    "\n",
    "from src.model.pmf import PMF"
   ]
  },
  {
   "cell_type": "code",
   "execution_count": null,
   "metadata": {},
   "outputs": [],
   "source": [
    "dataset_path = \"../data/movie_lens_1m_output_path.json\"\n",
    "with open(dataset_path) as json_file:\n",
    "    _dataset_path = json.load(json_file)\n",
    "\n",
    "dataset = {}\n",
    "with open(os.path.join(\"..\", _dataset_path[\"train_users_dict\"]), \"rb\") as pkl_file:\n",
    "    dataset[\"train_users_dict\"] = pickle.load(pkl_file)\n",
    "\n",
    "with open(os.path.join(\"..\", _dataset_path[\"train_users_history_lens\"]), \"rb\") as pkl_file:\n",
    "    dataset[\"train_users_history_lens\"] = pickle.load(pkl_file)\n",
    "\n",
    "with open(os.path.join(\"..\", _dataset_path[\"eval_users_dict\"]), \"rb\") as pkl_file:\n",
    "    dataset[\"eval_users_dict\"] = pickle.load(pkl_file)\n",
    "\n",
    "with open(os.path.join(\"..\", _dataset_path[\"eval_users_history_lens\"]), \"rb\") as pkl_file:\n",
    "    dataset[\"eval_users_history_lens\"] = pickle.load(pkl_file)\n",
    "\n",
    "with open(os.path.join(\"..\", _dataset_path[\"users_history_lens\"]), \"rb\") as pkl_file:\n",
    "    dataset[\"users_history_lens\"] = pickle.load(pkl_file)\n",
    "\n",
    "with open(os.path.join(\"..\", _dataset_path[\"item_groups\"]), \"rb\") as pkl_file:\n",
    "    dataset[\"item_groups\"] = pickle.load(pkl_file)\n",
    "\n",
    "items_df = pd.read_csv(os.path.join(\"..\", _dataset_path[\"items_df\"]))\n",
    "items_metadata_df = pd.read_csv(os.path.join(\"..\", _dataset_path[\"items_metadata\"]))\n",
    "users_df = pd.read_csv(os.path.join(\"..\",_dataset_path[\"users_df\"]))\n",
    "ratings_df = pd.read_csv(os.path.join(\"..\",_dataset_path[\"ratings_df\"]))"
   ]
  },
  {
   "cell_type": "code",
   "execution_count": null,
   "metadata": {},
   "outputs": [],
   "source": [
    "fig = px.histogram(list(dataset[\"item_groups\"].values()))\n",
    "fig.update_layout(\n",
    "    xaxis_title = \"Groups\",\n",
    "    yaxis_title = \"Items\",\n",
    ")\n",
    "fig.show()"
   ]
  },
  {
   "cell_type": "code",
   "execution_count": null,
   "metadata": {},
   "outputs": [],
   "source": [
    "# reward_model = PMF(943, 1682, 50).to(\"cuda\")\n",
    "# reward_model.load_state_dict(\n",
    "#     torch.load(\n",
    "#         \"../model/pmf/emb_50_ratio_0.800000_bs_1000_e_258_wd_0.100000_lr_0.000100_trained_pmf.pt\",\n",
    "#         map_location=torch.device(\"cuda\"),\n",
    "#     )\n",
    "# )\n",
    "\n",
    "reward_model = PMF(6040, 3883, 100).to(\"cuda\")\n",
    "reward_model.load_state_dict(\n",
    "    torch.load(\n",
    "        \"../model/pmf/ml_1m_emb_100_ratio_0.800000_bs_1000_e_457_wd_0.100000_lr_0.000100_trained_pmf.pt\",\n",
    "        map_location=torch.device(\"cuda\"),\n",
    "    )\n",
    ")\n",
    "\n",
    "user_embeddings = reward_model.user_embeddings.weight.data\n",
    "item_embeddings = reward_model.item_embeddings.weight.data"
   ]
  },
  {
   "cell_type": "code",
   "execution_count": null,
   "metadata": {},
   "outputs": [],
   "source": [
    "users_emb_df = pd.DataFrame(users_df[[\"user_id\"]].apply(lambda x: user_embeddings[x].cpu().numpy().tolist())[\"user_id\"].tolist())\n",
    "users_emb_df"
   ]
  },
  {
   "cell_type": "code",
   "execution_count": null,
   "metadata": {},
   "outputs": [],
   "source": [
    "item_groups_df = pd.DataFrame(dataset[\"item_groups\"].items(), columns=[\"item_id\", \"group\"])\n",
    "feature_df = pd.DataFrame(item_groups_df[[\"item_id\"]].apply(lambda x: item_embeddings[x].cpu().numpy().tolist())[\"item_id\"].tolist())"
   ]
  },
  {
   "cell_type": "code",
   "execution_count": null,
   "metadata": {},
   "outputs": [],
   "source": [
    "# The default of 1,000 iterations gives fine results, but I'm training for longer just to eke\n",
    "# out some marginal improvements. NB: This takes almost an hour!\n",
    "tsne = TSNE(random_state=1, n_iter=15000, metric=\"cosine\")\n",
    "\n",
    "embs = tsne.fit_transform(users_emb_df.values)\n",
    "# Add to dataframe for convenience\n",
    "users_emb_df['x'] = embs[:, 0]\n",
    "users_emb_df['y'] = embs[:, 1]\n",
    "\n",
    "FS = (10, 8)\n",
    "fig, ax = plt.subplots(figsize=FS)\n",
    "fig.patch.set_facecolor(\"white\")\n",
    "# Make points translucent so we can visually identify regions with a high density of overlapping points\n",
    "ax.scatter(users_emb_df.x, users_emb_df.y, alpha=.1)"
   ]
  },
  {
   "cell_type": "code",
   "execution_count": null,
   "metadata": {},
   "outputs": [],
   "source": [
    "# The default of 1,000 iterations gives fine results, but I'm training for longer just to eke\n",
    "# out some marginal improvements. NB: This takes almost an hour!\n",
    "tsne = TSNE(random_state=1, n_iter=15000, metric=\"cosine\")\n",
    "\n",
    "embs = tsne.fit_transform(feature_df.values)\n",
    "# Add to dataframe for convenience\n",
    "item_groups_df['x'] = embs[:, 0]\n",
    "item_groups_df['y'] = embs[:, 1]\n",
    "\n",
    "FS = (10, 8)\n",
    "fig, ax = plt.subplots(figsize=FS)\n",
    "fig.patch.set_facecolor(\"white\")\n",
    "# Make points translucent so we can visually identify regions with a high density of overlapping points\n",
    "ax.scatter(item_groups_df.x, item_groups_df.y, alpha=.1)"
   ]
  },
  {
   "cell_type": "code",
   "execution_count": null,
   "metadata": {},
   "outputs": [],
   "source": [
    "def plot_bg(bg_alpha=.01, figsize=(13, 9), emb_2d=None):\n",
    "    \"\"\"Create and return a plot of all our movie embeddings with very low opacity.\n",
    "    (Intended to be used as a basis for further - more prominent - plotting of a \n",
    "    subset of movies. Having the overall shape of the map space in the background is\n",
    "    useful for context.)\n",
    "    \"\"\"\n",
    "    if emb_2d is None:\n",
    "        emb_2d = embs\n",
    "    fig, ax = plt.subplots(figsize=figsize)\n",
    "    fig.patch.set_facecolor(\"white\")\n",
    "    X = emb_2d[:, 0]\n",
    "    Y = emb_2d[:, 1]\n",
    "    ax.scatter(X, Y, alpha=bg_alpha)\n",
    "    return ax\n",
    "    \n",
    "def plot_with_annotations(label_indices, text=True, labels=None, alpha=1, **kwargs):\n",
    "    ax = plot_bg(**kwargs)\n",
    "    Xlabeled = embs[label_indices, 0]\n",
    "    Ylabeled = embs[label_indices, 1]\n",
    "    if labels is not None:\n",
    "        for x, y, label in zip(Xlabeled, Ylabeled, labels):\n",
    "            ax.scatter(x, y, alpha=alpha, label=label, marker='1',\n",
    "                       s=90,\n",
    "                      )\n",
    "        fig.legend()\n",
    "    else:\n",
    "        ax.scatter(Xlabeled, Ylabeled, alpha=alpha, color='green')\n",
    "    \n",
    "    \n",
    "    return ax"
   ]
  },
  {
   "cell_type": "code",
   "execution_count": null,
   "metadata": {},
   "outputs": [],
   "source": [
    "plot_with_annotations(items_df[items_df[\"title\"].str.startswith('Star Trek')].index, text=False, alpha=.4, figsize=(15, 8))"
   ]
  },
  {
   "cell_type": "code",
   "execution_count": null,
   "metadata": {},
   "outputs": [],
   "source": [
    "ratings_df = ratings_df[ratings_df[\"rating\"] > 3]\n",
    "users = ratings_df.groupby(\"user_id\").agg({\"movie_id\": lambda x: x.tolist()}).reset_index()\n",
    "users"
   ]
  },
  {
   "cell_type": "code",
   "execution_count": null,
   "metadata": {},
   "outputs": [],
   "source": [
    "def _single_list_similarity(predicted, feature_df):\n",
    "    recs_content = feature_df.loc[predicted]\n",
    "    recs_content = recs_content.values\n",
    "    similarity = cosine_similarity(X=recs_content, dense_output=False)\n",
    "\n",
    "    # #get indicies for upper right triangle w/o diagonal\n",
    "    upper_right = np.triu_indices(similarity.shape[0], k=1)\n",
    "    upper_right\n",
    "\n",
    "    # #calculate average similarity score of all recommended items in list\n",
    "    ils_single_user = np.mean(similarity[upper_right])\n",
    "    return ils_single_user"
   ]
  },
  {
   "cell_type": "code",
   "execution_count": null,
   "metadata": {},
   "outputs": [],
   "source": [
    "users[\"similarity\"] = users[\"movie_id\"].apply(lambda x: _single_list_similarity(x, feature_df))\n",
    "users"
   ]
  },
  {
   "cell_type": "code",
   "execution_count": null,
   "metadata": {},
   "outputs": [],
   "source": [
    "_single_list_similarity(users[\"user_id\"].values, users_emb_df) "
   ]
  },
  {
   "cell_type": "code",
   "execution_count": null,
   "metadata": {},
   "outputs": [],
   "source": [
    "_single_list_similarity(items_df[items_df[\"title\"].str.startswith('Star Trek')].movie_id.values, feature_df)"
   ]
  },
  {
   "cell_type": "code",
   "execution_count": null,
   "metadata": {},
   "outputs": [],
   "source": [
    "px.bar(users, x=\"user_id\", y=\"similarity\", title=\"Similarity of User Positive Ratings\")"
   ]
  },
  {
   "cell_type": "code",
   "execution_count": null,
   "metadata": {},
   "outputs": [],
   "source": [
    "px.histogram(users, x=\"similarity\", title=\"Similarity of User Positive Ratings\")"
   ]
  },
  {
   "cell_type": "code",
   "execution_count": null,
   "metadata": {},
   "outputs": [],
   "source": [
    "users[\"similarity_norm\"] = users[\"similarity\"].apply(lambda x: (x + 1) / 2)\n",
    "px.histogram(users, x=\"similarity_norm\", title=\"Similarity of User Positive Ratings\")"
   ]
  },
  {
   "cell_type": "code",
   "execution_count": null,
   "metadata": {},
   "outputs": [],
   "source": [
    "users.similarity.describe()"
   ]
  },
  {
   "cell_type": "code",
   "execution_count": null,
   "metadata": {},
   "outputs": [],
   "source": [
    "users[users[\"similarity\"]> 0.4]"
   ]
  },
  {
   "cell_type": "code",
   "execution_count": null,
   "metadata": {},
   "outputs": [],
   "source": []
  },
  {
   "cell_type": "code",
   "execution_count": null,
   "metadata": {},
   "outputs": [],
   "source": []
  }
 ],
 "metadata": {
  "interpreter": {
   "hash": "8842d3533bae659e5f41b6e8512932590b59a54a4b7636cc41bd679d9b5f82e4"
  },
  "kernelspec": {
   "display_name": "Python 3 (ipykernel)",
   "language": "python",
   "name": "python3"
  },
  "language_info": {
   "codemirror_mode": {
    "name": "ipython",
    "version": 3
   },
   "file_extension": ".py",
   "mimetype": "text/x-python",
   "name": "python",
   "nbconvert_exporter": "python",
   "pygments_lexer": "ipython3",
   "version": "3.8.13"
  }
 },
 "nbformat": 4,
 "nbformat_minor": 4
}
