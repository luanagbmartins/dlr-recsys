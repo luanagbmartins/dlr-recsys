{
 "cells": [
  {
   "cell_type": "code",
   "execution_count": null,
   "metadata": {},
   "outputs": [],
   "source": [
    "import json\n",
    "import pickle"
   ]
  },
  {
   "cell_type": "code",
   "execution_count": null,
   "metadata": {},
   "outputs": [],
   "source": [
    "dataset_path = \"./data/movie_lens_100k_output_path.json\"\n",
    "with open(dataset_path) as json_file:\n",
    "    _dataset_path = json.load(json_file)\n",
    "\n",
    "dataset = {}\n",
    "with open(_dataset_path[\"train_users_dict\"], \"rb\") as pkl_file:\n",
    "    dataset[\"train_users_dict\"] = pickle.load(pkl_file)\n",
    "\n",
    "with open(_dataset_path[\"train_users_history_lens\"], \"rb\") as pkl_file:\n",
    "    dataset[\"train_users_history_lens\"] = pickle.load(pkl_file)\n",
    "\n",
    "with open(_dataset_path[\"eval_users_dict\"], \"rb\") as pkl_file:\n",
    "    dataset[\"eval_users_dict\"] = pickle.load(pkl_file)\n",
    "\n",
    "with open(_dataset_path[\"eval_users_history_lens\"], \"rb\") as pkl_file:\n",
    "    dataset[\"eval_users_history_lens\"] = pickle.load(pkl_file)\n",
    "\n",
    "with open(_dataset_path[\"users_history_lens\"], \"rb\") as pkl_file:\n",
    "    dataset[\"users_history_lens\"] = pickle.load(pkl_file)\n",
    "\n",
    "# with open(_dataset_path[\"movies_id_to_movies\"], \"rb\") as pkl_file:\n",
    "#     dataset[\"movies_id_to_movies\"] = pickle.load(pkl_file)\n",
    "\n",
    "with open(_dataset_path[\"movies_groups\"], \"rb\") as pkl_file:\n",
    "    dataset[\"movies_groups\"] = pickle.load(pkl_file)"
   ]
  },
  {
   "cell_type": "code",
   "execution_count": null,
   "metadata": {},
   "outputs": [],
   "source": [
    "dataset[\"train_users_history_lens\"].sort()\n",
    "dataset[\"train_users_history_lens\"]"
   ]
  },
  {
   "cell_type": "code",
   "execution_count": null,
   "metadata": {},
   "outputs": [],
   "source": [
    "import plotly.express as px\n",
    "\n",
    "fig = px.histogram(list(dataset[\"movies_groups\"].values()))\n",
    "fig.update_layout(\n",
    "    xaxis_title = \"Groups\",\n",
    "    yaxis_title = \"Movies\",\n",
    ")\n",
    "fig.show()"
   ]
  },
  {
   "cell_type": "code",
   "execution_count": null,
   "metadata": {},
   "outputs": [],
   "source": [
    "import pandas as pd\n",
    "\n",
    "df_rating = pd.read_csv(\"data/ml-100k/ratings.csv\")\n",
    "df_rating"
   ]
  },
  {
   "cell_type": "code",
   "execution_count": null,
   "metadata": {},
   "outputs": [],
   "source": [
    "users_dict = {user: [] for user in set(df_rating[\"user_id\"])}\n",
    "users_dict"
   ]
  },
  {
   "cell_type": "code",
   "execution_count": null,
   "metadata": {},
   "outputs": [],
   "source": [
    "ratings_df_gen = df_rating.iterrows()\n",
    "ratings_df_gen"
   ]
  },
  {
   "cell_type": "code",
   "execution_count": null,
   "metadata": {},
   "outputs": [],
   "source": [
    "users_dict_for_history_len = {\n",
    "    user: [] for user in set(df_rating[\"user_id\"])\n",
    "}\n",
    "users_dict_for_history_len"
   ]
  },
  {
   "cell_type": "code",
   "execution_count": null,
   "metadata": {},
   "outputs": [],
   "source": [
    "for data in ratings_df_gen:\n",
    "    users_dict[data[1][\"user_id\"]].append(\n",
    "        (data[1][\"movie_id\"], data[1][\"rating\"])\n",
    "    )\n",
    "    if data[1][\"rating\"] >= 4:\n",
    "        users_dict_for_history_len[data[1][\"user_id\"]].append(\n",
    "            (data[1][\"movie_id\"], data[1][\"rating\"])\n",
    "        )"
   ]
  },
  {
   "cell_type": "code",
   "execution_count": null,
   "metadata": {},
   "outputs": [],
   "source": [
    "users_dict[301]"
   ]
  },
  {
   "cell_type": "code",
   "execution_count": null,
   "metadata": {},
   "outputs": [],
   "source": [
    "users_dict_for_history_len[301]"
   ]
  },
  {
   "cell_type": "code",
   "execution_count": null,
   "metadata": {},
   "outputs": [],
   "source": [
    "users_history_lens = [\n",
    "    len(users_dict_for_history_len[u])\n",
    "    for u in set(df_rating[\"user_id\"])\n",
    "]"
   ]
  },
  {
   "cell_type": "code",
   "execution_count": null,
   "metadata": {},
   "outputs": [],
   "source": [
    "users_history_lens[301]"
   ]
  },
  {
   "cell_type": "code",
   "execution_count": null,
   "metadata": {},
   "outputs": [],
   "source": [
    "x = [\n",
    "    len(users_dict[u])\n",
    "    for u in set(df_rating[\"user_id\"])\n",
    "]"
   ]
  },
  {
   "cell_type": "code",
   "execution_count": null,
   "metadata": {},
   "outputs": [],
   "source": [
    "users_history_lens < x"
   ]
  },
  {
   "cell_type": "code",
   "execution_count": null,
   "metadata": {},
   "outputs": [],
   "source": [
    "user_items = {data[0]: data[1] for data in users_dict[0]}\n",
    "user_items"
   ]
  },
  {
   "cell_type": "code",
   "execution_count": null,
   "metadata": {},
   "outputs": [],
   "source": [
    "[data[0] for data in users_dict[0][: 5]]"
   ]
  },
  {
   "cell_type": "code",
   "execution_count": null,
   "metadata": {},
   "outputs": [],
   "source": [
    "df_rating[df_rating[\"user_id\"] == 0] #.sort_values(\"timestamp\")"
   ]
  },
  {
   "cell_type": "code",
   "execution_count": null,
   "metadata": {},
   "outputs": [],
   "source": [
    "users_history_lens"
   ]
  },
  {
   "cell_type": "code",
   "execution_count": null,
   "metadata": {},
   "outputs": [],
   "source": [
    "train_users_history_lens = users_history_lens[:train_users_num]\n",
    "train_users_history_lens"
   ]
  },
  {
   "cell_type": "code",
   "execution_count": null,
   "metadata": {},
   "outputs": [],
   "source": [
    "users_num = max(df_rating[\"user_id\"]) + 1\n",
    "items_num = max(df_rating[\"movie_id\"]) + 1\n",
    "\n",
    "# 6041 3953\n",
    "print(users_num, items_num)\n",
    "\n",
    "# Training setting\n",
    "train_users_num = int(users_num * 0.8)\n",
    "train_items_num = items_num\n",
    "# train_users_dict = {k: users_dict.get(k) for k in range(1, train_users_num + 1)}\n",
    "# train_users_history_lens = users_history_lens[:train_users_num]\n"
   ]
  },
  {
   "cell_type": "code",
   "execution_count": null,
   "metadata": {},
   "outputs": [],
   "source": [
    "x = {1: 15, 2: 7, 3: 4, 4: 10, 5: 12, 6: 7, 7: 8, 8: 6, 9: 10, 10: 15}"
   ]
  },
  {
   "cell_type": "code",
   "execution_count": null,
   "metadata": {},
   "outputs": [],
   "source": [
    "15 + 7 + 4 + 10 + 12 + 7 + 8 + 6 + 10 + 15"
   ]
  },
  {
   "cell_type": "code",
   "execution_count": null,
   "metadata": {},
   "outputs": [],
   "source": [
    "sum(x.values())"
   ]
  },
  {
   "cell_type": "code",
   "execution_count": null,
   "metadata": {},
   "outputs": [],
   "source": [
    "import math\n",
    "(1 * math.log((1 + (10/100)))) + \\\n",
    "    (1 * math.log((1 + (10/100)))) + \\\n",
    "        (1 * math.log((1 + (10/100)))) + \\\n",
    "            (1 * math.log((1 + (10/100)))) + \\\n",
    "                (1 * math.log((1 + (10/100)))) + \\\n",
    "                    (1 * math.log((1 + (10/100)))) + \\\n",
    "                        (1 * math.log((1 + (10/100)))) + \\\n",
    "                            (1 * math.log((1 + (10/100)))) + \\\n",
    "                                (1 * math.log((1 + (10/100)))) + \\\n",
    "                                    (1 * math.log((1 + (10/100))))"
   ]
  },
  {
   "cell_type": "code",
   "execution_count": null,
   "metadata": {},
   "outputs": [],
   "source": [
    "100000/10"
   ]
  },
  {
   "cell_type": "code",
   "execution_count": null,
   "metadata": {},
   "outputs": [],
   "source": [
    "import math\n",
    "import numpy as np\n",
    "(1 * np.log((1 + (6438/100000)))) + \\\n",
    "    (1 * np.log((1 + (33881/100000)))) + \\\n",
    "        (1 * np.log((1 + (13884/100000)))) + \\\n",
    "            (1 * np.log((1 + (24639/100000)))) + \\\n",
    "                (1 * np.log((1 + (10216/100000)))) + \\\n",
    "                    (1 * np.log((1 + (4172/100000)))) + \\\n",
    "                        (1 * np.log((1 + (2862/100000)))) + \\\n",
    "                            (1 * np.log((1 + (1635/100000)))) + \\\n",
    "                                (1 * np.log((1 + (749/100000)))) + \\\n",
    "                                    (1 * np.log((1 + (1524/100000))))"
   ]
  },
  {
   "cell_type": "code",
   "execution_count": null,
   "metadata": {},
   "outputs": [],
   "source": [
    "{5: round(6438/100000, 2),\n",
    " 1: round(33881/100000, 2),\n",
    " 3: round(13884/100000, 2),\n",
    " 2: round(24639/100000, 2),\n",
    " 4: round(10216/100000, 2),\n",
    " 6: round(4172/100000, 2),\n",
    " 7: round(2862/100000, 2),\n",
    " 8: round(1635/100000, 2),\n",
    " 10: round(749/100000, 2),\n",
    " 9: round(1524/100000, 2)\n",
    "}"
   ]
  },
  {
   "cell_type": "code",
   "execution_count": null,
   "metadata": {},
   "outputs": [],
   "source": [
    "0.1 * math.log((1 + 10/100), 2)"
   ]
  },
  {
   "cell_type": "code",
   "execution_count": null,
   "metadata": {},
   "outputs": [],
   "source": [
    "81-94"
   ]
  },
  {
   "cell_type": "code",
   "execution_count": null,
   "metadata": {},
   "outputs": [],
   "source": [
    "13-9"
   ]
  },
  {
   "cell_type": "code",
   "execution_count": null,
   "metadata": {},
   "outputs": [],
   "source": []
  }
 ],
 "metadata": {
  "interpreter": {
   "hash": "8842d3533bae659e5f41b6e8512932590b59a54a4b7636cc41bd679d9b5f82e4"
  },
  "kernelspec": {
   "display_name": "Python 3.8.11 64-bit ('recsysrl': conda)",
   "name": "python3"
  },
  "language_info": {
   "codemirror_mode": {
    "name": "ipython",
    "version": 3
   },
   "file_extension": ".py",
   "mimetype": "text/x-python",
   "name": "python",
   "nbconvert_exporter": "python",
   "pygments_lexer": "ipython3",
   "version": "3.8.11"
  },
  "orig_nbformat": 4
 },
 "nbformat": 4,
 "nbformat_minor": 2
}
