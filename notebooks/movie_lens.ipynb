{
 "cells": [
  {
   "cell_type": "markdown",
   "metadata": {},
   "source": [
    "# Train PMF"
   ]
  },
  {
   "cell_type": "code",
   "execution_count": null,
   "metadata": {},
   "outputs": [],
   "source": [
    "from __future__ import print_function\n",
    "\n",
    "import numpy as np\n",
    "import pandas as pd\n",
    "\n",
    "import torch\n",
    "import torch.nn as nn\n",
    "import torch.optim as optim\n",
    "from torch.autograd import Variable\n",
    "import torch.utils.data\n",
    "\n",
    "import matplotlib.pyplot as plt\n",
    "\n",
    "import sys \n",
    "sys.path.append('..')\n",
    "\n",
    "from src.model.pmf import PMF"
   ]
  },
  {
   "cell_type": "code",
   "execution_count": null,
   "metadata": {},
   "outputs": [],
   "source": [
    "def RMSE(preds, truth):\n",
    "    return np.sqrt(np.mean(np.square(preds-truth)))"
   ]
  },
  {
   "cell_type": "code",
   "execution_count": null,
   "metadata": {},
   "outputs": [],
   "source": [
    "batch_size = 1000\n",
    "epoches = 1000\n",
    "no_cuda = False\n",
    "seed = 1\n",
    "weight_decay = 0.1\n",
    "embedding_feature_size = 100\n",
    "ratio = 0.8\n",
    "lr = 0.0001\n",
    "momentum = 0.9"
   ]
  },
  {
   "cell_type": "code",
   "execution_count": null,
   "metadata": {},
   "outputs": [],
   "source": [
    "df = pd.read_csv(\"../data/ml-100k/ratings.csv\")\n",
    "df[\"rating\"] = df[\"rating\"].astype(\"float\")\n",
    "df = df.sort_values([\"user_id\", \"timestamp\"])\n",
    "df.head()"
   ]
  },
  {
   "cell_type": "code",
   "execution_count": null,
   "metadata": {},
   "outputs": [],
   "source": [
    "data = df[[\"user_id\", \"item_id\", \"rating\"]].values\n",
    " \n",
    "# Normalize rewards to [-1, 1]\n",
    "data[:,2] = 0.5*(data[:,2] - 3)\n",
    "\n",
    "# Shuffle data\n",
    "np.random.shuffle(data)"
   ]
  },
  {
   "cell_type": "code",
   "execution_count": null,
   "metadata": {},
   "outputs": [],
   "source": [
    "# Split data\n",
    "train_data = data[:int(ratio * data.shape[0])]\n",
    "vali_data = data[int(ratio * data.shape[0]): int((ratio+(1-ratio)/2)*data.shape[0])]\n",
    "test_data = data[int((ratio + (1 - ratio) / 2) * data.shape[0]) :]"
   ]
  },
  {
   "cell_type": "code",
   "execution_count": null,
   "metadata": {},
   "outputs": [],
   "source": [
    "NUM_ITEMS = df.item_id.max() + 1\n",
    "NUM_USERS = df.user_id.max() + 1\n",
    "\n",
    "print(NUM_USERS, NUM_ITEMS)"
   ]
  },
  {
   "cell_type": "code",
   "execution_count": null,
   "metadata": {},
   "outputs": [],
   "source": [
    "# Get CUDA device if available\n",
    "cuda = torch.cuda.is_available()\n",
    " \n",
    "# Set device to CUDA or CPU, depending on availability and desire\n",
    "device = torch.device(\"cuda\" if cuda and no_cuda else \"cpu\")\n",
    " \n",
    "# Generate and apply seeds\n",
    "torch.manual_seed(seed=seed)\n",
    "if cuda:\n",
    "    torch.cuda.empty_cache()\n",
    "    torch.cuda.manual_seed(seed=seed)\n",
    " \n",
    "# Specify number of workers for cuda\n",
    "kwargs = {\"num_workers\":1, \"pin_memory\":True} if cuda else {}\n",
    " \n",
    "# Construct Data Loaders\n",
    "train_data_loader = torch.utils.data.DataLoader(torch.from_numpy(train_data), batch_size=batch_size, shuffle=False, **kwargs)\n",
    "test_data_loader = torch.utils.data.DataLoader(torch.from_numpy(test_data), batch_size=batch_size, shuffle=False, **kwargs)"
   ]
  },
  {
   "cell_type": "code",
   "execution_count": null,
   "metadata": {},
   "outputs": [],
   "source": [
    "# Initialize model\n",
    "model = PMF(n_users=NUM_USERS, n_items=NUM_ITEMS, n_factors=embedding_feature_size, no_cuda=no_cuda)\n",
    " \n",
    "# Move model to CUDA if CUDA selected\n",
    "if cuda:\n",
    "    model.cuda()\n",
    "    print(\"Model moved to CUDA\")\n",
    " \n",
    "# Set loss function\n",
    "loss_function = nn.MSELoss(reduction=\"sum\")\n",
    "\n",
    "# Set optimizer (uncomment Adam for adam)\n",
    "optimizer = optim.SGD(model.parameters(), lr=lr, weight_decay=weight_decay, momentum=momentum)\n",
    "# optimizer = optim.Adam(model.parameters(), lr=lr, weight_decay=weight_decay)"
   ]
  },
  {
   "cell_type": "code",
   "execution_count": null,
   "metadata": {},
   "outputs": [],
   "source": [
    "# Function for training one epoch\n",
    "def train(epoch, train_data_loader):\n",
    "    # Initialize\n",
    "    model.train()\n",
    "    epoch_loss = 0.0\n",
    "    optimizer.zero_grad()\n",
    " \n",
    "    # Go through batches\n",
    "    for batch_idx, ele in enumerate(train_data_loader):\n",
    "        # Zero optimizer gradient\n",
    "        optimizer.zero_grad()\n",
    " \n",
    "        # Extract user_id_nums: row 0, item_id_nums: col 1 , ratings: val 2\n",
    "        row = ele[:, 0]\n",
    "        col = ele[:, 1]\n",
    "        val = ele[:, 2]\n",
    " \n",
    "        # Set to variables\n",
    "        row = Variable(row.long())\n",
    "        if isinstance(col, list):\n",
    "            col = tuple(Variable(c.long()) for c in col)\n",
    "        else:\n",
    "            col = Variable(col.long())\n",
    "        val = Variable(val.float())\n",
    "\n",
    "        # Move data to CUDA\n",
    "        if cuda:\n",
    "            row = row.cuda()\n",
    "            col = col.cuda()\n",
    "            val = val.cuda()\n",
    " \n",
    "        # Train\n",
    "        preds = model.forward(row, col)\n",
    "        loss = loss_function(preds, val)\n",
    "        loss.backward()\n",
    "        optimizer.step()\n",
    " \n",
    "        # Update epoch loss\n",
    "        epoch_loss += loss.data\n",
    " \n",
    "    epoch_loss /= train_data_loader.dataset.shape[0]\n",
    "    return epoch_loss"
   ]
  },
  {
   "cell_type": "code",
   "execution_count": null,
   "metadata": {},
   "outputs": [],
   "source": [
    "# Training Model\n",
    "\n",
    "train_loss_list = []\n",
    "last_vali_rmse = None\n",
    "train_rmse_list = []\n",
    "vali_rmse_list = []\n",
    "print(\"parameters are: train ratio:{:f},batch_size:{:d}, epoches:{:d}, weight_decay:{:f}\".format(ratio, batch_size, epoches, weight_decay))\n",
    "print(model)\n",
    "\n",
    "# Go through epochs\n",
    "for epoch in range(1, epoches+1):\n",
    " \n",
    "    # Train epoch\n",
    "    train_epoch_loss = train(epoch, train_data_loader)\n",
    " \n",
    "    # Get epoch loss\n",
    "    train_loss_list.append(train_epoch_loss.cpu())\n",
    " \n",
    "    # Move validation data to CUDA\n",
    "    if cuda:\n",
    "        vali_row = Variable(torch.from_numpy(vali_data[:, 0]).long()).cuda()\n",
    "        vali_col = Variable(torch.from_numpy(vali_data[:, 1]).long()).cuda()\n",
    "    else:\n",
    "        vali_row = Variable(torch.from_numpy(vali_data[:, 0]).long())\n",
    "        vali_col = Variable(torch.from_numpy(vali_data[:, 1]).long())\n",
    " \n",
    "    # Get validation predictions\n",
    "    vali_preds = model.predict(vali_row, vali_col)\n",
    " \n",
    "    # Calculate train rmse loss\n",
    "    train_rmse = np.sqrt(train_epoch_loss.cpu())\n",
    " \n",
    "    # Calculate validation rmse loss\n",
    "    if cuda:\n",
    "        vali_rmse = RMSE(vali_preds.cpu().data.numpy(), vali_data[:, 2])\n",
    "    else:\n",
    "        vali_rmse = RMSE(vali_preds.data.numpy(), vali_data[:, 2])\n",
    " \n",
    "    # Add losses to rmse loss lists\n",
    "    train_rmse_list.append(train_rmse)\n",
    "    vali_rmse_list.append(vali_rmse)\n",
    " \n",
    "    print(\"Training epoch:{: d}, training rmse:{: .6f}, vali rmse:{:.6f}\". \\\n",
    "              format(epoch, train_rmse, vali_rmse))\n",
    " \n",
    "    # Early stop condition\n",
    "    if last_vali_rmse and last_vali_rmse < vali_rmse:\n",
    "        break\n",
    "    else:\n",
    "      last_vali_rmse = vali_rmse\n",
    " "
   ]
  },
  {
   "cell_type": "code",
   "execution_count": null,
   "metadata": {},
   "outputs": [],
   "source": [
    "# Testing Model\n",
    "\n",
    "# Move test set to CUDA\n",
    "if cuda:\n",
    "    test_row = Variable(torch.from_numpy(test_data[:, 0]).long()).cuda()\n",
    "    test_col = Variable(torch.from_numpy(test_data[:, 1]).long()).cuda()\n",
    "else:\n",
    "    test_row = Variable(torch.from_numpy(test_data[:, 0]).long())\n",
    "    test_col = Variable(torch.from_numpy(test_data[:, 1]).long())\n",
    " \n",
    "# Get test predictions\n",
    "preds = model.predict(test_row, test_col)\n",
    " \n",
    "# Get test rmse loss\n",
    "if cuda:\n",
    "    test_rmse = RMSE(preds.cpu().data.numpy(), test_data[:, 2])\n",
    "else:\n",
    "    test_rmse = RMSE(preds.data.numpy(), test_data[:, 2])\n",
    "print(\"Test rmse: {:f}\".format(test_rmse))\n",
    " \n",
    "# Create plots\n",
    "plt.figure(1)\n",
    "plt.figure(1).patch.set_facecolor(\"white\")\n",
    "plt.plot(range(1, len(train_rmse_list)+1), train_rmse_list, color=\"r\", label=\"train rmse\")\n",
    "plt.plot(range(1, len(vali_rmse_list)+1), vali_rmse_list, color=\"b\", label=\"test rmse\")\n",
    "plt.legend()\n",
    "plt.annotate(r\"train=%f\" % (train_rmse_list[-1]), xy=(len(train_rmse_list), train_rmse_list[-1]),\n",
    "             xycoords=\"data\", xytext=(-30, 30), textcoords=\"offset points\", fontsize=10,\n",
    "             arrowprops=dict(arrowstyle=\"->\", connectionstyle=\"arc3, rad=.2\"))\n",
    "plt.annotate(r\"vali=%f\" % (vali_rmse_list[-1]), xy=(len(vali_rmse_list), vali_rmse_list[-1]),\n",
    "             xycoords=\"data\", xytext=(-30, 30), textcoords=\"offset points\", fontsize=10,\n",
    "             arrowprops=dict(arrowstyle=\"->\", connectionstyle=\"arc3, rad=.2\"))\n",
    "plt.xlim([1, len(train_rmse_list)+10])\n",
    "plt.xlabel(\"iterations\")\n",
    "plt.ylabel(\"RMSE\")\n",
    "plt.title(\"RMSE Curve in Training Process\")\n",
    "plt.show()"
   ]
  },
  {
   "cell_type": "code",
   "execution_count": null,
   "metadata": {},
   "outputs": [],
   "source": [
    "# Save model\n",
    "path_to_trained_pmf = \"../model/pmf/ml_100k_emb_{:d}_ratio_{:f}_bs_{:d}_e_{:d}_wd_{:f}_lr_{:f}_trained_pmf.pt\".format(embedding_feature_size, ratio, batch_size, len(train_rmse_list), weight_decay, lr)\n",
    "torch.save(model.state_dict(), path_to_trained_pmf)"
   ]
  },
  {
   "cell_type": "code",
   "execution_count": null,
   "metadata": {},
   "outputs": [],
   "source": [
    "idx =  0 \n",
    "model.predict(\n",
    "    torch.tensor([data[idx][0]]).long().to(\"cuda\"), \n",
    "    torch.tensor([data[idx][1]]).long().to(\"cuda\")\n",
    ").cpu().data[0] * 2 + 3, data[idx][2] * 2 + 3"
   ]
  },
  {
   "cell_type": "markdown",
   "metadata": {},
   "source": [
    "# Embeddings Analysis"
   ]
  },
  {
   "cell_type": "code",
   "execution_count": 1,
   "metadata": {},
   "outputs": [
    {
     "data": {
      "text/html": [
       "        <script type=\"text/javascript\">\n",
       "        window.PlotlyConfig = {MathJaxConfig: 'local'};\n",
       "        if (window.MathJax) {MathJax.Hub.Config({SVG: {font: \"STIX-Web\"}});}\n",
       "        if (typeof require !== 'undefined') {\n",
       "        require.undef(\"plotly\");\n",
       "        requirejs.config({\n",
       "            paths: {\n",
       "                'plotly': ['https://cdn.plot.ly/plotly-latest.min']\n",
       "            }\n",
       "        });\n",
       "        require(['plotly'], function(Plotly) {\n",
       "            window._Plotly = Plotly;\n",
       "        });\n",
       "        }\n",
       "        </script>\n",
       "        "
      ]
     },
     "metadata": {},
     "output_type": "display_data"
    }
   ],
   "source": [
    "import os\n",
    "import json\n",
    "import pickle\n",
    "\n",
    "import pandas as pd\n",
    "from sentence_transformers import SentenceTransformer\n",
    "from sklearn.manifold import TSNE\n",
    "import matplotlib.pyplot as plt\n",
    "\n",
    "import numpy as np\n",
    "from sklearn.metrics.pairwise import cosine_similarity\n",
    "\n",
    "\n",
    "import plotly.offline as py\n",
    "import plotly.express as px\n",
    "py.init_notebook_mode(connected=True)\n",
    "\n",
    "\n",
    "import sys \n",
    "sys.path.append('..')\n",
    "\n",
    "from src.model.pmf import PMF"
   ]
  },
  {
   "cell_type": "code",
   "execution_count": 2,
   "metadata": {},
   "outputs": [],
   "source": [
    "data_version = \"movie_lens_100k\"\n",
    "dataset_path = \"../data/{}_output_path.json\".format(data_version)\n",
    "\n",
    "with open(dataset_path) as json_file:\n",
    "    _dataset_path = json.load(json_file)\n",
    "\n",
    "dataset = {}\n",
    "with open(os.path.join(\"..\", _dataset_path[\"train_users_dict\"]), \"rb\") as pkl_file:\n",
    "    dataset[\"train_users_dict\"] = pickle.load(pkl_file)\n",
    "\n",
    "with open(os.path.join(\"..\", _dataset_path[\"train_users_history_lens\"]), \"rb\") as pkl_file:\n",
    "    dataset[\"train_users_history_lens\"] = pickle.load(pkl_file)\n",
    "\n",
    "with open(os.path.join(\"..\", _dataset_path[\"eval_users_dict\"]), \"rb\") as pkl_file:\n",
    "    dataset[\"eval_users_dict\"] = pickle.load(pkl_file)\n",
    "\n",
    "with open(os.path.join(\"..\", _dataset_path[\"eval_users_history_lens\"]), \"rb\") as pkl_file:\n",
    "    dataset[\"eval_users_history_lens\"] = pickle.load(pkl_file)\n",
    "\n",
    "with open(os.path.join(\"..\", _dataset_path[\"users_history_lens\"]), \"rb\") as pkl_file:\n",
    "    dataset[\"users_history_lens\"] = pickle.load(pkl_file)\n",
    "\n",
    "with open(os.path.join(\"..\", _dataset_path[\"item_groups\"]), \"rb\") as pkl_file:\n",
    "    dataset[\"item_groups\"] = pickle.load(pkl_file)\n",
    "\n",
    "items_df = pd.read_csv(os.path.join(\"..\", _dataset_path[\"items_df\"]))\n",
    "items_metadata_df = pd.read_csv(os.path.join(\"..\", _dataset_path[\"items_metadata\"]))\n",
    "users_df = pd.read_csv(os.path.join(\"..\",_dataset_path[\"users_df\"]))\n",
    "ratings_df = pd.read_csv(os.path.join(\"..\",_dataset_path[\"ratings_df\"]))\n",
    "\n",
    "\n",
    "items_df = items_df.set_index(\"item_id\")\n",
    "items_metadata_df = items_metadata_df.set_index(\"item_id\")\n",
    "users_df = users_df.set_index(\"user_id\")"
   ]
  },
  {
   "cell_type": "code",
   "execution_count": 3,
   "metadata": {},
   "outputs": [],
   "source": [
    "def plot_bg(bg_alpha=.01, figsize=(13, 9), emb_2d=None):\n",
    "    \"\"\"Create and return a plot of all our movie embeddings with very low opacity.\n",
    "    (Intended to be used as a basis for further - more prominent - plotting of a \n",
    "    subset of movies. Having the overall shape of the map space in the background is\n",
    "    useful for context.)\n",
    "    \"\"\"\n",
    "    if emb_2d is None:\n",
    "        emb_2d = embs\n",
    "    fig, ax = plt.subplots(figsize=figsize)\n",
    "    fig.patch.set_facecolor(\"white\")\n",
    "    X = emb_2d[:, 0]\n",
    "    Y = emb_2d[:, 1]\n",
    "    ax.scatter(X, Y, alpha=bg_alpha)\n",
    "    return ax\n",
    "    \n",
    "def plot_with_annotations(label_indices, text=True, labels=None, alpha=1, **kwargs):\n",
    "    ax = plot_bg(**kwargs)\n",
    "    Xlabeled = embs[label_indices, 0]\n",
    "    Ylabeled = embs[label_indices, 1]\n",
    "    if labels is not None:\n",
    "        for x, y, label in zip(Xlabeled, Ylabeled, labels):\n",
    "            ax.scatter(x, y, alpha=alpha, label=label, marker='1',\n",
    "                       s=90,\n",
    "                      )\n",
    "        fig.legend()\n",
    "    else:\n",
    "        ax.scatter(Xlabeled, Ylabeled, alpha=alpha, color='green')\n",
    "    \n",
    "    \n",
    "    return ax"
   ]
  },
  {
   "cell_type": "code",
   "execution_count": 4,
   "metadata": {},
   "outputs": [],
   "source": [
    "def single_list_similarity(predicted, feature_df):\n",
    "    recs_content = feature_df.loc[predicted]\n",
    "    recs_content = recs_content\n",
    "    similarity = cosine_similarity(X=recs_content, dense_output=False)\n",
    "\n",
    "    # #get indicies for upper right triangle w/o diagonal\n",
    "    upper_right = np.triu_indices(similarity.shape[0], k=1)\n",
    "    upper_right\n",
    "\n",
    "    # #calculate average similarity score of all recommended items in list\n",
    "    ils_single_user = np.mean(similarity[upper_right])\n",
    "    return ils_single_user"
   ]
  },
  {
   "cell_type": "markdown",
   "metadata": {},
   "source": [
    "## PMF Embeddings"
   ]
  },
  {
   "cell_type": "code",
   "execution_count": null,
   "metadata": {},
   "outputs": [],
   "source": [
    "import torch"
   ]
  },
  {
   "cell_type": "code",
   "execution_count": null,
   "metadata": {},
   "outputs": [],
   "source": [
    "reward_model = PMF(943, 1682, 100).to(\"cuda\")\n",
    "reward_model.load_state_dict(\n",
    "    torch.load(\n",
    "        \"../model/pmf/ml_100k_emb_100_ratio_0.800000_bs_1000_e_200_wd_0.100000_lr_0.000100_trained_pmf.pt\",\n",
    "        map_location=torch.device(\"cuda\"),\n",
    "    )\n",
    ")\n",
    "\n",
    "\n",
    "user_embeddings = reward_model.user_embeddings.weight.data\n",
    "item_embeddings = reward_model.item_embeddings.weight.data\n",
    "\n",
    "users_pmf_emb = pd.DataFrame(user_embeddings[users_df.index.values].cpu().numpy().tolist())\n",
    "item_pmf_emb = pd.DataFrame(item_embeddings[items_df.index.values].cpu().numpy().tolist())"
   ]
  },
  {
   "cell_type": "code",
   "execution_count": null,
   "metadata": {},
   "outputs": [],
   "source": [
    "# The default of 1,000 iterations gives fine results, but I'm training for longer just to eke\n",
    "# out some marginal improvements. NB: This takes almost an hour!\n",
    "tsne = TSNE(random_state=1, n_iter=15000, metric=\"cosine\")\n",
    "\n",
    "embs = tsne.fit_transform(users_pmf_emb.values)\n",
    "# Add to dataframe for convenience\n",
    "users_pmf_emb['x'] = embs[:, 0]\n",
    "users_pmf_emb['y'] = embs[:, 1]\n",
    "\n",
    "FS = (10, 8)\n",
    "fig, ax = plt.subplots(figsize=FS)\n",
    "fig.patch.set_facecolor(\"white\")\n",
    "# Make points translucent so we can visually identify regions with a high density of overlapping points\n",
    "ax.scatter(users_pmf_emb.x, users_pmf_emb.y, alpha=.1)"
   ]
  },
  {
   "cell_type": "code",
   "execution_count": null,
   "metadata": {},
   "outputs": [],
   "source": [
    "# The default of 1,000 iterations gives fine results, but I'm training for longer just to eke\n",
    "# out some marginal improvements. NB: This takes almost an hour!\n",
    "tsne = TSNE(random_state=1, n_iter=15000, metric=\"cosine\")\n",
    "\n",
    "embs = tsne.fit_transform(item_pmf_emb.values)\n",
    "# Add to dataframe for convenience\n",
    "items_df['x'] = embs[:, 0]\n",
    "items_df['y'] = embs[:, 1]\n",
    "\n",
    "FS = (10, 8)\n",
    "fig, ax = plt.subplots(figsize=FS)\n",
    "fig.patch.set_facecolor(\"white\")\n",
    "# Make points translucent so we can visually identify regions with a high density of overlapping points\n",
    "ax.scatter(items_df.x, items_df.y, alpha=.1)"
   ]
  },
  {
   "cell_type": "code",
   "execution_count": null,
   "metadata": {},
   "outputs": [],
   "source": [
    "plot_with_annotations(items_df[items_df[\"item_name\"].str.startswith('Star Trek')].index, text=False, alpha=.4, figsize=(15, 8))"
   ]
  },
  {
   "cell_type": "code",
   "execution_count": null,
   "metadata": {},
   "outputs": [],
   "source": [
    "single_list_similarity(items_df[items_df[\"item_name\"].str.startswith('Star Trek')].index.values, item_pmf_emb)"
   ]
  },
  {
   "cell_type": "code",
   "execution_count": null,
   "metadata": {},
   "outputs": [],
   "source": [
    "users = ratings_df[ratings_df[\"rating\"] > 3].groupby(\"user_id\").agg({\"item_id\": lambda x: x.tolist()}).reset_index()\n",
    "users[\"similarity\"] = users[\"item_id\"].apply(lambda x: single_list_similarity(x, item_pmf_emb))"
   ]
  },
  {
   "cell_type": "code",
   "execution_count": null,
   "metadata": {},
   "outputs": [],
   "source": [
    "single_list_similarity(users[\"user_id\"].values, users_pmf_emb) "
   ]
  },
  {
   "cell_type": "code",
   "execution_count": null,
   "metadata": {},
   "outputs": [],
   "source": [
    "px.bar(users, x=\"user_id\", y=\"similarity\", title=\"Similarity of User Positive Ratings\")"
   ]
  },
  {
   "cell_type": "code",
   "execution_count": null,
   "metadata": {},
   "outputs": [],
   "source": [
    "users[\"similarity_norm\"] = users[\"similarity\"].apply(lambda x: (x + 1) / 2)\n",
    "px.histogram(users, x=\"similarity_norm\", title=\"Histogram of Similarity of User Positive Ratings\")"
   ]
  },
  {
   "cell_type": "code",
   "execution_count": null,
   "metadata": {},
   "outputs": [],
   "source": [
    "users[\"similarity_norm\"].mean()"
   ]
  },
  {
   "cell_type": "code",
   "execution_count": null,
   "metadata": {},
   "outputs": [],
   "source": [
    "users.similarity_norm.describe()"
   ]
  },
  {
   "cell_type": "markdown",
   "metadata": {},
   "source": [
    "## Title"
   ]
  },
  {
   "cell_type": "code",
   "execution_count": null,
   "metadata": {},
   "outputs": [],
   "source": [
    "items_df"
   ]
  },
  {
   "cell_type": "code",
   "execution_count": null,
   "metadata": {},
   "outputs": [],
   "source": [
    "bert = SentenceTransformer(\"all-MiniLM-L12-v1\") # bert-base-nli-mean-tokens / all-MiniLM-L6-v2\n",
    "sentence_embeddings = bert.encode(items_df[\"item_name\"].tolist())\n",
    "sentence_embeddings = pd.DataFrame(sentence_embeddings.tolist())"
   ]
  },
  {
   "cell_type": "code",
   "execution_count": null,
   "metadata": {},
   "outputs": [],
   "source": [
    "sentence_embeddings.shape"
   ]
  },
  {
   "cell_type": "code",
   "execution_count": null,
   "metadata": {},
   "outputs": [],
   "source": [
    "sentence_embeddings"
   ]
  },
  {
   "cell_type": "code",
   "execution_count": null,
   "metadata": {},
   "outputs": [],
   "source": [
    "items_df"
   ]
  },
  {
   "cell_type": "code",
   "execution_count": null,
   "metadata": {},
   "outputs": [],
   "source": [
    "# The default of 1,000 iterations gives fine results, but I'm training for longer just to eke\n",
    "# out some marginal improvements. NB: This takes almost an hour!\n",
    "tsne = TSNE(random_state=1, n_iter=15000, metric=\"cosine\")\n",
    "\n",
    "embs = tsne.fit_transform(sentence_embeddings.values)\n",
    "# Add to dataframe for convenience\n",
    "items_df['x'] = embs[:, 0]\n",
    "items_df['y'] = embs[:, 1]\n",
    "\n",
    "FS = (10, 8)\n",
    "fig, ax = plt.subplots(figsize=FS)\n",
    "fig.patch.set_facecolor(\"white\")\n",
    "# Make points translucent so we can visually identify regions with a high density of overlapping points\n",
    "ax.scatter(items_df.x, items_df.y, alpha=.1)"
   ]
  },
  {
   "cell_type": "code",
   "execution_count": null,
   "metadata": {},
   "outputs": [],
   "source": [
    "plot_with_annotations(items_df[items_df[\"title\"].str.startswith('Star Trek')].index, text=False, alpha=.4, figsize=(15, 8))"
   ]
  },
  {
   "cell_type": "code",
   "execution_count": null,
   "metadata": {},
   "outputs": [],
   "source": [
    "single_list_similarity(items_df[items_df[\"title\"].str.startswith('Star Trek')].index.values, sentence_embeddings)"
   ]
  },
  {
   "cell_type": "code",
   "execution_count": null,
   "metadata": {},
   "outputs": [],
   "source": [
    "users = ratings_df[ratings_df[\"rating\"] > 3].groupby(\"user_id\").agg({\"item_id\": lambda x: x.tolist()}).reset_index()\n",
    "users[\"similarity\"] = users[\"item_id\"].apply(lambda x: single_list_similarity(x, sentence_embeddings))"
   ]
  },
  {
   "cell_type": "code",
   "execution_count": null,
   "metadata": {},
   "outputs": [],
   "source": [
    "px.bar(users, x=\"user_id\", y=\"similarity\", title=\"Similarity of User Positive Ratings\")"
   ]
  },
  {
   "cell_type": "code",
   "execution_count": null,
   "metadata": {},
   "outputs": [],
   "source": [
    "users[\"similarity_norm\"] = users[\"similarity\"].apply(lambda x: (x + 1) / 2)\n",
    "px.histogram(users, x=\"similarity_norm\", title=\"Histogram of Similarity of User Positive Ratings\")"
   ]
  },
  {
   "cell_type": "code",
   "execution_count": null,
   "metadata": {},
   "outputs": [],
   "source": [
    "users[\"similarity_norm\"].mean()"
   ]
  },
  {
   "cell_type": "code",
   "execution_count": null,
   "metadata": {},
   "outputs": [],
   "source": [
    "users.similarity.describe()"
   ]
  },
  {
   "cell_type": "markdown",
   "metadata": {},
   "source": [
    "## Genre"
   ]
  },
  {
   "cell_type": "code",
   "execution_count": null,
   "metadata": {},
   "outputs": [],
   "source": [
    "user_intent = items_metadata_df[\n",
    "    items_metadata_df.index.isin([0, 1, 2, 3])\n",
    "]\n",
    "user_intent"
   ]
  },
  {
   "cell_type": "code",
   "execution_count": null,
   "metadata": {},
   "outputs": [],
   "source": [
    "genre_embeddings = items_metadata_df"
   ]
  },
  {
   "cell_type": "code",
   "execution_count": null,
   "metadata": {},
   "outputs": [],
   "source": [
    "# The default of 1,000 iterations gives fine results, but I'm training for longer just to eke\n",
    "# out some marginal improvements. NB: This takes almost an hour!\n",
    "tsne = TSNE(random_state=1, n_iter=15000, metric=\"cosine\")\n",
    "\n",
    "embs = tsne.fit_transform(genre_embeddings.values)\n",
    "# Add to dataframe for convenience\n",
    "items_df['x'] = embs[:, 0]\n",
    "items_df['y'] = embs[:, 1]\n",
    "\n",
    "FS = (10, 8)\n",
    "fig, ax = plt.subplots(figsize=FS)\n",
    "fig.patch.set_facecolor(\"white\")\n",
    "# Make points translucent so we can visually identify regions with a high density of overlapping points\n",
    "ax.scatter(items_df.x, items_df.y, alpha=.1)"
   ]
  },
  {
   "cell_type": "code",
   "execution_count": null,
   "metadata": {},
   "outputs": [],
   "source": [
    "plot_with_annotations(items_df[items_df[\"title\"].str.startswith('Star Trek')].index, text=False, alpha=.4, figsize=(15, 8))"
   ]
  },
  {
   "cell_type": "code",
   "execution_count": null,
   "metadata": {},
   "outputs": [],
   "source": [
    "single_list_similarity(items_df[items_df[\"title\"].str.startswith('Star Trek')].index.values, genre_embeddings)"
   ]
  },
  {
   "cell_type": "code",
   "execution_count": null,
   "metadata": {},
   "outputs": [],
   "source": [
    "users = ratings_df[ratings_df[\"rating\"] > 3].groupby(\"user_id\").agg({\"item_id\": lambda x: x.tolist()}).reset_index()\n",
    "users[\"similarity\"] = users[\"item_id\"].apply(lambda x: single_list_similarity(x, genre_embeddings))"
   ]
  },
  {
   "cell_type": "code",
   "execution_count": null,
   "metadata": {},
   "outputs": [],
   "source": [
    "px.bar(users, x=\"user_id\", y=\"similarity\", title=\"Similarity of User Positive Ratings\")"
   ]
  },
  {
   "cell_type": "code",
   "execution_count": null,
   "metadata": {},
   "outputs": [],
   "source": [
    "users[\"similarity_norm\"] = users[\"similarity\"].apply(lambda x: (x + 1) / 2)\n",
    "px.histogram(users, x=\"similarity_norm\", title=\"Histogram of Similarity of User Positive Ratings\")"
   ]
  },
  {
   "cell_type": "code",
   "execution_count": null,
   "metadata": {},
   "outputs": [],
   "source": [
    "users[\"similarity_norm\"].mean()"
   ]
  },
  {
   "cell_type": "code",
   "execution_count": null,
   "metadata": {},
   "outputs": [],
   "source": [
    "users.similarity.describe()"
   ]
  },
  {
   "cell_type": "markdown",
   "metadata": {},
   "source": [
    "## Title + Genre"
   ]
  },
  {
   "cell_type": "code",
   "execution_count": null,
   "metadata": {},
   "outputs": [],
   "source": [
    "bert = SentenceTransformer(\"all-MiniLM-L6-v2\") # bert-base-nli-mean-tokens / all-MiniLM-L6-v2\n",
    "sentence_embeddings = bert.encode(items_df[\"title\"].tolist())\n",
    "sentence_embeddings = pd.DataFrame(sentence_embeddings.tolist())\n",
    "\n",
    "genre_embeddings = items_metadata_df\n",
    "\n",
    "join_embeddings = pd.concat([genre_embeddings, sentence_embeddings], axis=1)"
   ]
  },
  {
   "cell_type": "code",
   "execution_count": null,
   "metadata": {},
   "outputs": [],
   "source": [
    "# The default of 1,000 iterations gives fine results, but I'm training for longer just to eke\n",
    "# out some marginal improvements. NB: This takes almost an hour!\n",
    "tsne = TSNE(random_state=1, n_iter=15000, metric=\"cosine\")\n",
    "\n",
    "embs = tsne.fit_transform(join_embeddings.values)\n",
    "# Add to dataframe for convenience\n",
    "items_df['x'] = embs[:, 0]\n",
    "items_df['y'] = embs[:, 1]\n",
    "\n",
    "FS = (10, 8)\n",
    "fig, ax = plt.subplots(figsize=FS)\n",
    "fig.patch.set_facecolor(\"white\")\n",
    "# Make points translucent so we can visually identify regions with a high density of overlapping points\n",
    "ax.scatter(items_df.x, items_df.y, alpha=.1)"
   ]
  },
  {
   "cell_type": "code",
   "execution_count": null,
   "metadata": {},
   "outputs": [],
   "source": [
    "plot_with_annotations(items_df[items_df[\"title\"].str.startswith('Star Trek')].index, text=False, alpha=.4, figsize=(15, 8))"
   ]
  },
  {
   "cell_type": "code",
   "execution_count": null,
   "metadata": {},
   "outputs": [],
   "source": [
    "single_list_similarity(items_df[items_df[\"title\"].str.startswith('Star Trek')].index.values, join_embeddings)"
   ]
  },
  {
   "cell_type": "code",
   "execution_count": null,
   "metadata": {},
   "outputs": [],
   "source": [
    "users = ratings_df[ratings_df[\"rating\"] > 3].groupby(\"user_id\").agg({\"item_id\": lambda x: x.tolist()}).reset_index()\n",
    "users[\"similarity\"] = users[\"item_id\"].apply(lambda x: single_list_similarity(x, join_embeddings))"
   ]
  },
  {
   "cell_type": "code",
   "execution_count": null,
   "metadata": {},
   "outputs": [],
   "source": [
    "px.bar(users, x=\"user_id\", y=\"similarity\", title=\"Similarity of User Positive Ratings\")"
   ]
  },
  {
   "cell_type": "code",
   "execution_count": null,
   "metadata": {},
   "outputs": [],
   "source": [
    "users[\"similarity_norm\"] = users[\"similarity\"].apply(lambda x: (x + 1) / 2)\n",
    "px.histogram(users, x=\"similarity_norm\", title=\"Histogram of Similarity of User Positive Ratings\")"
   ]
  },
  {
   "cell_type": "code",
   "execution_count": null,
   "metadata": {},
   "outputs": [],
   "source": [
    "users[\"similarity_norm\"].mean()"
   ]
  },
  {
   "cell_type": "code",
   "execution_count": null,
   "metadata": {},
   "outputs": [],
   "source": [
    "users.similarity.describe()"
   ]
  },
  {
   "cell_type": "markdown",
   "metadata": {},
   "source": [
    "## Context Embedding"
   ]
  },
  {
   "cell_type": "code",
   "execution_count": 5,
   "metadata": {},
   "outputs": [
    {
     "name": "stderr",
     "output_type": "stream",
     "text": [
      "Your CPU supports instructions that this binary was not compiled to use: SSE3 SSE4.1 SSE4.2 AVX AVX2\n",
      "For maximum performance, you can install NMSLIB from sources \n",
      "pip install --no-binary :all: nmslib\n"
     ]
    }
   ],
   "source": [
    "import sys \n",
    "sys.path.append('../context_embedding/')\n",
    "\n",
    "from recommenders import ContextRecommender, TitleEmbeddingRecommender, EmbeddingSpaceRecommender, RandomRecommender \n",
    "from embedders import ContextEncoder_v1"
   ]
  },
  {
   "cell_type": "code",
   "execution_count": 7,
   "metadata": {},
   "outputs": [],
   "source": [
    "recommender = ContextRecommender(\n",
    "    model_class=ContextEncoder_v1,\n",
    "    model_folder=\"../context_embedding/movielens_runs/ContextEmbv1_5_512_Att4_Triplet_Cosine_e100_d1\",\n",
    "    data_folder=\"../context_embedding/ml-100k\",\n",
    "    item_data_file_name=\"item_data_v1.csv\",\n",
    ")"
   ]
  },
  {
   "cell_type": "code",
   "execution_count": 8,
   "metadata": {},
   "outputs": [],
   "source": [
    "item_pmf_emb = pd.DataFrame(recommender.get_embedding(np.expand_dims(items_df.index.values, axis=1).tolist()))"
   ]
  },
  {
   "cell_type": "code",
   "execution_count": 9,
   "metadata": {},
   "outputs": [
    {
     "name": "stderr",
     "output_type": "stream",
     "text": [
      "/home/luana/data/miniconda3/envs/rsrl/lib/python3.8/site-packages/sklearn/manifold/_t_sne.py:780: FutureWarning:\n",
      "\n",
      "The default initialization in TSNE will change from 'random' to 'pca' in 1.2.\n",
      "\n",
      "/home/luana/data/miniconda3/envs/rsrl/lib/python3.8/site-packages/sklearn/manifold/_t_sne.py:790: FutureWarning:\n",
      "\n",
      "The default learning rate in TSNE will change from 200.0 to 'auto' in 1.2.\n",
      "\n",
      "/home/luana/data/miniconda3/envs/rsrl/lib/python3.8/site-packages/sklearn/manifold/_t_sne.py:819: FutureWarning:\n",
      "\n",
      "'square_distances' has been introduced in 0.24 to help phase out legacy squaring behavior. The 'legacy' setting will be removed in 1.1 (renaming of 0.26), and the default setting will be changed to True. In 1.3, 'square_distances' will be removed altogether, and distances will be squared by default. Set 'square_distances'=True to silence this warning.\n",
      "\n"
     ]
    },
    {
     "data": {
      "text/plain": [
       "<matplotlib.collections.PathCollection at 0x7ff9e16e0eb0>"
      ]
     },
     "execution_count": 9,
     "metadata": {},
     "output_type": "execute_result"
    },
    {
     "data": {
      "image/png": "[encoded data removed]",
      "text/plain": [
       "<Figure size 720x576 with 1 Axes>"
      ]
     },
     "metadata": {},
     "output_type": "display_data"
    }
   ],
   "source": [
    "# The default of 1,000 iterations gives fine results, but I'm training for longer just to eke\n",
    "# out some marginal improvements. NB: This takes almost an hour!\n",
    "tsne = TSNE(random_state=1, n_iter=15000, metric=\"cosine\")\n",
    "\n",
    "embs = tsne.fit_transform(item_pmf_emb.values)\n",
    "# Add to dataframe for convenience\n",
    "items_df['x'] = embs[:, 0]\n",
    "items_df['y'] = embs[:, 1]\n",
    "\n",
    "FS = (10, 8)\n",
    "fig, ax = plt.subplots(figsize=FS)\n",
    "fig.patch.set_facecolor(\"white\")\n",
    "# Make points translucent so we can visually identify regions with a high density of overlapping points\n",
    "ax.scatter(items_df.x, items_df.y, alpha=.1)"
   ]
  },
  {
   "cell_type": "code",
   "execution_count": 10,
   "metadata": {},
   "outputs": [
    {
     "data": {
      "text/plain": [
       "<AxesSubplot:>"
      ]
     },
     "execution_count": 10,
     "metadata": {},
     "output_type": "execute_result"
    },
    {
     "data": {
      "image/png": "[encoded data removed]",
      "text/plain": [
       "<Figure size 1080x576 with 1 Axes>"
      ]
     },
     "metadata": {},
     "output_type": "display_data"
    }
   ],
   "source": [
    "plot_with_annotations(items_df[items_df[\"item_name\"].str.startswith('Star Trek')].index, text=False, alpha=.4, figsize=(15, 8))"
   ]
  },
  {
   "cell_type": "code",
   "execution_count": 11,
   "metadata": {},
   "outputs": [
    {
     "data": {
      "text/plain": [
       "0.92230266"
      ]
     },
     "execution_count": 11,
     "metadata": {},
     "output_type": "execute_result"
    }
   ],
   "source": [
    "single_list_similarity(items_df[items_df[\"item_name\"].str.startswith('Star Trek')].index.values, item_pmf_emb)"
   ]
  },
  {
   "cell_type": "code",
   "execution_count": 12,
   "metadata": {},
   "outputs": [],
   "source": [
    "users = ratings_df[ratings_df[\"rating\"] > 3].groupby(\"user_id\").agg({\"item_id\": lambda x: x.tolist()}).reset_index()\n",
    "users[\"similarity\"] = users[\"item_id\"].apply(lambda x: single_list_similarity(x, item_pmf_emb))"
   ]
  },
  {
   "cell_type": "code",
   "execution_count": 13,
   "metadata": {},
   "outputs": [
    {
     "data": {
      "application/vnd.plotly.v1+json": {
       "config": {
        "plotlyServerURL": "https://plot.ly"
       },
       "data": [
        {
         "alignmentgroup": "True",
         "bingroup": "x",
         "hovertemplate": "similarity_norm=%{x}<br>count=%{y}<extra></extra>",
         "legendgroup": "",
         "marker": {
          "color": "#636efa"
         },
         "name": "",
         "offsetgroup": "",
         "orientation": "v",
         "showlegend": false,
         "type": "histogram",
         "x": [
          0.8805158138275146,
          0.8997508585453033,
          0.9058535397052765,
          0.9062212705612183,
          0.8787198960781097,
          0.8964760899543762,
          0.882893443107605,
          0.8991565704345703,
          0.8618007898330688,
          0.886284351348877,
          0.875304788351059,
          0.8869349360466003,
          0.8639430105686188,
          0.8808543682098389,
          0.8888736069202423,
          0.8910407423973083,
          0.9162881076335907,
          0.896854430437088,
          0.8746954202651978,
          0.8684881925582886,
          0.8702352941036224,
          0.886434942483902,
          0.8854770958423615,
          0.8847825527191162,
          0.8834774494171143,
          0.9055951237678528,
          0.9245424866676331,
          0.8849945068359375,
          0.8796353042125702,
          0.8676417171955109,
          0.8671953082084656,
          0.9274218678474426,
          0.9560656845569611,
          0.9489434659481049,
          0.9547644257545471,
          0.9248533546924591,
          0.9081816375255585,
          0.8714472651481628,
          0.9492336809635162,
          0.9430821239948273,
          0.9118800461292267,
          0.8787481188774109,
          0.8681742250919342,
          0.8774363100528717,
          0.92667555809021,
          0.90120929479599,
          0.951278567314148,
          0.8928015530109406,
          0.8706469237804413,
          0.9164469242095947,
          0.9221435785293579,
          0.896359771490097,
          0.8928388953208923,
          0.9032543897628784,
          0.9248310625553131,
          0.881611555814743,
          0.8844633102416992,
          0.8806622624397278,
          0.8831515610218048,
          0.8925995826721191,
          0.9501509070396423,
          0.8854332268238068,
          0.9108925461769104,
          0.890337347984314,
          0.8838614225387573,
          0.9124755859375,
          0.926575094461441,
          0.901251882314682,
          0.891040027141571,
          0.8806739151477814,
          0.8868973851203918,
          0.8921321332454681,
          0.9061355292797089,
          0.8952153325080872,
          0.8922853171825409,
          0.8891623914241791,
          0.9066739082336426,
          0.8991217315196991,
          0.898965448141098,
          0.8880366086959839,
          0.9013553559780121,
          0.8869538605213165,
          0.882124662399292,
          0.874752014875412,
          0.893960565328598,
          0.934334933757782,
          0.8762012720108032,
          0.9392300248146057,
          0.8775030672550201,
          0.8824118673801422,
          0.8793082237243652,
          0.885653018951416,
          0.9342363476753235,
          0.8807291090488434,
          0.8817026317119598,
          0.916241466999054,
          0.909589022397995,
          0.9150456190109253,
          0.8782219588756561,
          0.9496371746063232,
          0.9386378824710846,
          0.8778867423534393,
          0.88278529047966,
          0.9031331837177277,
          0.9545396268367767,
          0.8870271444320679,
          0.9475661218166351,
          0.914431095123291,
          0.8808562755584717,
          0.8785713016986847,
          0.9539444446563721,
          0.952470451593399,
          0.90890833735466,
          0.9194243252277374,
          0.8925105333328247,
          0.8698173761367798,
          0.875887542963028,
          0.8882032334804535,
          0.8655856549739838,
          0.9198448061943054,
          0.8786252737045288,
          0.914089024066925,
          0.8876321017742157,
          0.9108403325080872,
          0.8731749951839447,
          0.9280665218830109,
          0.8786432445049286,
          0.8812616467475891,
          0.9559110105037689,
          0.8635633885860443,
          0.9122323989868164,
          0.8975793719291687,
          0.9452513754367828,
          0.9339393377304077,
          0.8875121176242828,
          0.9000276625156403,
          0.878703773021698,
          0.8859426975250244,
          0.9106690585613251,
          0.9511711895465851,
          0.9159937500953674,
          0.8621598780155182,
          0.9503624141216278,
          0.8779166340827942,
          0.8663794994354248,
          0.9312674403190613,
          0.9500747919082642,
          0.885987251996994,
          0.9520271420478821,
          0.9194930195808411,
          0.8912630677223206,
          0.8774891793727875,
          0.9203539490699768,
          0.9040581583976746,
          0.9351622760295868,
          0.922623872756958,
          0.9063678681850433,
          0.8780533969402313,
          0.9042057394981384,
          0.8798876106739044,
          0.8676595091819763,
          0.9018394947052002,
          0.8996811211109161,
          0.9026526510715485,
          0.8700086176395416,
          0.9512772560119629,
          0.8988484740257263,
          0.9192412793636322,
          0.8718249499797821,
          0.9561988711357117,
          0.9619515538215637,
          0.8700819611549377,
          0.9466736018657684,
          0.8702352344989777,
          0.9008803963661194,
          0.905340313911438,
          0.891331672668457,
          0.8720059990882874,
          0.9510302841663361,
          0.898476243019104,
          0.9112710952758789,
          0.8778812289237976,
          0.8912904560565948,
          0.8821528851985931,
          0.8716752827167511,
          0.8771772980690002,
          0.9123563766479492,
          0.8872104287147522,
          0.886902391910553,
          0.8967705965042114,
          0.9348315000534058,
          0.8938052952289581,
          0.8521811664104462,
          0.9041227996349335,
          0.8663621842861176,
          0.8647365868091583,
          0.87400022149086,
          0.9025900363922119,
          0.9055853188037872,
          0.8743461072444916,
          0.8857876658439636,
          0.8655103743076324,
          0.9121356308460236,
          0.8829953968524933,
          0.9489984512329102,
          0.9463154673576355,
          0.8800795674324036,
          0.9065037667751312,
          0.9181167483329773,
          0.8789034485816956,
          0.873381108045578,
          0.8962769210338593,
          0.8802756369113922,
          0.8946193754673004,
          0.8957085311412811,
          0.888613224029541,
          0.9093425571918488,
          0.90158411860466,
          0.8614618182182312,
          0.9409722685813904,
          0.8851388096809387,
          0.8775444626808167,
          0.873266339302063,
          0.8899181485176086,
          0.9061919748783112,
          0.8838938176631927,
          0.9276658296585083,
          0.8397959470748901,
          0.9411780536174774,
          0.884130209684372,
          0.902943879365921,
          0.8810089230537415,
          0.8888623714447021,
          0.8932596147060394,
          0.8937702775001526,
          0.8716685175895691,
          0.9206781089305878,
          0.8946598470211029,
          0.8962240219116211,
          0.945430338382721,
          0.9539743363857269,
          0.8908972144126892,
          0.889198362827301,
          0.8792314827442169,
          0.8991166055202484,
          0.8801062405109406,
          0.8736971914768219,
          0.8967272639274597,
          0.881698727607727,
          0.868369460105896,
          0.8744734525680542,
          0.9348998367786407,
          0.8805306851863861,
          0.8927687704563141,
          0.8701393902301788,
          0.8769730627536774,
          0.8872119188308716,
          0.9523537456989288,
          0.8708842992782593,
          0.9414927065372467,
          0.9126542806625366,
          0.8822572529315948,
          0.8916021585464478,
          0.8817002177238464,
          0.9212692975997925,
          0.9218535125255585,
          0.8947179317474365,
          0.8818382024765015,
          0.8923851549625397,
          0.8755609691143036,
          0.8872176110744476,
          0.9233794212341309,
          0.9452783167362213,
          0.8813266754150391,
          0.8912346959114075,
          0.8693917095661163,
          0.9345886409282684,
          0.8765624165534973,
          0.8748288750648499,
          0.8739102184772491,
          0.944081574678421,
          0.9389346241950989,
          0.8779767751693726,
          0.9471486508846283,
          0.8614187240600586,
          0.8599499762058258,
          0.8756306171417236,
          0.8820765018463135,
          0.9285446405410767,
          0.8824504911899567,
          0.8781324028968811,
          0.8921181857585907,
          0.8962015807628632,
          0.8897975385189056,
          0.8873100280761719,
          0.876938670873642,
          0.8710087835788727,
          0.8812610507011414,
          0.8841691017150879,
          0.9223954379558563,
          0.8713798522949219,
          0.9346986711025238,
          0.8728272616863251,
          0.8898726403713226,
          0.8882950842380524,
          0.9006865620613098,
          0.8825590908527374,
          0.8871804773807526,
          0.940638393163681,
          0.9092828929424286,
          0.8857800364494324,
          0.907275378704071,
          0.8879353404045105,
          0.8738946914672852,
          0.8867008090019226,
          0.9012879729270935,
          0.9563490152359009,
          0.8656958341598511,
          0.9320655167102814,
          0.883413702249527,
          0.9089974761009216,
          0.9014513790607452,
          0.8851697742938995,
          0.8984475135803223,
          0.9029565155506134,
          0.9038307368755341,
          0.8867581188678741,
          0.8766386806964874,
          0.8797038495540619,
          0.8742431700229645,
          0.8821073770523071,
          0.8732609450817108,
          0.8679149746894836,
          0.8737037479877472,
          0.9357747733592987,
          0.8769837915897369,
          0.8876098990440369,
          0.8982605934143066,
          0.8862349689006805,
          0.8951966166496277,
          0.9362550377845764,
          0.8784606456756592,
          0.8828074336051941,
          0.8758068084716797,
          0.8738446235656738,
          0.8859202265739441,
          0.8734261691570282,
          0.924271285533905,
          0.9351702928543091,
          0.9062114059925079,
          0.9433464109897614,
          0.9173753559589386,
          0.9624298810958862,
          0.8782917261123657,
          0.9286452233791351,
          0.9403885304927826,
          0.9127687215805054,
          0.8997379243373871,
          0.9061174094676971,
          0.8834547996520996,
          0.8920874297618866,
          0.9529380202293396,
          0.8768191933631897,
          0.9290454387664795,
          0.8928613364696503,
          0.9220239222049713,
          0.8810549974441528,
          0.8854456543922424,
          0.8826780915260315,
          0.8949766755104065,
          0.9083128273487091,
          0.8717730939388275,
          0.8893847465515137,
          0.881375253200531,
          0.8869880139827728,
          0.8913297355175018,
          0.8709937632083893,
          0.8789907693862915,
          0.8936913311481476,
          0.8860014975070953,
          0.876817524433136,
          0.8810408115386963,
          0.8935340940952301,
          0.9430205821990967,
          0.880714625120163,
          0.9325948357582092,
          0.8845663964748383,
          0.8729152083396912,
          0.8927436172962189,
          0.9033701717853546,
          0.8945190608501434,
          0.8697274923324585,
          0.8697531223297119,
          0.8853835165500641,
          0.868256151676178,
          0.9134638011455536,
          0.8819556832313538,
          0.902245044708252,
          0.8767577111721039,
          0.9399980306625366,
          0.8857416808605194,
          0.8881416618824005,
          0.9200587272644043,
          0.9119423925876617,
          0.8907447755336761,
          0.8886264264583588,
          0.8811731040477753,
          0.9386663436889648,
          0.897666871547699,
          0.9555019736289978,
          0.8936858773231506,
          0.8933663368225098,
          0.902185708284378,
          0.9125577807426453,
          0.8607383370399475,
          0.8661178052425385,
          0.8747956454753876,
          0.9419557452201843,
          0.87493497133255,
          0.8877823948860168,
          0.8981521725654602,
          0.8711954355239868,
          0.9054333865642548,
          0.8811805248260498,
          0.8728650212287903,
          0.9280224740505219,
          0.9301651120185852,
          0.9408161640167236,
          0.8866685032844543,
          0.8707096576690674,
          0.9486989378929138,
          0.9199171364307404,
          0.8670973181724548,
          0.9355454742908478,
          0.8720718026161194,
          0.8802908360958099,
          0.8872933685779572,
          0.9100232720375061,
          0.9032106995582581,
          0.8794182538986206,
          0.8970709145069122,
          0.9010440707206726,
          0.929833859205246,
          0.9070931673049927,
          0.8646879196166992,
          0.9499756395816803,
          0.8805316090583801,
          0.937151700258255,
          0.8905715644359589,
          0.8697382211685181,
          0.9411251246929169,
          0.890898734331131,
          0.8806197047233582,
          0.872398853302002,
          0.8767064809799194,
          0.8787872493267059,
          0.8862233757972717,
          0.8842101395130157,
          0.871241420507431,
          0.9105864465236664,
          0.8947628438472748,
          0.8868739008903503,
          0.9079962074756622,
          0.8766064345836639,
          0.894011527299881,
          0.870708167552948,
          0.9109584987163544,
          0.8851725161075592,
          0.9134414494037628,
          0.9249052107334137,
          0.8962917029857635,
          0.8762282133102417,
          0.9344835877418518,
          0.8900699615478516,
          0.8858880400657654,
          0.8811763226985931,
          0.8922861814498901,
          0.8814209997653961,
          0.8833966851234436,
          0.8978244364261627,
          0.8910789489746094,
          0.9170635044574738,
          0.894024670124054,
          0.8783132135868073,
          0.9358566403388977,
          0.9015101790428162,
          0.8815719187259674,
          0.891577422618866,
          0.9323736131191254,
          0.9004775881767273,
          0.8877507448196411,
          0.8999452888965607,
          0.8697313070297241,
          0.8794739246368408,
          0.8852261006832123,
          0.8862820267677307,
          0.8830603361129761,
          0.8922101259231567,
          0.8716269731521606,
          0.8718123733997345,
          0.9275589883327484,
          0.9391247630119324,
          0.8757373094558716,
          0.868091493844986,
          0.8780017793178558,
          0.8844591677188873,
          0.9095999300479889,
          0.8976987898349762,
          0.8754364550113678,
          0.9616303145885468,
          0.9497303664684296,
          0.8884800970554352,
          0.8977913558483124,
          0.8851557374000549,
          0.9347447752952576,
          0.8672278821468353,
          0.8914788663387299,
          0.9364049136638641,
          0.9241715967655182,
          0.9197811186313629,
          0.892155796289444,
          0.9243801236152649,
          0.8666765689849854,
          0.881531298160553,
          0.9113970398902893,
          0.9112559258937836,
          0.9076598286628723,
          0.8893967568874359,
          0.950031578540802,
          0.8689267635345459,
          0.9491027295589447,
          0.8596939444541931,
          0.867069274187088,
          0.9193882048130035,
          0.8960407078266144,
          0.8922723531723022,
          0.8863937258720398,
          0.9227257668972015,
          0.8761126399040222,
          0.9006574153900146,
          0.8771018385887146,
          0.8819212019443512,
          0.8921368718147278,
          0.9574504196643829,
          0.8876359760761261,
          0.8753495216369629,
          0.9533717334270477,
          0.8732766211032867,
          0.9081139266490936,
          0.9034188985824585,
          0.8749528527259827,
          0.9039771556854248,
          0.9098118841648102,
          0.8818191587924957,
          0.8703168034553528,
          0.8895983397960663,
          0.8759823441505432,
          0.9396584331989288,
          0.8887157738208771,
          0.8749885857105255,
          0.8899074494838715,
          0.8893574476242065,
          0.880050003528595,
          0.8914760053157806,
          0.9252827763557434,
          0.8989116847515106,
          0.8986571431159973,
          0.9025403261184692,
          0.9071835577487946,
          0.9519353210926056,
          0.9095669090747833,
          0.8914450705051422,
          0.8996079564094543,
          0.9347804486751556,
          0.9391777813434601,
          0.8925005495548248,
          0.881235659122467,
          0.913283109664917,
          0.8698214292526245,
          0.9059269726276398,
          0.9106990396976471,
          0.9006537199020386,
          0.8841695785522461,
          0.8839329779148102,
          0.9060761332511902,
          0.8905587494373322,
          0.9408878087997437,
          0.8710838258266449,
          0.9482179582118988,
          0.9364621043205261,
          0.8905211091041565,
          0.8695670664310455,
          0.877469390630722,
          0.8865646123886108,
          0.9245417714118958,
          0.9289353787899017,
          0.9008359014987946,
          0.9251308739185333,
          0.9183111786842346,
          0.9079027473926544,
          0.8787881731987,
          0.9004243612289429,
          0.8819487690925598,
          0.888949066400528,
          0.873847633600235,
          0.8727831840515137,
          0.9012728929519653,
          0.88316610455513,
          0.9021573662757874,
          0.880018413066864,
          0.9522105157375336,
          0.873224526643753,
          0.8781257569789886,
          0.9244950115680695,
          0.8929972648620605,
          0.948479562997818,
          0.8948915898799896,
          0.8937532305717468,
          0.887986034154892,
          0.8688913881778717,
          0.8702430427074432,
          0.8828933238983154,
          0.8728047609329224,
          0.9051148295402527,
          0.8879411518573761,
          0.9403221309185028,
          0.8934917747974396,
          0.9199602007865906,
          0.8799728155136108,
          0.8835267424583435,
          0.9556736350059509,
          0.9029600620269775,
          0.8860190808773041,
          0.9114508330821991,
          0.927441269159317,
          0.9025285840034485,
          0.8843545019626617,
          0.9022635221481323,
          0.8944953382015228,
          0.879655510187149,
          0.8897213339805603,
          0.87513467669487,
          0.8815420866012573,
          0.9029655456542969,
          0.9103751182556152,
          0.9366554617881775,
          0.8695476353168488,
          0.8735930323600769,
          0.9398325085639954,
          0.8969829380512238,
          0.9044711589813232,
          0.8695213794708252,
          0.8796889781951904,
          0.8758627772331238,
          0.8744637370109558,
          0.9442436397075653,
          0.8910064101219177,
          0.9020412266254425,
          0.893574059009552,
          0.8790329098701477,
          0.8912031352519989,
          0.9223278164863586,
          0.8742407560348511,
          0.8977109789848328,
          0.8646090030670166,
          0.894422858953476,
          0.8930162787437439,
          0.8759443163871765,
          0.8826808929443359,
          0.9041623771190643,
          0.8862771689891815,
          0.8991627395153046,
          0.9226000010967255,
          0.9120663702487946,
          0.8836930990219116,
          0.8717698454856873,
          0.8915632963180542,
          0.9190435707569122,
          0.8785537481307983,
          0.8910934627056122,
          0.94964399933815,
          0.8765668272972107,
          0.8742679953575134,
          0.8822562396526337,
          0.915097564458847,
          0.9435640275478363,
          0.9385096728801727,
          0.9171053767204285,
          0.8825906813144684,
          0.8834856152534485,
          0.87123703956604,
          0.8943651914596558,
          0.9038188755512238,
          0.9319945871829987,
          0.8812436163425446,
          0.8985988199710846,
          0.8818190395832062,
          0.8958631455898285,
          0.9263133108615875,
          0.9123531579971313,
          0.8854420185089111,
          0.9203574359416962,
          0.8883715271949768,
          0.8824682831764221,
          0.9091843664646149,
          0.8762158751487732,
          0.9055976569652557,
          0.8910353183746338,
          0.8918921649456024,
          0.8777737319469452,
          0.9009533226490021,
          0.9611529409885406,
          0.9158895313739777,
          0.8838123083114624,
          0.8922677934169769,
          0.8962787687778473,
          0.925090879201889,
          0.8940079808235168,
          0.9426024854183197,
          0.8732709586620331,
          0.8997770845890045,
          0.8899600505828857,
          0.9517385959625244,
          0.9090785682201385,
          0.8963131010532379,
          0.87957364320755,
          0.9273307025432587,
          0.9534883499145508,
          0.9114079177379608,
          0.9095928966999054,
          0.9346409142017365,
          0.9303266108036041,
          0.8834283351898193,
          0.9035420715808868,
          0.9071995913982391,
          0.9122675061225891,
          0.9000179767608643,
          0.8741625845432281,
          0.9477525949478149,
          0.8926431238651276,
          0.9345398247241974,
          0.9090874195098877,
          0.8732993304729462,
          0.883817195892334,
          0.9144223034381866,
          0.8781244158744812,
          0.8955479264259338,
          0.8733905255794525,
          0.943202942609787,
          0.8696906268596649,
          0.9317289590835571,
          0.8833782076835632,
          0.9043429493904114,
          0.947385847568512,
          0.8744096457958221,
          0.890148788690567,
          0.858175128698349,
          0.9055844247341156,
          0.8631754219532013,
          0.9103862941265106,
          0.8570495247840881,
          0.8883975148200989,
          0.8700204491615295,
          0.8947901427745819,
          0.9103468954563141,
          0.880185067653656,
          0.8855397999286652,
          0.9074565470218658,
          0.9056411683559418,
          0.8672329187393188,
          0.9526370465755463,
          0.8849367201328278,
          0.9047280550003052,
          0.9530273675918579,
          0.8979295492172241,
          0.8821002244949341,
          0.9060623049736023,
          0.8805967271327972,
          0.9004723727703094,
          0.8954024016857147,
          0.918540745973587,
          0.9441595673561096,
          0.9549630880355835,
          0.8931370675563812,
          0.8863207101821899,
          0.949194461107254,
          0.8809467852115631,
          0.9481504857540131,
          0.8820889294147491,
          0.9203044176101685,
          0.9259310960769653,
          0.929244339466095,
          0.8957793414592743,
          0.8916369676589966,
          0.870099276304245,
          0.9042414724826813,
          0.8656357824802399,
          0.863780289888382,
          0.9037409722805023,
          0.9500120282173157,
          0.8688195645809174,
          0.9400589764118195,
          0.8726720213890076,
          0.8693660795688629,
          0.8911502957344055,
          0.8734147548675537,
          0.9542235434055328,
          0.9570443034172058,
          0.93559730052948,
          0.934035450220108,
          0.9572544395923615,
          0.9417662024497986,
          0.8907323777675629,
          0.8956223726272583,
          0.9467425644397736,
          0.9109372794628143,
          0.954587310552597,
          0.8893986940383911,
          0.9426965713500977,
          0.87690669298172,
          0.8635894656181335,
          0.8923338949680328,
          0.9438436329364777,
          0.8954938650131226,
          0.8855196833610535,
          0.9404166638851166,
          0.8816843926906586,
          0.8865537643432617,
          0.8886875212192535,
          0.872755616903305,
          0.8971483111381531,
          0.8849749863147736,
          0.8935402631759644,
          0.8894974589347839,
          0.8869127333164215,
          0.9093091189861298,
          0.8749265670776367,
          0.9057722389698029,
          0.8930492997169495,
          0.9456906616687775,
          0.9463366866111755,
          0.865990161895752,
          0.8926500678062439,
          0.9318540990352631,
          0.8905065655708313,
          0.8760443031787872,
          0.8950633406639099,
          0.877534031867981,
          0.8950514197349548,
          0.8666672706604004,
          0.8829226195812225,
          0.9467059671878815,
          0.8850357234477997,
          0.9306999146938324,
          0.9584356844425201,
          0.9080771207809448,
          0.8798855245113373,
          0.9136364758014679,
          0.8657160401344299,
          0.8781110048294067,
          0.8738449513912201,
          0.938213586807251,
          0.8758963942527771,
          0.8948367834091187,
          0.9519020617008209,
          0.8896403610706329,
          0.8901621401309967,
          0.8989303112030029,
          0.8886177241802216,
          0.8681872189044952,
          0.8999046385288239,
          0.956398069858551,
          0.8928126096725464,
          0.8905531466007233,
          0.8883377015590668,
          0.8693570196628571,
          0.8907109797000885,
          0.9194755852222443,
          0.8678703308105469,
          0.8769555389881134,
          0.8799683749675751,
          0.8711824417114258,
          0.8926888108253479,
          0.8775532245635986,
          0.8886196911334991,
          0.8698802888393402,
          0.8740654289722443,
          0.8825269341468811,
          0.9024686515331268,
          0.9234559535980225,
          0.8825717568397522,
          0.8917731642723083,
          0.879326194524765,
          0.9018070697784424,
          0.8852671980857849,
          0.8768457174301147,
          0.9376254379749298,
          0.8906003534793854,
          0.8898327052593231,
          0.8772437572479248,
          0.8792024552822113,
          0.8842566609382629,
          0.8731989562511444,
          0.9022800624370575,
          0.9299882054328918,
          0.8727404773235321,
          0.9074033200740814,
          0.8718634247779846,
          0.891101747751236,
          0.8968078196048737,
          0.9087488055229187,
          0.8963085114955902,
          0.9313778281211853,
          0.9514227509498596,
          0.894451916217804,
          0.9333264827728271,
          0.912903755903244,
          0.8658207058906555,
          0.9359699785709381,
          0.8637318313121796,
          0.8802081048488617,
          0.9079950153827667,
          0.8912729024887085,
          0.8755058944225311,
          0.962499350309372,
          0.8739877343177795,
          0.8685210347175598,
          0.922105073928833,
          0.8807766735553741,
          0.9042308032512665,
          0.8995926380157471,
          0.9163073301315308,
          0.8789275288581848,
          0.9256965219974518,
          0.9035299122333527,
          0.9165542423725128,
          0.9057683050632477,
          0.9203401505947113,
          0.8709168434143066,
          0.9159893095493317,
          0.8736180663108826,
          0.8918790221214294
         ],
         "xaxis": "x",
         "yaxis": "y"
        }
       ],
       "layout": {
        "barmode": "relative",
        "legend": {
         "tracegroupgap": 0
        },
        "template": {
         "data": {
          "bar": [
           {
            "error_x": {
             "color": "#2a3f5f"
            },
            "error_y": {
             "color": "#2a3f5f"
            },
            "marker": {
             "line": {
              "color": "#E5ECF6",
              "width": 0.5
             }
            },
            "type": "bar"
           }
          ],
          "barpolar": [
           {
            "marker": {
             "line": {
              "color": "#E5ECF6",
              "width": 0.5
             }
            },
            "type": "barpolar"
           }
          ],
          "carpet": [
           {
            "aaxis": {
             "endlinecolor": "#2a3f5f",
             "gridcolor": "white",
             "linecolor": "white",
             "minorgridcolor": "white",
             "startlinecolor": "#2a3f5f"
            },
            "baxis": {
             "endlinecolor": "#2a3f5f",
             "gridcolor": "white",
             "linecolor": "white",
             "minorgridcolor": "white",
             "startlinecolor": "#2a3f5f"
            },
            "type": "carpet"
           }
          ],
          "choropleth": [
           {
            "colorbar": {
             "outlinewidth": 0,
             "ticks": ""
            },
            "type": "choropleth"
           }
          ],
          "contour": [
           {
            "colorbar": {
             "outlinewidth": 0,
             "ticks": ""
            },
            "colorscale": [
             [
              0,
              "#0d0887"
             ],
             [
              0.1111111111111111,
              "#46039f"
             ],
             [
              0.2222222222222222,
              "#7201a8"
             ],
             [
              0.3333333333333333,
              "#9c179e"
             ],
             [
              0.4444444444444444,
              "#bd3786"
             ],
             [
              0.5555555555555556,
              "#d8576b"
             ],
             [
              0.6666666666666666,
              "#ed7953"
             ],
             [
              0.7777777777777778,
              "#fb9f3a"
             ],
             [
              0.8888888888888888,
              "#fdca26"
             ],
             [
              1,
              "#f0f921"
             ]
            ],
            "type": "contour"
           }
          ],
          "contourcarpet": [
           {
            "colorbar": {
             "outlinewidth": 0,
             "ticks": ""
            },
            "type": "contourcarpet"
           }
          ],
          "heatmap": [
           {
            "colorbar": {
             "outlinewidth": 0,
             "ticks": ""
            },
            "colorscale": [
             [
              0,
              "#0d0887"
             ],
             [
              0.1111111111111111,
              "#46039f"
             ],
             [
              0.2222222222222222,
              "#7201a8"
             ],
             [
              0.3333333333333333,
              "#9c179e"
             ],
             [
              0.4444444444444444,
              "#bd3786"
             ],
             [
              0.5555555555555556,
              "#d8576b"
             ],
             [
              0.6666666666666666,
              "#ed7953"
             ],
             [
              0.7777777777777778,
              "#fb9f3a"
             ],
             [
              0.8888888888888888,
              "#fdca26"
             ],
             [
              1,
              "#f0f921"
             ]
            ],
            "type": "heatmap"
           }
          ],
          "heatmapgl": [
           {
            "colorbar": {
             "outlinewidth": 0,
             "ticks": ""
            },
            "colorscale": [
             [
              0,
              "#0d0887"
             ],
             [
              0.1111111111111111,
              "#46039f"
             ],
             [
              0.2222222222222222,
              "#7201a8"
             ],
             [
              0.3333333333333333,
              "#9c179e"
             ],
             [
              0.4444444444444444,
              "#bd3786"
             ],
             [
              0.5555555555555556,
              "#d8576b"
             ],
             [
              0.6666666666666666,
              "#ed7953"
             ],
             [
              0.7777777777777778,
              "#fb9f3a"
             ],
             [
              0.8888888888888888,
              "#fdca26"
             ],
             [
              1,
              "#f0f921"
             ]
            ],
            "type": "heatmapgl"
           }
          ],
          "histogram": [
           {
            "marker": {
             "colorbar": {
              "outlinewidth": 0,
              "ticks": ""
             }
            },
            "type": "histogram"
           }
          ],
          "histogram2d": [
           {
            "colorbar": {
             "outlinewidth": 0,
             "ticks": ""
            },
            "colorscale": [
             [
              0,
              "#0d0887"
             ],
             [
              0.1111111111111111,
              "#46039f"
             ],
             [
              0.2222222222222222,
              "#7201a8"
             ],
             [
              0.3333333333333333,
              "#9c179e"
             ],
             [
              0.4444444444444444,
              "#bd3786"
             ],
             [
              0.5555555555555556,
              "#d8576b"
             ],
             [
              0.6666666666666666,
              "#ed7953"
             ],
             [
              0.7777777777777778,
              "#fb9f3a"
             ],
             [
              0.8888888888888888,
              "#fdca26"
             ],
             [
              1,
              "#f0f921"
             ]
            ],
            "type": "histogram2d"
           }
          ],
          "histogram2dcontour": [
           {
            "colorbar": {
             "outlinewidth": 0,
             "ticks": ""
            },
            "colorscale": [
             [
              0,
              "#0d0887"
             ],
             [
              0.1111111111111111,
              "#46039f"
             ],
             [
              0.2222222222222222,
              "#7201a8"
             ],
             [
              0.3333333333333333,
              "#9c179e"
             ],
             [
              0.4444444444444444,
              "#bd3786"
             ],
             [
              0.5555555555555556,
              "#d8576b"
             ],
             [
              0.6666666666666666,
              "#ed7953"
             ],
             [
              0.7777777777777778,
              "#fb9f3a"
             ],
             [
              0.8888888888888888,
              "#fdca26"
             ],
             [
              1,
              "#f0f921"
             ]
            ],
            "type": "histogram2dcontour"
           }
          ],
          "mesh3d": [
           {
            "colorbar": {
             "outlinewidth": 0,
             "ticks": ""
            },
            "type": "mesh3d"
           }
          ],
          "parcoords": [
           {
            "line": {
             "colorbar": {
              "outlinewidth": 0,
              "ticks": ""
             }
            },
            "type": "parcoords"
           }
          ],
          "pie": [
           {
            "automargin": true,
            "type": "pie"
           }
          ],
          "scatter": [
           {
            "marker": {
             "colorbar": {
              "outlinewidth": 0,
              "ticks": ""
             }
            },
            "type": "scatter"
           }
          ],
          "scatter3d": [
           {
            "line": {
             "colorbar": {
              "outlinewidth": 0,
              "ticks": ""
             }
            },
            "marker": {
             "colorbar": {
              "outlinewidth": 0,
              "ticks": ""
             }
            },
            "type": "scatter3d"
           }
          ],
          "scattercarpet": [
           {
            "marker": {
             "colorbar": {
              "outlinewidth": 0,
              "ticks": ""
             }
            },
            "type": "scattercarpet"
           }
          ],
          "scattergeo": [
           {
            "marker": {
             "colorbar": {
              "outlinewidth": 0,
              "ticks": ""
             }
            },
            "type": "scattergeo"
           }
          ],
          "scattergl": [
           {
            "marker": {
             "colorbar": {
              "outlinewidth": 0,
              "ticks": ""
             }
            },
            "type": "scattergl"
           }
          ],
          "scattermapbox": [
           {
            "marker": {
             "colorbar": {
              "outlinewidth": 0,
              "ticks": ""
             }
            },
            "type": "scattermapbox"
           }
          ],
          "scatterpolar": [
           {
            "marker": {
             "colorbar": {
              "outlinewidth": 0,
              "ticks": ""
             }
            },
            "type": "scatterpolar"
           }
          ],
          "scatterpolargl": [
           {
            "marker": {
             "colorbar": {
              "outlinewidth": 0,
              "ticks": ""
             }
            },
            "type": "scatterpolargl"
           }
          ],
          "scatterternary": [
           {
            "marker": {
             "colorbar": {
              "outlinewidth": 0,
              "ticks": ""
             }
            },
            "type": "scatterternary"
           }
          ],
          "surface": [
           {
            "colorbar": {
             "outlinewidth": 0,
             "ticks": ""
            },
            "colorscale": [
             [
              0,
              "#0d0887"
             ],
             [
              0.1111111111111111,
              "#46039f"
             ],
             [
              0.2222222222222222,
              "#7201a8"
             ],
             [
              0.3333333333333333,
              "#9c179e"
             ],
             [
              0.4444444444444444,
              "#bd3786"
             ],
             [
              0.5555555555555556,
              "#d8576b"
             ],
             [
              0.6666666666666666,
              "#ed7953"
             ],
             [
              0.7777777777777778,
              "#fb9f3a"
             ],
             [
              0.8888888888888888,
              "#fdca26"
             ],
             [
              1,
              "#f0f921"
             ]
            ],
            "type": "surface"
           }
          ],
          "table": [
           {
            "cells": {
             "fill": {
              "color": "#EBF0F8"
             },
             "line": {
              "color": "white"
             }
            },
            "header": {
             "fill": {
              "color": "#C8D4E3"
             },
             "line": {
              "color": "white"
             }
            },
            "type": "table"
           }
          ]
         },
         "layout": {
          "annotationdefaults": {
           "arrowcolor": "#2a3f5f",
           "arrowhead": 0,
           "arrowwidth": 1
          },
          "autotypenumbers": "strict",
          "coloraxis": {
           "colorbar": {
            "outlinewidth": 0,
            "ticks": ""
           }
          },
          "colorscale": {
           "diverging": [
            [
             0,
             "#8e0152"
            ],
            [
             0.1,
             "#c51b7d"
            ],
            [
             0.2,
             "#de77ae"
            ],
            [
             0.3,
             "#f1b6da"
            ],
            [
             0.4,
             "#fde0ef"
            ],
            [
             0.5,
             "#f7f7f7"
            ],
            [
             0.6,
             "#e6f5d0"
            ],
            [
             0.7,
             "#b8e186"
            ],
            [
             0.8,
             "#7fbc41"
            ],
            [
             0.9,
             "#4d9221"
            ],
            [
             1,
             "#276419"
            ]
           ],
           "sequential": [
            [
             0,
             "#0d0887"
            ],
            [
             0.1111111111111111,
             "#46039f"
            ],
            [
             0.2222222222222222,
             "#7201a8"
            ],
            [
             0.3333333333333333,
             "#9c179e"
            ],
            [
             0.4444444444444444,
             "#bd3786"
            ],
            [
             0.5555555555555556,
             "#d8576b"
            ],
            [
             0.6666666666666666,
             "#ed7953"
            ],
            [
             0.7777777777777778,
             "#fb9f3a"
            ],
            [
             0.8888888888888888,
             "#fdca26"
            ],
            [
             1,
             "#f0f921"
            ]
           ],
           "sequentialminus": [
            [
             0,
             "#0d0887"
            ],
            [
             0.1111111111111111,
             "#46039f"
            ],
            [
             0.2222222222222222,
             "#7201a8"
            ],
            [
             0.3333333333333333,
             "#9c179e"
            ],
            [
             0.4444444444444444,
             "#bd3786"
            ],
            [
             0.5555555555555556,
             "#d8576b"
            ],
            [
             0.6666666666666666,
             "#ed7953"
            ],
            [
             0.7777777777777778,
             "#fb9f3a"
            ],
            [
             0.8888888888888888,
             "#fdca26"
            ],
            [
             1,
             "#f0f921"
            ]
           ]
          },
          "colorway": [
           "#636efa",
           "#EF553B",
           "#00cc96",
           "#ab63fa",
           "#FFA15A",
           "#19d3f3",
           "#FF6692",
           "#B6E880",
           "#FF97FF",
           "#FECB52"
          ],
          "font": {
           "color": "#2a3f5f"
          },
          "geo": {
           "bgcolor": "white",
           "lakecolor": "white",
           "landcolor": "#E5ECF6",
           "showlakes": true,
           "showland": true,
           "subunitcolor": "white"
          },
          "hoverlabel": {
           "align": "left"
          },
          "hovermode": "closest",
          "mapbox": {
           "style": "light"
          },
          "paper_bgcolor": "white",
          "plot_bgcolor": "#E5ECF6",
          "polar": {
           "angularaxis": {
            "gridcolor": "white",
            "linecolor": "white",
            "ticks": ""
           },
           "bgcolor": "#E5ECF6",
           "radialaxis": {
            "gridcolor": "white",
            "linecolor": "white",
            "ticks": ""
           }
          },
          "scene": {
           "xaxis": {
            "backgroundcolor": "#E5ECF6",
            "gridcolor": "white",
            "gridwidth": 2,
            "linecolor": "white",
            "showbackground": true,
            "ticks": "",
            "zerolinecolor": "white"
           },
           "yaxis": {
            "backgroundcolor": "#E5ECF6",
            "gridcolor": "white",
            "gridwidth": 2,
            "linecolor": "white",
            "showbackground": true,
            "ticks": "",
            "zerolinecolor": "white"
           },
           "zaxis": {
            "backgroundcolor": "#E5ECF6",
            "gridcolor": "white",
            "gridwidth": 2,
            "linecolor": "white",
            "showbackground": true,
            "ticks": "",
            "zerolinecolor": "white"
           }
          },
          "shapedefaults": {
           "line": {
            "color": "#2a3f5f"
           }
          },
          "ternary": {
           "aaxis": {
            "gridcolor": "white",
            "linecolor": "white",
            "ticks": ""
           },
           "baxis": {
            "gridcolor": "white",
            "linecolor": "white",
            "ticks": ""
           },
           "bgcolor": "#E5ECF6",
           "caxis": {
            "gridcolor": "white",
            "linecolor": "white",
            "ticks": ""
           }
          },
          "title": {
           "x": 0.05
          },
          "xaxis": {
           "automargin": true,
           "gridcolor": "white",
           "linecolor": "white",
           "ticks": "",
           "title": {
            "standoff": 15
           },
           "zerolinecolor": "white",
           "zerolinewidth": 2
          },
          "yaxis": {
           "automargin": true,
           "gridcolor": "white",
           "linecolor": "white",
           "ticks": "",
           "title": {
            "standoff": 15
           },
           "zerolinecolor": "white",
           "zerolinewidth": 2
          }
         }
        },
        "title": {
         "text": "Histogram of Similarity of User Positive Ratings"
        },
        "xaxis": {
         "anchor": "y",
         "domain": [
          0,
          1
         ],
         "title": {
          "text": "similarity_norm"
         }
        },
        "yaxis": {
         "anchor": "x",
         "domain": [
          0,
          1
         ],
         "title": {
          "text": "count"
         }
        }
       }
      },
      "text/html": [
       "<div>                            <div id=\"c15fea7e-b8c3-42af-ab49-52b2897fc14e\" class=\"plotly-graph-div\" style=\"height:525px; width:100%;\"></div>            <script type=\"text/javascript\">                require([\"plotly\"], function(Plotly) {                    window.PLOTLYENV=window.PLOTLYENV || {};                                    if (document.getElementById(\"c15fea7e-b8c3-42af-ab49-52b2897fc14e\")) {                    Plotly.newPlot(                        \"c15fea7e-b8c3-42af-ab49-52b2897fc14e\",                        [{\"alignmentgroup\": \"True\", \"bingroup\": \"x\", \"hovertemplate\": \"similarity_norm=%{x}<br>count=%{y}<extra></extra>\", \"legendgroup\": \"\", \"marker\": {\"color\": \"#636efa\"}, \"name\": \"\", \"offsetgroup\": \"\", \"orientation\": \"v\", \"showlegend\": false, \"type\": \"histogram\", \"x\": [0.8805158138275146, 0.8997508585453033, 0.9058535397052765, 0.9062212705612183, 0.8787198960781097, 0.8964760899543762, 0.882893443107605, 0.8991565704345703, 0.8618007898330688, 0.886284351348877, 0.875304788351059, 0.8869349360466003, 0.8639430105686188, 0.8808543682098389, 0.8888736069202423, 0.8910407423973083, 0.9162881076335907, 0.896854430437088, 0.8746954202651978, 0.8684881925582886, 0.8702352941036224, 0.886434942483902, 0.8854770958423615, 0.8847825527191162, 0.8834774494171143, 0.9055951237678528, 0.9245424866676331, 0.8849945068359375, 0.8796353042125702, 0.8676417171955109, 0.8671953082084656, 0.9274218678474426, 0.9560656845569611, 0.9489434659481049, 0.9547644257545471, 0.9248533546924591, 0.9081816375255585, 0.8714472651481628, 0.9492336809635162, 0.9430821239948273, 0.9118800461292267, 0.8787481188774109, 0.8681742250919342, 0.8774363100528717, 0.92667555809021, 0.90120929479599, 0.951278567314148, 0.8928015530109406, 0.8706469237804413, 0.9164469242095947, 0.9221435785293579, 0.896359771490097, 0.8928388953208923, 0.9032543897628784, 0.9248310625553131, 0.881611555814743, 0.8844633102416992, 0.8806622624397278, 0.8831515610218048, 0.8925995826721191, 0.9501509070396423, 0.8854332268238068, 0.9108925461769104, 0.890337347984314, 0.8838614225387573, 0.9124755859375, 0.926575094461441, 0.901251882314682, 0.891040027141571, 0.8806739151477814, 0.8868973851203918, 0.8921321332454681, 0.9061355292797089, 0.8952153325080872, 0.8922853171825409, 0.8891623914241791, 0.9066739082336426, 0.8991217315196991, 0.898965448141098, 0.8880366086959839, 0.9013553559780121, 0.8869538605213165, 0.882124662399292, 0.874752014875412, 0.893960565328598, 0.934334933757782, 0.8762012720108032, 0.9392300248146057, 0.8775030672550201, 0.8824118673801422, 0.8793082237243652, 0.885653018951416, 0.9342363476753235, 0.8807291090488434, 0.8817026317119598, 0.916241466999054, 0.909589022397995, 0.9150456190109253, 0.8782219588756561, 0.9496371746063232, 0.9386378824710846, 0.8778867423534393, 0.88278529047966, 0.9031331837177277, 0.9545396268367767, 0.8870271444320679, 0.9475661218166351, 0.914431095123291, 0.8808562755584717, 0.8785713016986847, 0.9539444446563721, 0.952470451593399, 0.90890833735466, 0.9194243252277374, 0.8925105333328247, 0.8698173761367798, 0.875887542963028, 0.8882032334804535, 0.8655856549739838, 0.9198448061943054, 0.8786252737045288, 0.914089024066925, 0.8876321017742157, 0.9108403325080872, 0.8731749951839447, 0.9280665218830109, 0.8786432445049286, 0.8812616467475891, 0.9559110105037689, 0.8635633885860443, 0.9122323989868164, 0.8975793719291687, 0.9452513754367828, 0.9339393377304077, 0.8875121176242828, 0.9000276625156403, 0.878703773021698, 0.8859426975250244, 0.9106690585613251, 0.9511711895465851, 0.9159937500953674, 0.8621598780155182, 0.9503624141216278, 0.8779166340827942, 0.8663794994354248, 0.9312674403190613, 0.9500747919082642, 0.885987251996994, 0.9520271420478821, 0.9194930195808411, 0.8912630677223206, 0.8774891793727875, 0.9203539490699768, 0.9040581583976746, 0.9351622760295868, 0.922623872756958, 0.9063678681850433, 0.8780533969402313, 0.9042057394981384, 0.8798876106739044, 0.8676595091819763, 0.9018394947052002, 0.8996811211109161, 0.9026526510715485, 0.8700086176395416, 0.9512772560119629, 0.8988484740257263, 0.9192412793636322, 0.8718249499797821, 0.9561988711357117, 0.9619515538215637, 0.8700819611549377, 0.9466736018657684, 0.8702352344989777, 0.9008803963661194, 0.905340313911438, 0.891331672668457, 0.8720059990882874, 0.9510302841663361, 0.898476243019104, 0.9112710952758789, 0.8778812289237976, 0.8912904560565948, 0.8821528851985931, 0.8716752827167511, 0.8771772980690002, 0.9123563766479492, 0.8872104287147522, 0.886902391910553, 0.8967705965042114, 0.9348315000534058, 0.8938052952289581, 0.8521811664104462, 0.9041227996349335, 0.8663621842861176, 0.8647365868091583, 0.87400022149086, 0.9025900363922119, 0.9055853188037872, 0.8743461072444916, 0.8857876658439636, 0.8655103743076324, 0.9121356308460236, 0.8829953968524933, 0.9489984512329102, 0.9463154673576355, 0.8800795674324036, 0.9065037667751312, 0.9181167483329773, 0.8789034485816956, 0.873381108045578, 0.8962769210338593, 0.8802756369113922, 0.8946193754673004, 0.8957085311412811, 0.888613224029541, 0.9093425571918488, 0.90158411860466, 0.8614618182182312, 0.9409722685813904, 0.8851388096809387, 0.8775444626808167, 0.873266339302063, 0.8899181485176086, 0.9061919748783112, 0.8838938176631927, 0.9276658296585083, 0.8397959470748901, 0.9411780536174774, 0.884130209684372, 0.902943879365921, 0.8810089230537415, 0.8888623714447021, 0.8932596147060394, 0.8937702775001526, 0.8716685175895691, 0.9206781089305878, 0.8946598470211029, 0.8962240219116211, 0.945430338382721, 0.9539743363857269, 0.8908972144126892, 0.889198362827301, 0.8792314827442169, 0.8991166055202484, 0.8801062405109406, 0.8736971914768219, 0.8967272639274597, 0.881698727607727, 0.868369460105896, 0.8744734525680542, 0.9348998367786407, 0.8805306851863861, 0.8927687704563141, 0.8701393902301788, 0.8769730627536774, 0.8872119188308716, 0.9523537456989288, 0.8708842992782593, 0.9414927065372467, 0.9126542806625366, 0.8822572529315948, 0.8916021585464478, 0.8817002177238464, 0.9212692975997925, 0.9218535125255585, 0.8947179317474365, 0.8818382024765015, 0.8923851549625397, 0.8755609691143036, 0.8872176110744476, 0.9233794212341309, 0.9452783167362213, 0.8813266754150391, 0.8912346959114075, 0.8693917095661163, 0.9345886409282684, 0.8765624165534973, 0.8748288750648499, 0.8739102184772491, 0.944081574678421, 0.9389346241950989, 0.8779767751693726, 0.9471486508846283, 0.8614187240600586, 0.8599499762058258, 0.8756306171417236, 0.8820765018463135, 0.9285446405410767, 0.8824504911899567, 0.8781324028968811, 0.8921181857585907, 0.8962015807628632, 0.8897975385189056, 0.8873100280761719, 0.876938670873642, 0.8710087835788727, 0.8812610507011414, 0.8841691017150879, 0.9223954379558563, 0.8713798522949219, 0.9346986711025238, 0.8728272616863251, 0.8898726403713226, 0.8882950842380524, 0.9006865620613098, 0.8825590908527374, 0.8871804773807526, 0.940638393163681, 0.9092828929424286, 0.8857800364494324, 0.907275378704071, 0.8879353404045105, 0.8738946914672852, 0.8867008090019226, 0.9012879729270935, 0.9563490152359009, 0.8656958341598511, 0.9320655167102814, 0.883413702249527, 0.9089974761009216, 0.9014513790607452, 0.8851697742938995, 0.8984475135803223, 0.9029565155506134, 0.9038307368755341, 0.8867581188678741, 0.8766386806964874, 0.8797038495540619, 0.8742431700229645, 0.8821073770523071, 0.8732609450817108, 0.8679149746894836, 0.8737037479877472, 0.9357747733592987, 0.8769837915897369, 0.8876098990440369, 0.8982605934143066, 0.8862349689006805, 0.8951966166496277, 0.9362550377845764, 0.8784606456756592, 0.8828074336051941, 0.8758068084716797, 0.8738446235656738, 0.8859202265739441, 0.8734261691570282, 0.924271285533905, 0.9351702928543091, 0.9062114059925079, 0.9433464109897614, 0.9173753559589386, 0.9624298810958862, 0.8782917261123657, 0.9286452233791351, 0.9403885304927826, 0.9127687215805054, 0.8997379243373871, 0.9061174094676971, 0.8834547996520996, 0.8920874297618866, 0.9529380202293396, 0.8768191933631897, 0.9290454387664795, 0.8928613364696503, 0.9220239222049713, 0.8810549974441528, 0.8854456543922424, 0.8826780915260315, 0.8949766755104065, 0.9083128273487091, 0.8717730939388275, 0.8893847465515137, 0.881375253200531, 0.8869880139827728, 0.8913297355175018, 0.8709937632083893, 0.8789907693862915, 0.8936913311481476, 0.8860014975070953, 0.876817524433136, 0.8810408115386963, 0.8935340940952301, 0.9430205821990967, 0.880714625120163, 0.9325948357582092, 0.8845663964748383, 0.8729152083396912, 0.8927436172962189, 0.9033701717853546, 0.8945190608501434, 0.8697274923324585, 0.8697531223297119, 0.8853835165500641, 0.868256151676178, 0.9134638011455536, 0.8819556832313538, 0.902245044708252, 0.8767577111721039, 0.9399980306625366, 0.8857416808605194, 0.8881416618824005, 0.9200587272644043, 0.9119423925876617, 0.8907447755336761, 0.8886264264583588, 0.8811731040477753, 0.9386663436889648, 0.897666871547699, 0.9555019736289978, 0.8936858773231506, 0.8933663368225098, 0.902185708284378, 0.9125577807426453, 0.8607383370399475, 0.8661178052425385, 0.8747956454753876, 0.9419557452201843, 0.87493497133255, 0.8877823948860168, 0.8981521725654602, 0.8711954355239868, 0.9054333865642548, 0.8811805248260498, 0.8728650212287903, 0.9280224740505219, 0.9301651120185852, 0.9408161640167236, 0.8866685032844543, 0.8707096576690674, 0.9486989378929138, 0.9199171364307404, 0.8670973181724548, 0.9355454742908478, 0.8720718026161194, 0.8802908360958099, 0.8872933685779572, 0.9100232720375061, 0.9032106995582581, 0.8794182538986206, 0.8970709145069122, 0.9010440707206726, 0.929833859205246, 0.9070931673049927, 0.8646879196166992, 0.9499756395816803, 0.8805316090583801, 0.937151700258255, 0.8905715644359589, 0.8697382211685181, 0.9411251246929169, 0.890898734331131, 0.8806197047233582, 0.872398853302002, 0.8767064809799194, 0.8787872493267059, 0.8862233757972717, 0.8842101395130157, 0.871241420507431, 0.9105864465236664, 0.8947628438472748, 0.8868739008903503, 0.9079962074756622, 0.8766064345836639, 0.894011527299881, 0.870708167552948, 0.9109584987163544, 0.8851725161075592, 0.9134414494037628, 0.9249052107334137, 0.8962917029857635, 0.8762282133102417, 0.9344835877418518, 0.8900699615478516, 0.8858880400657654, 0.8811763226985931, 0.8922861814498901, 0.8814209997653961, 0.8833966851234436, 0.8978244364261627, 0.8910789489746094, 0.9170635044574738, 0.894024670124054, 0.8783132135868073, 0.9358566403388977, 0.9015101790428162, 0.8815719187259674, 0.891577422618866, 0.9323736131191254, 0.9004775881767273, 0.8877507448196411, 0.8999452888965607, 0.8697313070297241, 0.8794739246368408, 0.8852261006832123, 0.8862820267677307, 0.8830603361129761, 0.8922101259231567, 0.8716269731521606, 0.8718123733997345, 0.9275589883327484, 0.9391247630119324, 0.8757373094558716, 0.868091493844986, 0.8780017793178558, 0.8844591677188873, 0.9095999300479889, 0.8976987898349762, 0.8754364550113678, 0.9616303145885468, 0.9497303664684296, 0.8884800970554352, 0.8977913558483124, 0.8851557374000549, 0.9347447752952576, 0.8672278821468353, 0.8914788663387299, 0.9364049136638641, 0.9241715967655182, 0.9197811186313629, 0.892155796289444, 0.9243801236152649, 0.8666765689849854, 0.881531298160553, 0.9113970398902893, 0.9112559258937836, 0.9076598286628723, 0.8893967568874359, 0.950031578540802, 0.8689267635345459, 0.9491027295589447, 0.8596939444541931, 0.867069274187088, 0.9193882048130035, 0.8960407078266144, 0.8922723531723022, 0.8863937258720398, 0.9227257668972015, 0.8761126399040222, 0.9006574153900146, 0.8771018385887146, 0.8819212019443512, 0.8921368718147278, 0.9574504196643829, 0.8876359760761261, 0.8753495216369629, 0.9533717334270477, 0.8732766211032867, 0.9081139266490936, 0.9034188985824585, 0.8749528527259827, 0.9039771556854248, 0.9098118841648102, 0.8818191587924957, 0.8703168034553528, 0.8895983397960663, 0.8759823441505432, 0.9396584331989288, 0.8887157738208771, 0.8749885857105255, 0.8899074494838715, 0.8893574476242065, 0.880050003528595, 0.8914760053157806, 0.9252827763557434, 0.8989116847515106, 0.8986571431159973, 0.9025403261184692, 0.9071835577487946, 0.9519353210926056, 0.9095669090747833, 0.8914450705051422, 0.8996079564094543, 0.9347804486751556, 0.9391777813434601, 0.8925005495548248, 0.881235659122467, 0.913283109664917, 0.8698214292526245, 0.9059269726276398, 0.9106990396976471, 0.9006537199020386, 0.8841695785522461, 0.8839329779148102, 0.9060761332511902, 0.8905587494373322, 0.9408878087997437, 0.8710838258266449, 0.9482179582118988, 0.9364621043205261, 0.8905211091041565, 0.8695670664310455, 0.877469390630722, 0.8865646123886108, 0.9245417714118958, 0.9289353787899017, 0.9008359014987946, 0.9251308739185333, 0.9183111786842346, 0.9079027473926544, 0.8787881731987, 0.9004243612289429, 0.8819487690925598, 0.888949066400528, 0.873847633600235, 0.8727831840515137, 0.9012728929519653, 0.88316610455513, 0.9021573662757874, 0.880018413066864, 0.9522105157375336, 0.873224526643753, 0.8781257569789886, 0.9244950115680695, 0.8929972648620605, 0.948479562997818, 0.8948915898799896, 0.8937532305717468, 0.887986034154892, 0.8688913881778717, 0.8702430427074432, 0.8828933238983154, 0.8728047609329224, 0.9051148295402527, 0.8879411518573761, 0.9403221309185028, 0.8934917747974396, 0.9199602007865906, 0.8799728155136108, 0.8835267424583435, 0.9556736350059509, 0.9029600620269775, 0.8860190808773041, 0.9114508330821991, 0.927441269159317, 0.9025285840034485, 0.8843545019626617, 0.9022635221481323, 0.8944953382015228, 0.879655510187149, 0.8897213339805603, 0.87513467669487, 0.8815420866012573, 0.9029655456542969, 0.9103751182556152, 0.9366554617881775, 0.8695476353168488, 0.8735930323600769, 0.9398325085639954, 0.8969829380512238, 0.9044711589813232, 0.8695213794708252, 0.8796889781951904, 0.8758627772331238, 0.8744637370109558, 0.9442436397075653, 0.8910064101219177, 0.9020412266254425, 0.893574059009552, 0.8790329098701477, 0.8912031352519989, 0.9223278164863586, 0.8742407560348511, 0.8977109789848328, 0.8646090030670166, 0.894422858953476, 0.8930162787437439, 0.8759443163871765, 0.8826808929443359, 0.9041623771190643, 0.8862771689891815, 0.8991627395153046, 0.9226000010967255, 0.9120663702487946, 0.8836930990219116, 0.8717698454856873, 0.8915632963180542, 0.9190435707569122, 0.8785537481307983, 0.8910934627056122, 0.94964399933815, 0.8765668272972107, 0.8742679953575134, 0.8822562396526337, 0.915097564458847, 0.9435640275478363, 0.9385096728801727, 0.9171053767204285, 0.8825906813144684, 0.8834856152534485, 0.87123703956604, 0.8943651914596558, 0.9038188755512238, 0.9319945871829987, 0.8812436163425446, 0.8985988199710846, 0.8818190395832062, 0.8958631455898285, 0.9263133108615875, 0.9123531579971313, 0.8854420185089111, 0.9203574359416962, 0.8883715271949768, 0.8824682831764221, 0.9091843664646149, 0.8762158751487732, 0.9055976569652557, 0.8910353183746338, 0.8918921649456024, 0.8777737319469452, 0.9009533226490021, 0.9611529409885406, 0.9158895313739777, 0.8838123083114624, 0.8922677934169769, 0.8962787687778473, 0.925090879201889, 0.8940079808235168, 0.9426024854183197, 0.8732709586620331, 0.8997770845890045, 0.8899600505828857, 0.9517385959625244, 0.9090785682201385, 0.8963131010532379, 0.87957364320755, 0.9273307025432587, 0.9534883499145508, 0.9114079177379608, 0.9095928966999054, 0.9346409142017365, 0.9303266108036041, 0.8834283351898193, 0.9035420715808868, 0.9071995913982391, 0.9122675061225891, 0.9000179767608643, 0.8741625845432281, 0.9477525949478149, 0.8926431238651276, 0.9345398247241974, 0.9090874195098877, 0.8732993304729462, 0.883817195892334, 0.9144223034381866, 0.8781244158744812, 0.8955479264259338, 0.8733905255794525, 0.943202942609787, 0.8696906268596649, 0.9317289590835571, 0.8833782076835632, 0.9043429493904114, 0.947385847568512, 0.8744096457958221, 0.890148788690567, 0.858175128698349, 0.9055844247341156, 0.8631754219532013, 0.9103862941265106, 0.8570495247840881, 0.8883975148200989, 0.8700204491615295, 0.8947901427745819, 0.9103468954563141, 0.880185067653656, 0.8855397999286652, 0.9074565470218658, 0.9056411683559418, 0.8672329187393188, 0.9526370465755463, 0.8849367201328278, 0.9047280550003052, 0.9530273675918579, 0.8979295492172241, 0.8821002244949341, 0.9060623049736023, 0.8805967271327972, 0.9004723727703094, 0.8954024016857147, 0.918540745973587, 0.9441595673561096, 0.9549630880355835, 0.8931370675563812, 0.8863207101821899, 0.949194461107254, 0.8809467852115631, 0.9481504857540131, 0.8820889294147491, 0.9203044176101685, 0.9259310960769653, 0.929244339466095, 0.8957793414592743, 0.8916369676589966, 0.870099276304245, 0.9042414724826813, 0.8656357824802399, 0.863780289888382, 0.9037409722805023, 0.9500120282173157, 0.8688195645809174, 0.9400589764118195, 0.8726720213890076, 0.8693660795688629, 0.8911502957344055, 0.8734147548675537, 0.9542235434055328, 0.9570443034172058, 0.93559730052948, 0.934035450220108, 0.9572544395923615, 0.9417662024497986, 0.8907323777675629, 0.8956223726272583, 0.9467425644397736, 0.9109372794628143, 0.954587310552597, 0.8893986940383911, 0.9426965713500977, 0.87690669298172, 0.8635894656181335, 0.8923338949680328, 0.9438436329364777, 0.8954938650131226, 0.8855196833610535, 0.9404166638851166, 0.8816843926906586, 0.8865537643432617, 0.8886875212192535, 0.872755616903305, 0.8971483111381531, 0.8849749863147736, 0.8935402631759644, 0.8894974589347839, 0.8869127333164215, 0.9093091189861298, 0.8749265670776367, 0.9057722389698029, 0.8930492997169495, 0.9456906616687775, 0.9463366866111755, 0.865990161895752, 0.8926500678062439, 0.9318540990352631, 0.8905065655708313, 0.8760443031787872, 0.8950633406639099, 0.877534031867981, 0.8950514197349548, 0.8666672706604004, 0.8829226195812225, 0.9467059671878815, 0.8850357234477997, 0.9306999146938324, 0.9584356844425201, 0.9080771207809448, 0.8798855245113373, 0.9136364758014679, 0.8657160401344299, 0.8781110048294067, 0.8738449513912201, 0.938213586807251, 0.8758963942527771, 0.8948367834091187, 0.9519020617008209, 0.8896403610706329, 0.8901621401309967, 0.8989303112030029, 0.8886177241802216, 0.8681872189044952, 0.8999046385288239, 0.956398069858551, 0.8928126096725464, 0.8905531466007233, 0.8883377015590668, 0.8693570196628571, 0.8907109797000885, 0.9194755852222443, 0.8678703308105469, 0.8769555389881134, 0.8799683749675751, 0.8711824417114258, 0.8926888108253479, 0.8775532245635986, 0.8886196911334991, 0.8698802888393402, 0.8740654289722443, 0.8825269341468811, 0.9024686515331268, 0.9234559535980225, 0.8825717568397522, 0.8917731642723083, 0.879326194524765, 0.9018070697784424, 0.8852671980857849, 0.8768457174301147, 0.9376254379749298, 0.8906003534793854, 0.8898327052593231, 0.8772437572479248, 0.8792024552822113, 0.8842566609382629, 0.8731989562511444, 0.9022800624370575, 0.9299882054328918, 0.8727404773235321, 0.9074033200740814, 0.8718634247779846, 0.891101747751236, 0.8968078196048737, 0.9087488055229187, 0.8963085114955902, 0.9313778281211853, 0.9514227509498596, 0.894451916217804, 0.9333264827728271, 0.912903755903244, 0.8658207058906555, 0.9359699785709381, 0.8637318313121796, 0.8802081048488617, 0.9079950153827667, 0.8912729024887085, 0.8755058944225311, 0.962499350309372, 0.8739877343177795, 0.8685210347175598, 0.922105073928833, 0.8807766735553741, 0.9042308032512665, 0.8995926380157471, 0.9163073301315308, 0.8789275288581848, 0.9256965219974518, 0.9035299122333527, 0.9165542423725128, 0.9057683050632477, 0.9203401505947113, 0.8709168434143066, 0.9159893095493317, 0.8736180663108826, 0.8918790221214294], \"xaxis\": \"x\", \"yaxis\": \"y\"}],                        {\"barmode\": \"relative\", \"legend\": {\"tracegroupgap\": 0}, \"template\": {\"data\": {\"bar\": [{\"error_x\": {\"color\": \"#2a3f5f\"}, \"error_y\": {\"color\": \"#2a3f5f\"}, \"marker\": {\"line\": {\"color\": \"#E5ECF6\", \"width\": 0.5}}, \"type\": \"bar\"}], \"barpolar\": [{\"marker\": {\"line\": {\"color\": \"#E5ECF6\", \"width\": 0.5}}, \"type\": \"barpolar\"}], \"carpet\": [{\"aaxis\": {\"endlinecolor\": \"#2a3f5f\", \"gridcolor\": \"white\", \"linecolor\": \"white\", \"minorgridcolor\": \"white\", \"startlinecolor\": \"#2a3f5f\"}, \"baxis\": {\"endlinecolor\": \"#2a3f5f\", \"gridcolor\": \"white\", \"linecolor\": \"white\", \"minorgridcolor\": \"white\", \"startlinecolor\": \"#2a3f5f\"}, \"type\": \"carpet\"}], \"choropleth\": [{\"colorbar\": {\"outlinewidth\": 0, \"ticks\": \"\"}, \"type\": \"choropleth\"}], \"contour\": [{\"colorbar\": {\"outlinewidth\": 0, \"ticks\": \"\"}, \"colorscale\": [[0.0, \"#0d0887\"], [0.1111111111111111, \"#46039f\"], [0.2222222222222222, \"#7201a8\"], [0.3333333333333333, \"#9c179e\"], [0.4444444444444444, \"#bd3786\"], [0.5555555555555556, \"#d8576b\"], [0.6666666666666666, \"#ed7953\"], [0.7777777777777778, \"#fb9f3a\"], [0.8888888888888888, \"#fdca26\"], [1.0, \"#f0f921\"]], \"type\": \"contour\"}], \"contourcarpet\": [{\"colorbar\": {\"outlinewidth\": 0, \"ticks\": \"\"}, \"type\": \"contourcarpet\"}], \"heatmap\": [{\"colorbar\": {\"outlinewidth\": 0, \"ticks\": \"\"}, \"colorscale\": [[0.0, \"#0d0887\"], [0.1111111111111111, \"#46039f\"], [0.2222222222222222, \"#7201a8\"], [0.3333333333333333, \"#9c179e\"], [0.4444444444444444, \"#bd3786\"], [0.5555555555555556, \"#d8576b\"], [0.6666666666666666, \"#ed7953\"], [0.7777777777777778, \"#fb9f3a\"], [0.8888888888888888, \"#fdca26\"], [1.0, \"#f0f921\"]], \"type\": \"heatmap\"}], \"heatmapgl\": [{\"colorbar\": {\"outlinewidth\": 0, \"ticks\": \"\"}, \"colorscale\": [[0.0, \"#0d0887\"], [0.1111111111111111, \"#46039f\"], [0.2222222222222222, \"#7201a8\"], [0.3333333333333333, \"#9c179e\"], [0.4444444444444444, \"#bd3786\"], [0.5555555555555556, \"#d8576b\"], [0.6666666666666666, \"#ed7953\"], [0.7777777777777778, \"#fb9f3a\"], [0.8888888888888888, \"#fdca26\"], [1.0, \"#f0f921\"]], \"type\": \"heatmapgl\"}], \"histogram\": [{\"marker\": {\"colorbar\": {\"outlinewidth\": 0, \"ticks\": \"\"}}, \"type\": \"histogram\"}], \"histogram2d\": [{\"colorbar\": {\"outlinewidth\": 0, \"ticks\": \"\"}, \"colorscale\": [[0.0, \"#0d0887\"], [0.1111111111111111, \"#46039f\"], [0.2222222222222222, \"#7201a8\"], [0.3333333333333333, \"#9c179e\"], [0.4444444444444444, \"#bd3786\"], [0.5555555555555556, \"#d8576b\"], [0.6666666666666666, \"#ed7953\"], [0.7777777777777778, \"#fb9f3a\"], [0.8888888888888888, \"#fdca26\"], [1.0, \"#f0f921\"]], \"type\": \"histogram2d\"}], \"histogram2dcontour\": [{\"colorbar\": {\"outlinewidth\": 0, \"ticks\": \"\"}, \"colorscale\": [[0.0, \"#0d0887\"], [0.1111111111111111, \"#46039f\"], [0.2222222222222222, \"#7201a8\"], [0.3333333333333333, \"#9c179e\"], [0.4444444444444444, \"#bd3786\"], [0.5555555555555556, \"#d8576b\"], [0.6666666666666666, \"#ed7953\"], [0.7777777777777778, \"#fb9f3a\"], [0.8888888888888888, \"#fdca26\"], [1.0, \"#f0f921\"]], \"type\": \"histogram2dcontour\"}], \"mesh3d\": [{\"colorbar\": {\"outlinewidth\": 0, \"ticks\": \"\"}, \"type\": \"mesh3d\"}], \"parcoords\": [{\"line\": {\"colorbar\": {\"outlinewidth\": 0, \"ticks\": \"\"}}, \"type\": \"parcoords\"}], \"pie\": [{\"automargin\": true, \"type\": \"pie\"}], \"scatter\": [{\"marker\": {\"colorbar\": {\"outlinewidth\": 0, \"ticks\": \"\"}}, \"type\": \"scatter\"}], \"scatter3d\": [{\"line\": {\"colorbar\": {\"outlinewidth\": 0, \"ticks\": \"\"}}, \"marker\": {\"colorbar\": {\"outlinewidth\": 0, \"ticks\": \"\"}}, \"type\": \"scatter3d\"}], \"scattercarpet\": [{\"marker\": {\"colorbar\": {\"outlinewidth\": 0, \"ticks\": \"\"}}, \"type\": \"scattercarpet\"}], \"scattergeo\": [{\"marker\": {\"colorbar\": {\"outlinewidth\": 0, \"ticks\": \"\"}}, \"type\": \"scattergeo\"}], \"scattergl\": [{\"marker\": {\"colorbar\": {\"outlinewidth\": 0, \"ticks\": \"\"}}, \"type\": \"scattergl\"}], \"scattermapbox\": [{\"marker\": {\"colorbar\": {\"outlinewidth\": 0, \"ticks\": \"\"}}, \"type\": \"scattermapbox\"}], \"scatterpolar\": [{\"marker\": {\"colorbar\": {\"outlinewidth\": 0, \"ticks\": \"\"}}, \"type\": \"scatterpolar\"}], \"scatterpolargl\": [{\"marker\": {\"colorbar\": {\"outlinewidth\": 0, \"ticks\": \"\"}}, \"type\": \"scatterpolargl\"}], \"scatterternary\": [{\"marker\": {\"colorbar\": {\"outlinewidth\": 0, \"ticks\": \"\"}}, \"type\": \"scatterternary\"}], \"surface\": [{\"colorbar\": {\"outlinewidth\": 0, \"ticks\": \"\"}, \"colorscale\": [[0.0, \"#0d0887\"], [0.1111111111111111, \"#46039f\"], [0.2222222222222222, \"#7201a8\"], [0.3333333333333333, \"#9c179e\"], [0.4444444444444444, \"#bd3786\"], [0.5555555555555556, \"#d8576b\"], [0.6666666666666666, \"#ed7953\"], [0.7777777777777778, \"#fb9f3a\"], [0.8888888888888888, \"#fdca26\"], [1.0, \"#f0f921\"]], \"type\": \"surface\"}], \"table\": [{\"cells\": {\"fill\": {\"color\": \"#EBF0F8\"}, \"line\": {\"color\": \"white\"}}, \"header\": {\"fill\": {\"color\": \"#C8D4E3\"}, \"line\": {\"color\": \"white\"}}, \"type\": \"table\"}]}, \"layout\": {\"annotationdefaults\": {\"arrowcolor\": \"#2a3f5f\", \"arrowhead\": 0, \"arrowwidth\": 1}, \"autotypenumbers\": \"strict\", \"coloraxis\": {\"colorbar\": {\"outlinewidth\": 0, \"ticks\": \"\"}}, \"colorscale\": {\"diverging\": [[0, \"#8e0152\"], [0.1, \"#c51b7d\"], [0.2, \"#de77ae\"], [0.3, \"#f1b6da\"], [0.4, \"#fde0ef\"], [0.5, \"#f7f7f7\"], [0.6, \"#e6f5d0\"], [0.7, \"#b8e186\"], [0.8, \"#7fbc41\"], [0.9, \"#4d9221\"], [1, \"#276419\"]], \"sequential\": [[0.0, \"#0d0887\"], [0.1111111111111111, \"#46039f\"], [0.2222222222222222, \"#7201a8\"], [0.3333333333333333, \"#9c179e\"], [0.4444444444444444, \"#bd3786\"], [0.5555555555555556, \"#d8576b\"], [0.6666666666666666, \"#ed7953\"], [0.7777777777777778, \"#fb9f3a\"], [0.8888888888888888, \"#fdca26\"], [1.0, \"#f0f921\"]], \"sequentialminus\": [[0.0, \"#0d0887\"], [0.1111111111111111, \"#46039f\"], [0.2222222222222222, \"#7201a8\"], [0.3333333333333333, \"#9c179e\"], [0.4444444444444444, \"#bd3786\"], [0.5555555555555556, \"#d8576b\"], [0.6666666666666666, \"#ed7953\"], [0.7777777777777778, \"#fb9f3a\"], [0.8888888888888888, \"#fdca26\"], [1.0, \"#f0f921\"]]}, \"colorway\": [\"#636efa\", \"#EF553B\", \"#00cc96\", \"#ab63fa\", \"#FFA15A\", \"#19d3f3\", \"#FF6692\", \"#B6E880\", \"#FF97FF\", \"#FECB52\"], \"font\": {\"color\": \"#2a3f5f\"}, \"geo\": {\"bgcolor\": \"white\", \"lakecolor\": \"white\", \"landcolor\": \"#E5ECF6\", \"showlakes\": true, \"showland\": true, \"subunitcolor\": \"white\"}, \"hoverlabel\": {\"align\": \"left\"}, \"hovermode\": \"closest\", \"mapbox\": {\"style\": \"light\"}, \"paper_bgcolor\": \"white\", \"plot_bgcolor\": \"#E5ECF6\", \"polar\": {\"angularaxis\": {\"gridcolor\": \"white\", \"linecolor\": \"white\", \"ticks\": \"\"}, \"bgcolor\": \"#E5ECF6\", \"radialaxis\": {\"gridcolor\": \"white\", \"linecolor\": \"white\", \"ticks\": \"\"}}, \"scene\": {\"xaxis\": {\"backgroundcolor\": \"#E5ECF6\", \"gridcolor\": \"white\", \"gridwidth\": 2, \"linecolor\": \"white\", \"showbackground\": true, \"ticks\": \"\", \"zerolinecolor\": \"white\"}, \"yaxis\": {\"backgroundcolor\": \"#E5ECF6\", \"gridcolor\": \"white\", \"gridwidth\": 2, \"linecolor\": \"white\", \"showbackground\": true, \"ticks\": \"\", \"zerolinecolor\": \"white\"}, \"zaxis\": {\"backgroundcolor\": \"#E5ECF6\", \"gridcolor\": \"white\", \"gridwidth\": 2, \"linecolor\": \"white\", \"showbackground\": true, \"ticks\": \"\", \"zerolinecolor\": \"white\"}}, \"shapedefaults\": {\"line\": {\"color\": \"#2a3f5f\"}}, \"ternary\": {\"aaxis\": {\"gridcolor\": \"white\", \"linecolor\": \"white\", \"ticks\": \"\"}, \"baxis\": {\"gridcolor\": \"white\", \"linecolor\": \"white\", \"ticks\": \"\"}, \"bgcolor\": \"#E5ECF6\", \"caxis\": {\"gridcolor\": \"white\", \"linecolor\": \"white\", \"ticks\": \"\"}}, \"title\": {\"x\": 0.05}, \"xaxis\": {\"automargin\": true, \"gridcolor\": \"white\", \"linecolor\": \"white\", \"ticks\": \"\", \"title\": {\"standoff\": 15}, \"zerolinecolor\": \"white\", \"zerolinewidth\": 2}, \"yaxis\": {\"automargin\": true, \"gridcolor\": \"white\", \"linecolor\": \"white\", \"ticks\": \"\", \"title\": {\"standoff\": 15}, \"zerolinecolor\": \"white\", \"zerolinewidth\": 2}}}, \"title\": {\"text\": \"Histogram of Similarity of User Positive Ratings\"}, \"xaxis\": {\"anchor\": \"y\", \"domain\": [0.0, 1.0], \"title\": {\"text\": \"similarity_norm\"}}, \"yaxis\": {\"anchor\": \"x\", \"domain\": [0.0, 1.0], \"title\": {\"text\": \"count\"}}},                        {\"responsive\": true}                    ).then(function(){\n",
       "                            \n",
       "var gd = document.getElementById('c15fea7e-b8c3-42af-ab49-52b2897fc14e');\n",
       "var x = new MutationObserver(function (mutations, observer) {{\n",
       "        var display = window.getComputedStyle(gd).display;\n",
       "        if (!display || display === 'none') {{\n",
       "            console.log([gd, 'removed!']);\n",
       "            Plotly.purge(gd);\n",
       "            observer.disconnect();\n",
       "        }}\n",
       "}});\n",
       "\n",
       "// Listen for the removal of the full notebook cells\n",
       "var notebookContainer = gd.closest('#notebook-container');\n",
       "if (notebookContainer) {{\n",
       "    x.observe(notebookContainer, {childList: true});\n",
       "}}\n",
       "\n",
       "// Listen for the clearing of the current output cell\n",
       "var outputEl = gd.closest('.output');\n",
       "if (outputEl) {{\n",
       "    x.observe(outputEl, {childList: true});\n",
       "}}\n",
       "\n",
       "                        })                };                });            </script>        </div>"
      ]
     },
     "metadata": {},
     "output_type": "display_data"
    }
   ],
   "source": [
    "users[\"similarity_norm\"] = users[\"similarity\"].apply(lambda x: (x + 1) / 2)\n",
    "px.histogram(users, x=\"similarity_norm\", title=\"Histogram of Similarity of User Positive Ratings\")"
   ]
  },
  {
   "cell_type": "code",
   "execution_count": 14,
   "metadata": {},
   "outputs": [
    {
     "data": {
      "text/plain": [
       "0.8987307282769756"
      ]
     },
     "execution_count": 14,
     "metadata": {},
     "output_type": "execute_result"
    }
   ],
   "source": [
    "users[\"similarity_norm\"].mean()"
   ]
  },
  {
   "cell_type": "code",
   "execution_count": 15,
   "metadata": {},
   "outputs": [
    {
     "data": {
      "text/plain": [
       "count    942.000000\n",
       "mean       0.898731\n",
       "std        0.024805\n",
       "min        0.839796\n",
       "25%        0.880086\n",
       "50%        0.892146\n",
       "75%        0.912118\n",
       "max        0.962499\n",
       "Name: similarity_norm, dtype: float64"
      ]
     },
     "execution_count": 15,
     "metadata": {},
     "output_type": "execute_result"
    }
   ],
   "source": [
    "users.similarity_norm.describe()"
   ]
  },
  {
   "cell_type": "code",
   "execution_count": null,
   "metadata": {},
   "outputs": [],
   "source": []
  }
 ],
 "metadata": {
  "interpreter": {
   "hash": "23b1c047fd19bf20d4111f807c9e6bee9fdce0e396893bab828ebbcdf9a68cad"
  },
  "kernelspec": {
   "display_name": "Python 3.8.13 ('rsrl')",
   "language": "python",
   "name": "python3"
  },
  "language_info": {
   "codemirror_mode": {
    "name": "ipython",
    "version": 3
   },
   "file_extension": ".py",
   "mimetype": "text/x-python",
   "name": "python",
   "nbconvert_exporter": "python",
   "pygments_lexer": "ipython3",
   "version": "3.8.13"
  }
 },
 "nbformat": 4,
 "nbformat_minor": 4
}
