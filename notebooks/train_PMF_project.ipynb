{
  "cells": [
    {
      "cell_type": "code",
      "execution_count": null,
      "metadata": {},
      "outputs": [],
      "source": [
        "from __future__ import print_function\n",
        "\n",
        "import os\n",
        "import pickle\n",
        "\n",
        "import numpy as np\n",
        "import pandas as pd\n",
        "\n",
        "import torch\n",
        "import torch.nn as nn\n",
        "import torch.optim as optim\n",
        "from torch.autograd import Variable\n",
        "import torch.utils.data\n",
        "\n",
        "import matplotlib.pyplot as plt\n",
        "\n",
        "from src.model.pmf import PMF"
      ]
    },
    {
      "cell_type": "code",
      "execution_count": null,
      "metadata": {},
      "outputs": [],
      "source": [
        "def RMSE(preds, truth):\n",
        "    return np.sqrt(np.mean(np.square(preds-truth)))"
      ]
    },
    {
      "cell_type": "code",
      "execution_count": null,
      "metadata": {},
      "outputs": [],
      "source": [
        "# HYPERPARAMETERS \n",
        "\n",
        "# Input batch size for training\n",
        "batch_size = 1000\n",
        "# Number of maximum epoches to train\n",
        "epoches = 1000\n",
        "# Enables CUDA training\n",
        "no_cuda = False\n",
        "# Generate random seed\n",
        "seed = 1\n",
        "# Weight decay\n",
        "weight_decay = 0.1\n",
        "# Size of embedding features\n",
        "embedding_feature_size = 50\n",
        "# Training ratio\n",
        "ratio = 0.8\n",
        "# Learning rate\n",
        "lr = 0.0001\n",
        "# Momentum value\n",
        "momentum = 0.9"
      ]
    },
    {
      "cell_type": "code",
      "execution_count": null,
      "metadata": {},
      "outputs": [],
      "source": [
        "rp = pd.read_csv(\"dataset/ratings.csv\")\n",
        "rp[\"rating\"] = rp[\"rating\"].astype(\"float\")\n",
        "rp = rp.sort_values([\"user_id\", \"timestamp\"])\n",
        "rp.head()"
      ]
    },
    {
      "cell_type": "code",
      "execution_count": null,
      "metadata": {},
      "outputs": [],
      "source": [
        "data = rp[[\"user_id\", \"movie_id\", \"rating\"]].values\n",
        " \n",
        "# Normalize rewards to [-1, 1]\n",
        "data[:,2] = 0.5*(data[:,2] - 3)"
      ]
    },
    {
      "cell_type": "code",
      "execution_count": null,
      "metadata": {},
      "outputs": [],
      "source": [
        "# Shuffle data\n",
        "np.random.shuffle(data)"
      ]
    },
    {
      "cell_type": "code",
      "execution_count": null,
      "metadata": {},
      "outputs": [],
      "source": [
        "# Split data\n",
        "train_data = data[:int(ratio * data.shape[0])]\n",
        "vali_data = data[int(ratio * data.shape[0]): int((ratio+(1-ratio)/2)*data.shape[0])]\n",
        "test_data = data[int((ratio + (1 - ratio) / 2) * data.shape[0]) :]"
      ]
    },
    {
      "cell_type": "code",
      "execution_count": null,
      "metadata": {},
      "outputs": [],
      "source": [
        "NUM_USERS = 943  \n",
        "NUM_ITEMS = 1682 "
      ]
    },
    {
      "cell_type": "code",
      "execution_count": null,
      "metadata": {},
      "outputs": [],
      "source": [
        "# Get CUDA device if available\n",
        "cuda = torch.cuda.is_available()\n",
        " \n",
        "# Set device to CUDA or CPU, depending on availability and desire\n",
        "device = torch.device(\"cuda\" if cuda and no_cuda else \"cpu\")\n",
        " \n",
        "# Generate and apply seeds\n",
        "torch.manual_seed(seed=seed)\n",
        "if cuda:\n",
        "    torch.cuda.empty_cache()\n",
        "    torch.cuda.manual_seed(seed=seed)\n",
        " \n",
        "# Specify number of workers for cuda\n",
        "kwargs = {\"num_workers\":1, \"pin_memory\":True} if cuda else {}\n",
        " \n",
        "# Construct Data Loaders\n",
        "train_data_loader = torch.utils.data.DataLoader(torch.from_numpy(train_data), batch_size=batch_size, shuffle=False, **kwargs)\n",
        "test_data_loader = torch.utils.data.DataLoader(torch.from_numpy(test_data), batch_size=batch_size, shuffle=False, **kwargs)"
      ]
    },
    {
      "cell_type": "code",
      "execution_count": null,
      "metadata": {},
      "outputs": [],
      "source": [
        "# Initialize model\n",
        "model = PMF(n_users=NUM_USERS, n_items=NUM_ITEMS, n_factors=embedding_feature_size, no_cuda=no_cuda)\n",
        " \n",
        "# Move model to CUDA if CUDA selected\n",
        "if cuda:\n",
        "    model.cuda()\n",
        "    print(\"Model moved to CUDA\")\n",
        " \n",
        "# Set loss function\n",
        "loss_function = nn.MSELoss(reduction=\"sum\")\n",
        "\n",
        "# Set optimizer (uncomment Adam for adam)\n",
        "# optimizer = optim.SGD(model.parameters(), lr=lr, weight_decay=weight_decay, momentum=momentum)\n",
        "optimizer = optim.Adam(model.parameters(), lr=lr, weight_decay=weight_decay)"
      ]
    },
    {
      "cell_type": "code",
      "execution_count": null,
      "metadata": {},
      "outputs": [],
      "source": [
        "# Function for training one epoch\n",
        "def train(epoch, train_data_loader):\n",
        "    # Initialize\n",
        "    model.train()\n",
        "    epoch_loss = 0.0\n",
        "    optimizer.zero_grad()\n",
        " \n",
        "    # Go through batches\n",
        "    for batch_idx, ele in enumerate(train_data_loader):\n",
        "        # Zero optimizer gradient\n",
        "        optimizer.zero_grad()\n",
        " \n",
        "        # Extract user_id_nums: row 0, item_id_nums: col 1 , ratings: val 2\n",
        "        row = ele[:, 0]\n",
        "        col = ele[:, 1]\n",
        "        val = ele[:, 2]\n",
        " \n",
        "        # Set to variables\n",
        "        row = Variable(row.long())\n",
        "        if isinstance(col, list):\n",
        "            col = tuple(Variable(c.long()) for c in col)\n",
        "        else:\n",
        "            col = Variable(col.long())\n",
        "        val = Variable(val.float())\n",
        "\n",
        "        # Move data to CUDA\n",
        "        if cuda:\n",
        "            row = row.cuda()\n",
        "            col = col.cuda()\n",
        "            val = val.cuda()\n",
        " \n",
        "        # Train\n",
        "        preds = model.forward(row, col)\n",
        "        loss = loss_function(preds, val)\n",
        "        loss.backward()\n",
        "        optimizer.step()\n",
        " \n",
        "        # Update epoch loss\n",
        "        epoch_loss += loss.data\n",
        " \n",
        "    epoch_loss /= train_data_loader.dataset.shape[0]\n",
        "    return epoch_loss"
      ]
    },
    {
      "cell_type": "code",
      "execution_count": null,
      "metadata": {
        "colab": {
          "base_uri": "https://localhost:8080/",
          "height": 1000
        },
        "id": "T4oQhwIIV37u",
        "outputId": "a2a0db8f-3468-45e2-8be7-20f5d3be655a"
      },
      "outputs": [],
      "source": [
        "# Training Model\n",
        "\n",
        "train_loss_list = []\n",
        "last_vali_rmse = None\n",
        "train_rmse_list = []\n",
        "vali_rmse_list = []\n",
        "print(\"parameters are: train ratio:{:f},batch_size:{:d}, epoches:{:d}, weight_decay:{:f}\".format(ratio, batch_size, epoches, weight_decay))\n",
        "print(model)\n",
        "\n",
        "# Go through epochs\n",
        "for epoch in range(1, epoches+1):\n",
        " \n",
        "    # Train epoch\n",
        "    train_epoch_loss = train(epoch, train_data_loader)\n",
        " \n",
        "    # Get epoch loss\n",
        "    train_loss_list.append(train_epoch_loss.cpu())\n",
        " \n",
        "    # Move validation data to CUDA\n",
        "    if cuda:\n",
        "        vali_row = Variable(torch.from_numpy(vali_data[:, 0]).long()).cuda()\n",
        "        vali_col = Variable(torch.from_numpy(vali_data[:, 1]).long()).cuda()\n",
        "    else:\n",
        "        vali_row = Variable(torch.from_numpy(vali_data[:, 0]).long())\n",
        "        vali_col = Variable(torch.from_numpy(vali_data[:, 1]).long())\n",
        " \n",
        "    # Get validation predictions\n",
        "    vali_preds = model.predict(vali_row, vali_col)\n",
        " \n",
        "    # Calculate train rmse loss\n",
        "    train_rmse = np.sqrt(train_epoch_loss.cpu())\n",
        " \n",
        "    # Calculate validation rmse loss\n",
        "    if cuda:\n",
        "        vali_rmse = RMSE(vali_preds.cpu().data.numpy(), vali_data[:, 2])\n",
        "    else:\n",
        "        vali_rmse = RMSE(vali_preds.data.numpy(), vali_data[:, 2])\n",
        " \n",
        "    # Add losses to rmse loss lists\n",
        "    train_rmse_list.append(train_rmse)\n",
        "    vali_rmse_list.append(vali_rmse)\n",
        " \n",
        "    print(\"Training epoch:{: d}, training rmse:{: .6f}, vali rmse:{:.6f}\". \\\n",
        "              format(epoch, train_rmse, vali_rmse))\n",
        " \n",
        "    # Early stop condition\n",
        "    if last_vali_rmse and last_vali_rmse < vali_rmse:\n",
        "        break\n",
        "    else:\n",
        "      last_vali_rmse = vali_rmse\n",
        " "
      ]
    },
    {
      "cell_type": "code",
      "execution_count": null,
      "metadata": {},
      "outputs": [],
      "source": [
        "# Testing Model\n",
        "\n",
        "# Move test set to CUDA\n",
        "if cuda:\n",
        "    test_row = Variable(torch.from_numpy(test_data[:, 0]).long()).cuda()\n",
        "    test_col = Variable(torch.from_numpy(test_data[:, 1]).long()).cuda()\n",
        "else:\n",
        "    test_row = Variable(torch.from_numpy(test_data[:, 0]).long())\n",
        "    test_col = Variable(torch.from_numpy(test_data[:, 1]).long())\n",
        " \n",
        "# Get test predictions\n",
        "preds = model.predict(test_row, test_col)\n",
        " \n",
        "# Get test rmse loss\n",
        "if cuda:\n",
        "    test_rmse = RMSE(preds.cpu().data.numpy(), test_data[:, 2])\n",
        "else:\n",
        "    test_rmse = RMSE(preds.data.numpy(), test_data[:, 2])\n",
        "print(\"Test rmse: {:f}\".format(test_rmse))\n",
        " \n",
        "# Create plots\n",
        "plt.figure(1)\n",
        "plt.plot(range(1, len(train_rmse_list)+1), train_rmse_list, color=\"r\", label=\"train rmse\")\n",
        "plt.plot(range(1, len(vali_rmse_list)+1), vali_rmse_list, color=\"b\", label=\"test rmse\")\n",
        "plt.legend()\n",
        "plt.annotate(r\"train=%f\" % (train_rmse_list[-1]), xy=(len(train_rmse_list), train_rmse_list[-1]),\n",
        "             xycoords=\"data\", xytext=(-30, 30), textcoords=\"offset points\", fontsize=10,\n",
        "             arrowprops=dict(arrowstyle=\"->\", connectionstyle=\"arc3, rad=.2\"))\n",
        "plt.annotate(r\"vali=%f\" % (vali_rmse_list[-1]), xy=(len(vali_rmse_list), vali_rmse_list[-1]),\n",
        "             xycoords=\"data\", xytext=(-30, 30), textcoords=\"offset points\", fontsize=10,\n",
        "             arrowprops=dict(arrowstyle=\"->\", connectionstyle=\"arc3, rad=.2\"))\n",
        "plt.xlim([1, len(train_rmse_list)+10])\n",
        "plt.xlabel(\"iterations\")\n",
        "plt.ylabel(\"RMSE\")\n",
        "plt.title(\"RMSE Curve in Training Process\")\n",
        "plt.show()\n",
        " \n",
        "# Save model\n",
        "path_to_trained_pmf = \"../model/pmf/emb_{:d}_ratio_{:f}_bs_{:d}_e_{:d}_wd_{:f}_lr_{:f}_trained_pmf.pt\".format(embedding_feature_size, ratio, batch_size, len(train_rmse_list), weight_decay, lr)\n",
        "torch.save(model.state_dict(), path_to_trained_pmf)"
      ]
    },
    {
      "cell_type": "code",
      "execution_count": null,
      "metadata": {},
      "outputs": [],
      "source": [
        "idx =  0 \n",
        "model.predict(\n",
        "    torch.tensor([data[idx][0]]).long().to(\"cuda\"), \n",
        "    torch.tensor([data[idx][1]]).long().to(\"cuda\")\n",
        ").cpu().data[0] * 2 + 3"
      ]
    },
    {
      "cell_type": "code",
      "execution_count": null,
      "metadata": {},
      "outputs": [],
      "source": [
        "data[idx][2] * 2 + 3"
      ]
    }
  ],
  "metadata": {
    "accelerator": "GPU",
    "colab": {
      "collapsed_sections": [],
      "name": "train_PMF_project.ipynb",
      "provenance": []
    },
    "interpreter": {
      "hash": "8842d3533bae659e5f41b6e8512932590b59a54a4b7636cc41bd679d9b5f82e4"
    },
    "kernelspec": {
      "display_name": "Python 3.8.11 64-bit ('recsysrl': conda)",
      "name": "python3"
    },
    "language_info": {
      "codemirror_mode": {
        "name": "ipython",
        "version": 3
      },
      "file_extension": ".py",
      "mimetype": "text/x-python",
      "name": "python",
      "nbconvert_exporter": "python",
      "pygments_lexer": "ipython3",
      "version": "3.8.11"
    }
  },
  "nbformat": 4,
  "nbformat_minor": 2
}
