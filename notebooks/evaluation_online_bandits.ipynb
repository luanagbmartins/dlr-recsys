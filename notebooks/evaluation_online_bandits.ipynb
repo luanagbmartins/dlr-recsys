{
 "cells": [
  {
   "cell_type": "code",
   "execution_count": 1,
   "metadata": {
    "colab": {},
    "colab_type": "code",
    "id": "r1NmejTIFPtf"
   },
   "outputs": [],
   "source": [
    "import sys \n",
    "sys.path.append('..')\n",
    "\n",
    "#Dependencies\n",
    "\n",
    "import os\n",
    "from tqdm import tqdm\n",
    "import pandas as pd\n",
    "import numpy as np\n",
    "import torch\n",
    "import itertools\n",
    "import matplotlib.pyplot as plt\n",
    "import time\n",
    "import math\n",
    "import collections\n",
    "\n",
    "import json \n",
    "import pickle\n",
    "\n",
    "from src.environment.ml_env import SimulatedEnv, SimulatedFairEnv\n",
    "\n",
    "import obp\n",
    "from obp.policy.policy_type import PolicyType\n",
    "from src.model.bandit import EpsilonGreedy, LinUCB, WFairLinUCB, FairLinUCB\n",
    "from src.model.pmf import PMF"
   ]
  },
  {
   "cell_type": "code",
   "execution_count": 2,
   "metadata": {},
   "outputs": [],
   "source": [
    "dataset_path = \"../data/movie_lens_100k_output_path.json\"\n",
    "with open(dataset_path) as json_file:\n",
    "    _dataset_path = json.load(json_file)\n",
    "\n",
    "\n",
    "dataset = {}\n",
    "with open(os.path.join(\"..\", _dataset_path[\"eval_users_dict\"]), \"rb\") as pkl_file:\n",
    "    dataset[\"eval_users_dict\"] = pickle.load(pkl_file)\n",
    "\n",
    "with open(os.path.join(\"..\", _dataset_path[\"eval_users_dict_positive_items\"]), \"rb\") as pkl_file:\n",
    "    dataset[\"eval_users_dict_positive_items\"] = pickle.load(pkl_file)\n",
    "\n",
    "with open(os.path.join(\"..\", _dataset_path[\"eval_users_history_lens\"]), \"rb\") as pkl_file:\n",
    "    dataset[\"eval_users_history_lens\"] = pickle.load(pkl_file)\n",
    "\n",
    "with open(os.path.join(\"..\", _dataset_path[\"users_history_lens\"]), \"rb\") as pkl_file:\n",
    "    dataset[\"users_history_lens\"] = pickle.load(pkl_file)\n",
    "\n",
    "with open(os.path.join(\"..\", _dataset_path[\"movies_groups\"]), \"rb\") as pkl_file:\n",
    "    dataset[\"movies_groups\"] = pickle.load(pkl_file)"
   ]
  },
  {
   "cell_type": "code",
   "execution_count": 3,
   "metadata": {},
   "outputs": [],
   "source": [
    "ENV = dict(drr=SimulatedEnv, fairrec=SimulatedFairEnv)"
   ]
  },
  {
   "cell_type": "code",
   "execution_count": 4,
   "metadata": {},
   "outputs": [],
   "source": [
    "train_ids = [\n",
    "    \"egreedy_0.1_2021-10-29_23-50-32.pkl\",\n",
    "    \"linear_ucb_0.1_2021-11-04_15-01-07.pkl\",\n",
    "    \"wfair_linear_ucb_0.1_2021-11-04_15-01-15.pkl\"\n",
    "]"
   ]
  },
  {
   "cell_type": "code",
   "execution_count": 5,
   "metadata": {},
   "outputs": [],
   "source": [
    "algorithm = \"drr\"\n",
    "train_version = \"bandits\"\n",
    "train_id = train_ids[2]\n",
    "output_path = \"../model/{}/{}\".format(train_version, train_id)\n",
    "\n",
    "users_num = 943\n",
    "items_num = 1682\n",
    "state_size = 5\n",
    "embedding_dim = 50\n",
    "emb_model = \"user_movie\"\n",
    "embedding_network_weights = \"../model/pmf/emb_50_ratio_0.800000_bs_1000_e_258_wd_0.100000_lr_0.000100_trained_pmf.pt\"\n",
    "n_groups = 10\n",
    "fairness_constraints = [1.0, 1.0, 1.0, 1.0, 1.0, 1.0, 1.0, 1.0, 1.0, 1.0]\n",
    "\n",
    "top_k = None\n",
    "done_count = 10"
   ]
  },
  {
   "cell_type": "code",
   "execution_count": 6,
   "metadata": {},
   "outputs": [],
   "source": [
    "device = torch.device(\n",
    "    \"cuda\" if torch.cuda.is_available() else \"cpu\"\n",
    ")\n",
    "\n",
    "reward_model = PMF(users_num, items_num, embedding_dim)\n",
    "reward_model.load_state_dict(\n",
    "    torch.load(embedding_network_weights, map_location=torch.device(device))\n",
    ")\n",
    "user_embeddings = reward_model.user_embeddings.weight.data\n",
    "item_embeddings = reward_model.item_embeddings.weight.data"
   ]
  },
  {
   "cell_type": "code",
   "execution_count": 7,
   "metadata": {},
   "outputs": [],
   "source": [
    "def calculate_ndcg(rel, irel):\n",
    "    dcg = 0\n",
    "    idcg = 0\n",
    "    rel = [1 if r > 0 else 0 for r in rel]\n",
    "    for i, (r, ir) in enumerate(zip(rel, irel)):\n",
    "        dcg += (r) / np.log2(i + 2)\n",
    "        idcg += (ir) / np.log2(i + 2)\n",
    "\n",
    "    return dcg, idcg"
   ]
  },
  {
   "cell_type": "code",
   "execution_count": 20,
   "metadata": {},
   "outputs": [
    {
     "name": "stderr",
     "output_type": "stream",
     "text": [
      "  0%|          | 0/185 [00:00<?, ?it/s]\n"
     ]
    }
   ],
   "source": [
    "_precision = []\n",
    "_propfair = []\n",
    "_ufg = []\n",
    "_reward = []\n",
    "for i in range(1):\n",
    "    sum_precision = 0\n",
    "    sum_propfair = 0\n",
    "    sum_reward = 0\n",
    "\n",
    "    env = ENV[algorithm](\n",
    "        users_dict=dataset[\"eval_users_dict\"],\n",
    "        users_history_lens=dataset[\"eval_users_history_lens\"],\n",
    "        n_groups=n_groups,\n",
    "        movies_groups=dataset[\"movies_groups\"],\n",
    "        state_size=state_size,\n",
    "        done_count=done_count,\n",
    "        fairness_constraints=fairness_constraints,\n",
    "    )\n",
    "    available_users = env.available_users\n",
    "\n",
    "    for user_id in tqdm(available_users):\n",
    "        with open(output_path, \"rb\") as pkl_file:\n",
    "            bandit = pickle.load(pkl_file)\n",
    "\n",
    "        eval_env = ENV[algorithm](\n",
    "            users_dict=dataset[\"eval_users_dict\"],\n",
    "            users_history_lens=dataset[\"eval_users_history_lens\"],\n",
    "            n_groups=n_groups,\n",
    "            movies_groups=dataset[\"movies_groups\"],\n",
    "            state_size=state_size,\n",
    "            done_count=done_count,\n",
    "            fairness_constraints=fairness_constraints,\n",
    "            fix_user_id=user_id,\n",
    "            reward_model=reward_model,\n",
    "        )\n",
    "        \n",
    "        steps = 0\n",
    "        mean_precision = 0\n",
    "\n",
    "        # environment\n",
    "        user_id, items_ids, done = eval_env.reset()\n",
    "        bandit.clear_group_count()\n",
    "\n",
    "        while not done:\n",
    "            steps += 1\n",
    "\n",
    "            # select a list of actions\n",
    "            if bandit.policy_type == PolicyType.CONTEXT_FREE:\n",
    "                selected_actions = bandit.select_action()\n",
    "            elif bandit.policy_type == PolicyType.CONTEXTUAL:\n",
    "                # observe current state & Find action\n",
    "                user_eb = user_embeddings[user_id]\n",
    "                items_eb = item_embeddings[items_ids]\n",
    "                item_ave = torch.mean(items_eb, 0)\n",
    "                context = torch.cat((user_eb, user_eb * item_ave, item_ave), 0).cpu().numpy()\n",
    "                context = context.reshape(1, 150)\n",
    "                selected_actions, ucb, wfair = bandit.select_action(\n",
    "                    context, [random.choice([i for i in range(items_num)]) for i in range(10)]\n",
    "                )\n",
    "\n",
    "                break\n",
    "        break\n",
    "\n",
    "#             # calculate reward and observe new state\n",
    "#             ## Step\n",
    "#             next_items_ids, rewards, done, _ = eval_env.step(\n",
    "#                 selected_actions[0]\n",
    "#             )\n",
    "\n",
    "#             rewards = 1 if (rewards*2)+3 >= 4 else 0\n",
    "\n",
    "#             for action, reward in zip(selected_actions, [rewards]):\n",
    "#                 if bandit.policy_type == PolicyType.CONTEXT_FREE:\n",
    "#                     bandit.update_params(action=action, reward=reward)\n",
    "#                 elif bandit.policy_type == PolicyType.CONTEXTUAL:\n",
    "#                     bandit.update_params(\n",
    "#                         action=action,\n",
    "#                         reward=reward,\n",
    "#                         context=context,\n",
    "#                     )\n",
    "\n",
    "#             mean_precision += rewards\n",
    "#             sum_reward += rewards\n",
    "            \n",
    "\n",
    "#             if done:\n",
    "#                 sum_propfair += bandit.propfair\n",
    "#                 sum_precision += mean_precision / steps\n",
    "\n",
    "#         del eval_env\n",
    "\n",
    "#     print(\"---------- Evaluation\")\n",
    "#     print(\"- precision@: \", round(sum_precision / len(dataset[\"eval_users_dict\"]), 4))\n",
    "#     print(\"- propfair: \", round(sum_propfair / len(dataset[\"eval_users_dict\"]), 4)), \n",
    "#     print(\n",
    "#         \"- ufg: \",\n",
    "#         round((sum_propfair / len(dataset[\"eval_users_dict\"]))\n",
    "#         / (1 - (sum_precision / len(dataset[\"eval_users_dict\"]))), 4)\n",
    "#     )\n",
    "#     print()\n",
    "\n",
    "#     _reward.append(sum_reward)\n",
    "#     _precision.append(sum_precision / len(dataset[\"eval_users_dict\"]))\n",
    "#     _propfair.append(sum_propfair / len(dataset[\"eval_users_dict\"]))\n",
    "#     _ufg.append((sum_propfair / len(dataset[\"eval_users_dict\"]))\n",
    "#         / (1 - (sum_precision / len(dataset[\"eval_users_dict\"]))))\n",
    "\n",
    "# print(np.mean(_propfair), np.std(_propfair))\n",
    "# print(np.mean(_precision), np.std(_precision))\n",
    "# print(np.mean(_reward), np.std(_reward))\n",
    "# print(np.mean(_ufg), np.std(_ufg))"
   ]
  },
  {
   "cell_type": "code",
   "execution_count": null,
   "metadata": {},
   "outputs": [],
   "source": [
    "print(round(np.mean(_propfair), 4))\n",
    "print(round(np.mean(_precision), 4))\n",
    "print(round(np.mean(_reward), 4))\n",
    "print(round(np.mean(_ufg), 4))"
   ]
  },
  {
   "cell_type": "code",
   "execution_count": 24,
   "metadata": {},
   "outputs": [],
   "source": [
    "available_items = [random.choice([i for i in range(items_num)]) for i in range(10)]\n"
   ]
  },
  {
   "cell_type": "code",
   "execution_count": null,
   "metadata": {},
   "outputs": [],
   "source": [
    "selected_actions, ucb, wfair"
   ]
  },
  {
   "cell_type": "code",
   "execution_count": 28,
   "metadata": {},
   "outputs": [
    {
     "data": {
      "text/plain": [
       "array([0.06744621, 0.06744621, 0.06744621, 0.06744621, 0.06744621,\n",
       "       0.06744621, 0.06744621, 0.06744621, 0.06744621, 0.06744621])"
      ]
     },
     "execution_count": 28,
     "metadata": {},
     "output_type": "execute_result"
    }
   ],
   "source": [
    "ucb[available_items]"
   ]
  },
  {
   "cell_type": "code",
   "execution_count": 27,
   "metadata": {},
   "outputs": [
    {
     "data": {
      "text/plain": [
       "[311, 369, 856, 1556, 1270, 1246, 1184, 549, 162, 392]"
      ]
     },
     "execution_count": 27,
     "metadata": {},
     "output_type": "execute_result"
    }
   ],
   "source": [
    "available_items"
   ]
  },
  {
   "cell_type": "code",
   "execution_count": null,
   "metadata": {},
   "outputs": [],
   "source": []
  },
  {
   "cell_type": "code",
   "execution_count": null,
   "metadata": {},
   "outputs": [],
   "source": []
  },
  {
   "cell_type": "code",
   "execution_count": 21,
   "metadata": {},
   "outputs": [
    {
     "data": {
      "text/plain": [
       "(1682,)"
      ]
     },
     "execution_count": 21,
     "metadata": {},
     "output_type": "execute_result"
    }
   ],
   "source": [
    "wfair.shape"
   ]
  },
  {
   "cell_type": "code",
   "execution_count": 14,
   "metadata": {},
   "outputs": [
    {
     "data": {
      "text/plain": [
       "[1296, 1579, 1350, 918, 765, 1168, 1298, 22, 661, 104]"
      ]
     },
     "execution_count": 14,
     "metadata": {},
     "output_type": "execute_result"
    }
   ],
   "source": [
    "import random\n",
    "[random.choice([i for i in range(items_num)]) for i in range(10)]"
   ]
  },
  {
   "cell_type": "code",
   "execution_count": null,
   "metadata": {},
   "outputs": [],
   "source": []
  }
 ],
 "metadata": {
  "colab": {
   "collapsed_sections": [],
   "include_colab_link": true,
   "machine_shape": "hm",
   "name": "RL_ActorCritic_DDPG_Movie_Recommendation.ipynb",
   "provenance": []
  },
  "interpreter": {
   "hash": "8842d3533bae659e5f41b6e8512932590b59a54a4b7636cc41bd679d9b5f82e4"
  },
  "kernelspec": {
   "display_name": "Python 3.8.11 64-bit ('recsysrl': conda)",
   "name": "python3"
  },
  "language_info": {
   "codemirror_mode": {
    "name": "ipython",
    "version": 3
   },
   "file_extension": ".py",
   "mimetype": "text/x-python",
   "name": "python",
   "nbconvert_exporter": "python",
   "pygments_lexer": "ipython3",
   "version": "3.8.11"
  }
 },
 "nbformat": 4,
 "nbformat_minor": 1
}
