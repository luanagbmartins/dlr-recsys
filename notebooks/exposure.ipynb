{
 "cells": [
  {
   "attachments": {},
   "cell_type": "markdown",
   "metadata": {},
   "source": [
    "# Exposure graphs"
   ]
  },
  {
   "cell_type": "code",
   "execution_count": null,
   "metadata": {},
   "outputs": [],
   "source": [
    "import json\n",
    "import numpy as np\n",
    "import pandas as pd\n",
    "\n",
    "import plotly.offline as py\n",
    "import plotly.express as px\n",
    "import plotly.graph_objects as go\n",
    "from plotly.subplots import make_subplots\n",
    "\n",
    "py.init_notebook_mode(connected=True)"
   ]
  },
  {
   "cell_type": "code",
   "execution_count": null,
   "metadata": {},
   "outputs": [],
   "source": [
    "ideal_exposure = [0.1, 0.1, 0.1, 0.1, 0.1, 0.1, 0.1, 0.1, 0.1, 0.1]\n",
    "ideal_exposure = np.array(ideal_exposure)"
   ]
  },
  {
   "cell_type": "code",
   "execution_count": null,
   "metadata": {},
   "outputs": [],
   "source": [
    "# Paths to metrics.json file\n",
    "\n",
    "drr_path = [\n",
    "    \"/home/luana/data/CEIA/Rurax-Moblix/Recommender_system_via_deep_RL/model/movie_lens_1m/movie_lens_1m_2024-02-23_03-37-38/metrics.json\",\n",
    "    \"/home/luana/data/CEIA/Rurax-Moblix/Recommender_system_via_deep_RL/model/movie_lens_1m/movie_lens_1m_2024-02-23_00-18-00/metrics.json\",\n",
    "    \"/home/luana/data/CEIA/Rurax-Moblix/Recommender_system_via_deep_RL/model/movie_lens_1m/movie_lens_1m_2024-02-22_21-02-15/metrics.json\",\n",
    "    \"/home/luana/data/CEIA/Rurax-Moblix/Recommender_system_via_deep_RL/model/movie_lens_1m/movie_lens_1m_2024-02-22_17-41-34/metrics.json\",\n",
    "    \"/home/luana/data/CEIA/Rurax-Moblix/Recommender_system_via_deep_RL/model/movie_lens_1m/movie_lens_1m_2024-02-22_13-15-46/metrics.json\",\n",
    "]\n",
    "fairrec_path = [\n",
    "    \"/home/luana/data/CEIA/Rurax-Moblix/Recommender_system_via_deep_RL/model/movie_lens_1m_fair/movie_lens_1m_fair_2024-02-23_11-00-34/metrics.json\",\n",
    "    \"/home/luana/data/CEIA/Rurax-Moblix/Recommender_system_via_deep_RL/model/movie_lens_1m_fair/movie_lens_1m_fair_2024-02-23_16-09-19/metrics.json\",\n",
    "    \"/home/luana/data/CEIA/Rurax-Moblix/Recommender_system_via_deep_RL/model/movie_lens_1m_fair/movie_lens_1m_fair_2024-02-23_20-03-47/metrics.json\",\n",
    "    \"/home/luana/data/CEIA/Rurax-Moblix/Recommender_system_via_deep_RL/model/movie_lens_1m_fair/movie_lens_1m_fair_2024-02-24_00-00-45/metrics.json\",\n",
    "    \"/home/luana/data/CEIA/Rurax-Moblix/Recommender_system_via_deep_RL/model/movie_lens_1m_fair/movie_lens_1m_fair_2024-02-24_04-12-09/metrics.json\",\n",
    "]\n",
    "fairrec_adaptative_path = []\n",
    "fairrec_combining_path = [\n",
    "    \"/home/luana/data/CEIA/Rurax-Moblix/Recommender_system_via_deep_RL/model/movie_lens_1m_fair/movie_lens_1m_fair_2024-02-24_08-43-22/metrics.json\",\n",
    "    \"/home/luana/data/CEIA/Rurax-Moblix/Recommender_system_via_deep_RL/model/movie_lens_1m_fair/movie_lens_1m_fair_2024-02-24_12-45-22/metrics.json\",\n",
    "    \"/home/luana/data/CEIA/Rurax-Moblix/Recommender_system_via_deep_RL/model/movie_lens_1m_fair/movie_lens_1m_fair_2024-02-24_16-50-29/metrics.json\",\n",
    "    \"/home/luana/data/CEIA/Rurax-Moblix/Recommender_system_via_deep_RL/model/movie_lens_1m_fair/movie_lens_1m_fair_2024-02-24_21-33-41/metrics.json\",\n",
    "    \"/home/luana/data/CEIA/Rurax-Moblix/Recommender_system_via_deep_RL/model/movie_lens_1m_fair/movie_lens_1m_fair_2024-02-25_01-47-24/metrics.json\",\n",
    "]\n",
    "linucb_path = []\n",
    "\n",
    "metrics = {\n",
    "    \"drr\": {\n",
    "        5: {\"exposure\": [], \"precision\": [], \"propfair\": [], \"ufg\": []},\n",
    "        10: {\"exposure\": [], \"precision\": [], \"propfair\": [], \"ufg\": []},\n",
    "    },\n",
    "    \"fairrec\": {\n",
    "        5: {\"exposure\": [], \"precision\": [], \"propfair\": [], \"ufg\": []},\n",
    "        10: {\"exposure\": [], \"precision\": [], \"propfair\": [], \"ufg\": []},\n",
    "    },\n",
    "    \"fairrec_adaptative\": {\n",
    "        5: {\"exposure\": [], \"precision\": [], \"propfair\": [], \"ufg\": []},\n",
    "        10: {\"exposure\": [], \"precision\": [], \"propfair\": [], \"ufg\": []},\n",
    "    },\n",
    "    \"fairrec_combining\": {\n",
    "        5: {\"exposure\": [], \"precision\": [], \"propfair\": [], \"ufg\": []},\n",
    "        10: {\"exposure\": [], \"precision\": [], \"propfair\": [], \"ufg\": []},\n",
    "    },\n",
    "    \"linucb\": {\n",
    "        5: {\"exposure\": [], \"precision\": [], \"propfair\": [], \"ufg\": []},\n",
    "        10: {\"exposure\": [], \"precision\": [], \"propfair\": [], \"ufg\": []},\n",
    "    },\n",
    "}\n",
    "\n",
    "for paths in drr_path:\n",
    "    with open(paths) as json_file:\n",
    "        m = json.load(json_file)\n",
    "        metrics[\"drr\"][5][\"exposure\"].append(m[\"5\"][\"exposure\"])\n",
    "        metrics[\"drr\"][5][\"precision\"].append(m[\"5\"][\"precision\"])\n",
    "        metrics[\"drr\"][5][\"propfair\"].append(m[\"5\"][\"propfair\"])\n",
    "\n",
    "        metrics[\"drr\"][10][\"exposure\"].append(m[\"10\"][\"exposure\"])\n",
    "        metrics[\"drr\"][10][\"precision\"].append(m[\"10\"][\"precision\"])\n",
    "        metrics[\"drr\"][10][\"propfair\"].append(m[\"10\"][\"propfair\"])\n",
    "        metrics[\"drr\"][10][\"ufg\"].append(m[\"10\"][\"ufg\"])\n",
    "\n",
    "for paths in fairrec_path:\n",
    "    with open(paths) as json_file:\n",
    "        m = json.load(json_file)\n",
    "        metrics[\"fairrec\"][5][\"exposure\"].append(m[\"5\"][\"exposure\"])\n",
    "        metrics[\"fairrec\"][5][\"precision\"].append(m[\"5\"][\"precision\"])\n",
    "        metrics[\"fairrec\"][5][\"propfair\"].append(m[\"5\"][\"propfair\"])\n",
    "\n",
    "        metrics[\"fairrec\"][10][\"exposure\"].append(m[\"10\"][\"exposure\"])\n",
    "        metrics[\"fairrec\"][10][\"precision\"].append(m[\"10\"][\"precision\"])\n",
    "        metrics[\"fairrec\"][10][\"propfair\"].append(m[\"10\"][\"propfair\"])\n",
    "        metrics[\"fairrec\"][10][\"ufg\"].append(m[\"10\"][\"ufg\"])\n",
    "\n",
    "for paths in fairrec_adaptative_path:\n",
    "    with open(paths) as json_file:\n",
    "        m = json.load(json_file)\n",
    "        metrics[\"fairrec_adaptative\"][5][\"exposure\"].append(m[\"5\"][\"exposure\"])\n",
    "        metrics[\"fairrec_adaptative\"][5][\"precision\"].append(m[\"5\"][\"precision\"])\n",
    "        metrics[\"fairrec_adaptative\"][5][\"propfair\"].append(m[\"5\"][\"propfair\"])\n",
    "\n",
    "        metrics[\"fairrec_adaptative\"][10][\"exposure\"].append(m[\"10\"][\"exposure\"])\n",
    "        metrics[\"fairrec_adaptative\"][10][\"precision\"].append(m[\"10\"][\"precision\"])\n",
    "        metrics[\"fairrec_adaptative\"][10][\"propfair\"].append(m[\"10\"][\"propfair\"])\n",
    "        metrics[\"fairrec_adaptative\"][10][\"ufg\"].append(m[\"10\"][\"ufg\"])\n",
    "\n",
    "for paths in fairrec_combining_path:\n",
    "    with open(paths) as json_file:\n",
    "        m = json.load(json_file)\n",
    "        metrics[\"fairrec_combining\"][5][\"exposure\"].append(m[\"5\"][\"exposure\"])\n",
    "        metrics[\"fairrec_combining\"][5][\"precision\"].append(m[\"5\"][\"precision\"])\n",
    "        metrics[\"fairrec_combining\"][5][\"propfair\"].append(m[\"5\"][\"propfair\"])\n",
    "\n",
    "        metrics[\"fairrec_combining\"][10][\"exposure\"].append(m[\"10\"][\"exposure\"])\n",
    "        metrics[\"fairrec_combining\"][10][\"precision\"].append(m[\"10\"][\"precision\"])\n",
    "        metrics[\"fairrec_combining\"][10][\"propfair\"].append(m[\"10\"][\"propfair\"])\n",
    "        metrics[\"fairrec_combining\"][10][\"ufg\"].append(m[\"10\"][\"ufg\"])\n",
    "\n",
    "\n",
    "for paths in linucb_path:\n",
    "    with open(paths) as json_file:\n",
    "        m = json.load(json_file)\n",
    "        metrics[\"linucb\"][5][\"exposure\"].append(m[\"5\"][\"exposure\"])\n",
    "        metrics[\"linucb\"][5][\"precision\"].append(m[\"5\"][\"precision\"])\n",
    "        metrics[\"linucb\"][5][\"propfair\"].append(m[\"5\"][\"propfair\"])\n",
    "\n",
    "        metrics[\"linucb\"][10][\"exposure\"].append(m[\"10\"][\"exposure\"])\n",
    "        metrics[\"linucb\"][10][\"precision\"].append(m[\"10\"][\"precision\"])\n",
    "        metrics[\"linucb\"][10][\"propfair\"].append(m[\"10\"][\"propfair\"])\n",
    "        metrics[\"linucb\"][10][\"ufg\"].append(m[\"10\"][\"ufg\"])"
   ]
  },
  {
   "cell_type": "code",
   "execution_count": null,
   "metadata": {},
   "outputs": [],
   "source": [
    "metrics[\"drr\"][10][\"precision\"]"
   ]
  },
  {
   "cell_type": "code",
   "execution_count": null,
   "metadata": {},
   "outputs": [],
   "source": [
    "metrics[\"drr\"][10][\"propfair\"]"
   ]
  },
  {
   "cell_type": "code",
   "execution_count": null,
   "metadata": {},
   "outputs": [],
   "source": [
    "metrics[\"fairrec\"][10][\"precision\"]"
   ]
  },
  {
   "cell_type": "code",
   "execution_count": null,
   "metadata": {},
   "outputs": [],
   "source": [
    "metrics[\"fairrec\"][10][\"propfair\"]"
   ]
  },
  {
   "cell_type": "code",
   "execution_count": null,
   "metadata": {},
   "outputs": [],
   "source": [
    "metrics[\"fairrec_combining\"][10][\"precision\"]"
   ]
  },
  {
   "cell_type": "code",
   "execution_count": null,
   "metadata": {},
   "outputs": [],
   "source": [
    "metrics[\"fairrec_combining\"][10][\"propfair\"]"
   ]
  },
  {
   "cell_type": "code",
   "execution_count": null,
   "metadata": {},
   "outputs": [],
   "source": [
    "df = pd.DataFrame(columns=[\"model\", \"precision\", \"propfair\", \"ufg\"])\n",
    "df[\"model\"] = [\"drr\", \"fairrec\", \"a2fair\"]\n",
    "df[\"precision\"] = [\n",
    "    round(np.array(metrics[\"drr\"][10][\"precision\"]).mean(), 2),\n",
    "    round(np.array(metrics[\"fairrec\"][10][\"precision\"]).mean(), 2),\n",
    "    round(np.array(metrics[\"fairrec_combining\"][10][\"precision\"]).mean(), 2),\n",
    "]\n",
    "df[\"propfair\"] = [\n",
    "    round(np.array(metrics[\"drr\"][10][\"propfair\"]).mean(), 2),\n",
    "    round(np.array(metrics[\"fairrec\"][10][\"propfair\"]).mean(), 2),\n",
    "    round(np.array(metrics[\"fairrec_combining\"][10][\"propfair\"]).mean(), 2),\n",
    "]\n",
    "df[\"ufg\"] = [\n",
    "    round(np.array(metrics[\"drr\"][10][\"ufg\"]).mean(), 2),\n",
    "    round(np.array(metrics[\"fairrec\"][10][\"ufg\"]).mean(), 2),\n",
    "    round(np.array(metrics[\"fairrec_combining\"][10][\"ufg\"]).mean(), 2),\n",
    "]\n",
    "df"
   ]
  },
  {
   "cell_type": "code",
   "execution_count": null,
   "metadata": {},
   "outputs": [],
   "source": [
    "df_std = pd.DataFrame(columns=[\"model\", \"precision\", \"propfair\", \"ufg\"])\n",
    "df_std[\"model\"] = [\"drr\", \"fairrec\", \"a2fair\"]\n",
    "df_std[\"precision\"] = [\n",
    "    round(np.array(metrics[\"drr\"][10][\"precision\"]).std(), 2),\n",
    "    round(np.array(metrics[\"fairrec\"][10][\"precision\"]).std(), 2),\n",
    "    round(np.array(metrics[\"fairrec_combining\"][10][\"precision\"]).std(), 2),\n",
    "]\n",
    "df_std[\"propfair\"] = [\n",
    "    round(np.array(metrics[\"drr\"][10][\"propfair\"]).std(), 2),\n",
    "    round(np.array(metrics[\"fairrec\"][10][\"propfair\"]).std(), 2),\n",
    "    round(np.array(metrics[\"fairrec_combining\"][10][\"propfair\"]).std(), 2),\n",
    "]\n",
    "df_std[\"ufg\"] = [\n",
    "    round(np.array(metrics[\"drr\"][10][\"ufg\"]).std(), 2),\n",
    "    round(np.array(metrics[\"fairrec\"][10][\"ufg\"]).std(), 2),\n",
    "    round(np.array(metrics[\"fairrec_combining\"][10][\"ufg\"]).std(), 2),\n",
    "]\n",
    "df_std"
   ]
  },
  {
   "attachments": {},
   "cell_type": "markdown",
   "metadata": {},
   "source": [
    "## @10"
   ]
  },
  {
   "cell_type": "code",
   "execution_count": null,
   "metadata": {},
   "outputs": [],
   "source": [
    "exposure_drr = metrics[\"drr\"][10][\"exposure\"]\n",
    "exposure_drr = np.array(exposure_drr).mean(axis=0)\n",
    "\n",
    "exposure_fairrec = metrics[\"fairrec\"][10][\"exposure\"]\n",
    "exposure_fairrec = np.array(exposure_fairrec).mean(axis=0)\n",
    "\n",
    "exposure_fairrec_adaptative = metrics[\"fairrec_adaptative\"][10][\"exposure\"]\n",
    "exposure_fairrec_adaptative = np.array(exposure_fairrec_adaptative).mean(axis=0)\n",
    "\n",
    "exposure_fairrec_combining = metrics[\"fairrec_combining\"][10][\"exposure\"]\n",
    "exposure_fairrec_combining = np.array(exposure_fairrec_combining).mean(axis=0)\n",
    "\n",
    "exposure_linucb = metrics[\"linucb\"][10][\"exposure\"]\n",
    "exposure_linucb = np.array(exposure_linucb).mean(axis=0)"
   ]
  },
  {
   "cell_type": "code",
   "execution_count": null,
   "metadata": {},
   "outputs": [],
   "source": [
    "fig = go.Figure()\n",
    "\n",
    "fig.add_trace(\n",
    "    go.Bar(\n",
    "        x=[str(i) for i in range(1, 11)],\n",
    "        y=exposure_linucb - ideal_exposure,\n",
    "        name=\"LinUCB\",\n",
    "    )\n",
    ")\n",
    "\n",
    "fig.add_trace(\n",
    "    go.Bar(\n",
    "        x=[str(i) for i in range(1, 11)],\n",
    "        y=exposure_drr - ideal_exposure,\n",
    "        name=\"DRR\",\n",
    "    )\n",
    ")\n",
    "fig.add_trace(\n",
    "    go.Bar(\n",
    "        x=[str(i) for i in range(1, 11)],\n",
    "        y=exposure_fairrec - ideal_exposure,\n",
    "        name=\"FairRec\",\n",
    "    )\n",
    ")\n",
    "fig.add_trace(\n",
    "    go.Bar(\n",
    "        x=[str(i) for i in range(1, 11)],\n",
    "        y=exposure_fairrec_adaptative - ideal_exposure,\n",
    "        name=\"Adaptative\",\n",
    "    )\n",
    ")\n",
    "fig.add_trace(\n",
    "    go.Bar(\n",
    "        x=[str(i) for i in range(1, 11)],\n",
    "        y=exposure_fairrec_combining - ideal_exposure,\n",
    "        name=\"Combining\",\n",
    "    )\n",
    ")\n",
    "fig.update_layout(\n",
    "    title=\"Exposure vs Ideal Exposure\",\n",
    "    xaxis_title=\"Group\",\n",
    "    yaxis_title=\"Exposure\",\n",
    "    width=1000,\n",
    "    height=500,\n",
    "    yaxis_range=[-0.5, 0.5],\n",
    ")\n",
    "fig.write_image(\"group_exposure_vs_ideal_exposure_10.png\")\n",
    "fig.show()"
   ]
  },
  {
   "cell_type": "code",
   "execution_count": null,
   "metadata": {},
   "outputs": [],
   "source": [
    "fig = go.Figure()\n",
    "fig.add_trace(\n",
    "    go.Bar(\n",
    "        x=[str(i) for i in range(1, 11)],\n",
    "        y=exposure_linucb,\n",
    "        name=\"LinUCB\",\n",
    "    )\n",
    ")\n",
    "fig.add_trace(\n",
    "    go.Bar(\n",
    "        x=[str(i) for i in range(1, 11)],\n",
    "        y=exposure_drr,\n",
    "        name=\"DRR\",\n",
    "    )\n",
    ")\n",
    "fig.add_trace(\n",
    "    go.Bar(\n",
    "        x=[str(i) for i in range(1, 11)],\n",
    "        y=exposure_fairrec,\n",
    "        name=\"FairRec\",\n",
    "    )\n",
    ")\n",
    "fig.add_trace(\n",
    "    go.Bar(\n",
    "        x=[str(i) for i in range(1, 11)],\n",
    "        y=exposure_fairrec_adaptative,\n",
    "        name=\"Adaptative\",\n",
    "    )\n",
    ")\n",
    "fig.add_trace(\n",
    "    go.Bar(\n",
    "        x=[str(i) for i in range(1, 11)],\n",
    "        y=exposure_fairrec_combining,\n",
    "        name=\"Combining\",\n",
    "    )\n",
    ")\n",
    "# fig.add_trace(\n",
    "#     go.Scatter(\n",
    "#         x=[str(i) for i in range(0, 12)],\n",
    "#         y=np.append(np.append(ideal_exposure, 0.1), 0.1),\n",
    "#         name=\"Ideal\",\n",
    "#         mode='lines',\n",
    "#     )\n",
    "# )\n",
    "fig.update_layout(\n",
    "    title=\"Group Exposure vs Ideal Exposure\",\n",
    "    xaxis_title=\"Group\",\n",
    "    yaxis_title=\"Exposure\",\n",
    "    width=1000,\n",
    "    height=400,\n",
    "    yaxis_range=[0, 0.5],\n",
    ")\n",
    "\n",
    "fig.add_hline(\n",
    "    y=0.1,\n",
    "    line_dash=\"dash\",\n",
    "    annotation_text=\"Ideal Exposure\",\n",
    "    annotation_position=\"top right\",\n",
    ")\n",
    "\n",
    "fig.write_image(\"group_exposure_vs_ideal_exposure_10_v2.png\")\n",
    "fig.show()"
   ]
  },
  {
   "attachments": {},
   "cell_type": "markdown",
   "metadata": {},
   "source": [
    "# Precision vs Fairness"
   ]
  },
  {
   "cell_type": "code",
   "execution_count": null,
   "metadata": {},
   "outputs": [],
   "source": [
    "precision_drr = [np.array(metrics[\"drr\"][10][\"precision\"]).mean() / 100]\n",
    "fair_drr = [np.array(metrics[\"drr\"][10][\"propfair\"]).mean() / 100]\n",
    "\n",
    "precision_fairrec = [np.array(metrics[\"fairrec\"][10][\"precision\"]).mean() / 100]\n",
    "fair_fairrec = [np.array(metrics[\"fairrec\"][10][\"propfair\"]).mean() / 100]\n",
    "\n",
    "precision_fairrec_adaptative = [\n",
    "    np.array(metrics[\"fairrec_adaptative\"][10][\"precision\"]).mean() / 100\n",
    "]\n",
    "fair_fairrec_adaptative = [\n",
    "    np.array(metrics[\"fairrec_adaptative\"][10][\"propfair\"]).mean() / 100\n",
    "]\n",
    "\n",
    "precision_fairrec_combining = [\n",
    "    np.array(metrics[\"fairrec_combining\"][10][\"precision\"]).mean() / 100\n",
    "]\n",
    "fair_fairrec_combining = [\n",
    "    np.array(metrics[\"fairrec_combining\"][10][\"propfair\"]).mean() / 100\n",
    "]"
   ]
  },
  {
   "cell_type": "code",
   "execution_count": null,
   "metadata": {},
   "outputs": [],
   "source": [
    "fig = go.Figure()\n",
    "fig.add_trace(go.Scatter(y=[0.929], x=[0.865], name=\"Relevance\", mode=\"markers\"))\n",
    "fig.add_trace(go.Scatter(y=[0.734], x=[0.882], name=\"Fairness\", mode=\"markers\"))\n",
    "fig.add_trace(go.Scatter(y=[0.905], x=[0.877], name=\"Adaptative - I\", mode=\"markers\"))\n",
    "fig.add_trace(go.Scatter(y=[0.914], x=[0.881], name=\"Adaptative - II\", mode=\"markers\"))\n",
    "\n",
    "fig.add_vline(\n",
    "    x=0.882,\n",
    "    line_dash=\"dash\",\n",
    "    # annotation_text=\"FairRec\",\n",
    "    # annotation_position=\"top right\",\n",
    "    line_color=\"rgba(255,255,255,0)\",  # px.colors.qualitative.Plotly[1]\n",
    ")\n",
    "fig.add_hline(\n",
    "    y=0.929,\n",
    "    line_dash=\"dash\",\n",
    "    # annotation_text=\"FairRec\",\n",
    "    # annotation_position=\"top right\",\n",
    "    # line_color= px.colors.qualitative.Plotly[0],\n",
    ")\n",
    "\n",
    "\n",
    "fig.update_traces(\n",
    "    marker=dict(\n",
    "        size=24,\n",
    "    )\n",
    ")\n",
    "fig.update_layout(\n",
    "    template=\"ggplot2\",\n",
    "    # yaxis_range=[0.3,0.6],\n",
    "    # xaxis_range=[0.3,0.6],\n",
    "    xaxis_title=\"Fairness\",\n",
    "    yaxis_title=\"Relevance\",\n",
    "    # xaxis_tickformat = \"%\",\n",
    "    # yaxis_tickformat = \"%\"\n",
    "    width=900,\n",
    "    height=400,\n",
    "    font=dict(size=20),\n",
    ")\n",
    "fig.show()"
   ]
  },
  {
   "cell_type": "code",
   "execution_count": null,
   "metadata": {},
   "outputs": [],
   "source": [
    "path = \"../model/movie_lens_100k_fair/movie_lens_100k_fair_2023-04-21_14-53-11/user_actions_k1.json\"\n",
    "with open(path) as json_file:\n",
    "    user = json.load(json_file)"
   ]
  },
  {
   "cell_type": "code",
   "execution_count": null,
   "metadata": {},
   "outputs": [],
   "source": [
    "user[\"755\"]"
   ]
  },
  {
   "attachments": {},
   "cell_type": "markdown",
   "metadata": {},
   "source": [
    "# User Intent"
   ]
  },
  {
   "cell_type": "code",
   "execution_count": null,
   "metadata": {},
   "outputs": [],
   "source": [
    "import os\n",
    "import json\n",
    "import numpy as np\n",
    "import pandas as pd\n",
    "\n",
    "import plotly.offline as py\n",
    "import plotly.express as px\n",
    "import plotly.graph_objects as go\n",
    "import math\n",
    "from plotly.subplots import make_subplots\n",
    "\n",
    "py.init_notebook_mode(connected=True)\n",
    "pd.set_option(\"display.max_colwidth\", None)"
   ]
  },
  {
   "cell_type": "code",
   "execution_count": null,
   "metadata": {},
   "outputs": [],
   "source": [
    "path = \"../model/movie_lens_100k_fair/movie_lens_100k_fair_2023-05-22_11-29-40\""
   ]
  },
  {
   "cell_type": "code",
   "execution_count": null,
   "metadata": {},
   "outputs": [],
   "source": [
    "with open(os.path.join(path, \"user_states_k1.json\")) as json_file:\n",
    "    user_states = json.load(json_file)"
   ]
  },
  {
   "cell_type": "code",
   "execution_count": null,
   "metadata": {},
   "outputs": [],
   "source": [
    "user_id = []\n",
    "eps_id = []\n",
    "intent = []\n",
    "propfair = []\n",
    "states_emb = []\n",
    "for user, states in user_states.items():\n",
    "    for i in range(len(states[\"intent\"])):\n",
    "        user_id.append(user)\n",
    "        eps_id.append(i + 1)\n",
    "        intent.append(states[\"intent\"][i])\n",
    "        propfair.append(states[\"propfair\"][i])\n",
    "        states_emb.append(states[\"states\"][i][0])"
   ]
  },
  {
   "cell_type": "code",
   "execution_count": null,
   "metadata": {},
   "outputs": [],
   "source": [
    "df_states = pd.DataFrame(\n",
    "    {\n",
    "        \"user_id\": user_id,\n",
    "        \"eps_id\": eps_id,\n",
    "        \"intent\": intent,\n",
    "        \"propfair\": propfair,\n",
    "        \"states\": states_emb,\n",
    "    }\n",
    ")\n",
    "split = pd.DataFrame(df_states[\"states\"].to_list())\n",
    "df_states = df_states.drop(columns=[\"states\"])"
   ]
  },
  {
   "cell_type": "code",
   "execution_count": null,
   "metadata": {},
   "outputs": [],
   "source": [
    "split.to_csv(\"user_states.tsv\", sep=\"\\t\", header=False)\n",
    "df_states.to_csv(\"metadata.tsv\", sep=\"\\t\", header=True)"
   ]
  },
  {
   "cell_type": "code",
   "execution_count": null,
   "metadata": {},
   "outputs": [],
   "source": [
    "with open(os.path.join(path, \"user_actions_k1.json\")) as json_file:\n",
    "    user_actions = json.load(json_file)"
   ]
  },
  {
   "cell_type": "code",
   "execution_count": null,
   "metadata": {},
   "outputs": [],
   "source": [
    "df = pd.DataFrame.from_dict(user_actions, orient=\"index\")\n",
    "df[\"intent_std\"] = df.intent.apply(lambda x: np.array(x).std())\n",
    "df[\"intent_mean\"] = df.intent.apply(lambda x: np.array(x).mean())\n",
    "df[\"intent_start\"] = df.intent.apply(lambda x: x[0])\n",
    "df[\"intent_end\"] = df.intent.apply(lambda x: x[-1])\n",
    "df[\"intent_distance\"] = df.intent.apply(lambda x: x[-1] - x[0])\n",
    "df[\"intent_distance_abs\"] = df.intent.apply(lambda x: abs(x[-1] - x[0]))\n",
    "df[\"mean_precision\"] = df.precision.apply(lambda x: np.array(x).mean())\n",
    "df[\"mean_propfair\"] = df.propfair.apply(lambda x: np.array(x).mean())"
   ]
  },
  {
   "cell_type": "code",
   "execution_count": null,
   "metadata": {},
   "outputs": [],
   "source": [
    "df.sort_values([\"mean_propfair\"], ascending=False).head(10)"
   ]
  },
  {
   "cell_type": "code",
   "execution_count": null,
   "metadata": {},
   "outputs": [],
   "source": [
    "for i in range(1, 10 + 1):\n",
    "    print(i)"
   ]
  },
  {
   "cell_type": "code",
   "execution_count": null,
   "metadata": {},
   "outputs": [],
   "source": [
    "df.sort_values([\"intent_mean\"], ascending=False).head(10)"
   ]
  },
  {
   "cell_type": "code",
   "execution_count": null,
   "metadata": {},
   "outputs": [],
   "source": [
    "df.sort_values([\"intent_mean\"], ascending=True).head(10)"
   ]
  }
 ],
 "metadata": {
  "interpreter": {
   "hash": "23b1c047fd19bf20d4111f807c9e6bee9fdce0e396893bab828ebbcdf9a68cad"
  },
  "kernelspec": {
   "display_name": "Python 3.8.13 ('rsrl')",
   "language": "python",
   "name": "python3"
  },
  "language_info": {
   "codemirror_mode": {
    "name": "ipython",
    "version": 3
   },
   "file_extension": ".py",
   "mimetype": "text/x-python",
   "name": "python",
   "nbconvert_exporter": "python",
   "pygments_lexer": "ipython3",
   "version": "3.10.13"
  }
 },
 "nbformat": 4,
 "nbformat_minor": 4
}
