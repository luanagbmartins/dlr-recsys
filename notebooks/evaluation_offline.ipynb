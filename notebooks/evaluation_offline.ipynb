{
 "cells": [
  {
   "cell_type": "code",
   "execution_count": 1,
   "metadata": {
    "colab": {},
    "colab_type": "code",
    "id": "r1NmejTIFPtf"
   },
   "outputs": [],
   "source": [
    "#Dependencies\n",
    "\n",
    "import os\n",
    "from tqdm import tqdm\n",
    "import pandas as pd\n",
    "import numpy as np\n",
    "import torch\n",
    "import itertools\n",
    "import matplotlib.pyplot as plt\n",
    "import time\n",
    "import math\n",
    "import collections\n",
    "\n",
    "import json \n",
    "import pickle\n",
    "\n",
    "from src.environment.ml_env import OfflineEnv, OfflineFairEnv\n",
    "from src.model.recommender import DRRAgent, FairRecAgent"
   ]
  },
  {
   "cell_type": "code",
   "execution_count": 2,
   "metadata": {},
   "outputs": [],
   "source": [
    "dataset_path = \"data/movie_lens_100k_output_path.json\"\n",
    "with open(dataset_path) as json_file:\n",
    "    _dataset_path = json.load(json_file)\n",
    "\n",
    "\n",
    "dataset = {}\n",
    "with open(_dataset_path[\"eval_users_dict\"], \"rb\") as pkl_file:\n",
    "    dataset[\"eval_users_dict\"] = pickle.load(pkl_file)\n",
    "\n",
    "with open(_dataset_path[\"eval_users_dict_positive_items\"], \"rb\") as pkl_file:\n",
    "    dataset[\"eval_users_dict_positive_items\"] = pickle.load(pkl_file)\n",
    "\n",
    "with open(_dataset_path[\"eval_users_history_lens\"], \"rb\") as pkl_file:\n",
    "    dataset[\"eval_users_history_lens\"] = pickle.load(pkl_file)\n",
    "\n",
    "with open(_dataset_path[\"users_history_lens\"], \"rb\") as pkl_file:\n",
    "    dataset[\"users_history_lens\"] = pickle.load(pkl_file)\n",
    "\n",
    "with open(_dataset_path[\"movies_groups\"], \"rb\") as pkl_file:\n",
    "    dataset[\"movies_groups\"] = pickle.load(pkl_file)"
   ]
  },
  {
   "cell_type": "code",
   "execution_count": 3,
   "metadata": {},
   "outputs": [],
   "source": [
    "ENV = dict(drr=OfflineEnv, fairrec=OfflineFairEnv)\n",
    "AGENT = dict(drr=DRRAgent, fairrec=FairRecAgent)"
   ]
  },
  {
   "cell_type": "code",
   "execution_count": 4,
   "metadata": {},
   "outputs": [],
   "source": [
    "train_ids = [\n",
    "    \"movie_lens_100k_2021-10-26_11-45-48\",\n",
    "    \"movie_lens_100k_2021-10-24_01-42-57\", # long training\n",
    "    \"movie_lens_100k_fair_2021-10-26_11-45-51\",\n",
    "    \"movie_lens_100k_fair_2021-10-24_01-41-02\" # long training\n",
    "]"
   ]
  },
  {
   "cell_type": "code",
   "execution_count": 19,
   "metadata": {},
   "outputs": [],
   "source": [
    "algorithm = \"fairrec\"\n",
    "train_version = \"movie_lens_100k_fair\"\n",
    "train_id = train_ids[2]\n",
    "output_path = \"model/{}/{}\".format(train_version, train_id)\n",
    "\n",
    "users_num = 943\n",
    "items_num = 1682\n",
    "\n",
    "state_size = 5\n",
    "srm_size = 2\n",
    "\n",
    "embedding_dim = 50\n",
    "actor_hidden_dim = 512\n",
    "actor_learning_rate = 0.0001\n",
    "critic_hidden_dim = 512\n",
    "critic_learning_rate = 0.001\n",
    "discount_factor = 0.9\n",
    "tau = 0.01\n",
    "replay_memory_size = 1000000\n",
    "batch_size = 64\n",
    "emb_model = \"user_movie\"\n",
    "embedding_network_weights = \"model/pmf/emb_50_ratio_0.800000_bs_1000_e_258_wd_0.100000_lr_0.000100_trained_pmf.pt\"\n",
    "n_groups = 10\n",
    "fairness_constraints = [1.0, 1.0, 1.0, 1.0, 1.0, 1.0, 1.0, 1.0, 1.0, 1.0]\n",
    "\n",
    "\n",
    "top_k = [5, 10]\n",
    "done_count = 10"
   ]
  },
  {
   "cell_type": "code",
   "execution_count": 20,
   "metadata": {},
   "outputs": [
    {
     "name": "stdout",
     "output_type": "stream",
     "text": [
      "20000 20000\n"
     ]
    }
   ],
   "source": [
    "actor_checkpoint = sorted(\n",
    "    [\n",
    "        int((f.split(\"_\")[1]).split(\".\")[0])\n",
    "        for f in os.listdir(output_path)\n",
    "        if f.startswith(\"actor_\")\n",
    "    ]\n",
    ")[-1]\n",
    "critic_checkpoint = sorted(\n",
    "    [\n",
    "        int((f.split(\"_\")[1]).split(\".\")[0])\n",
    "        for f in os.listdir(output_path)\n",
    "        if f.startswith(\"critic_\")\n",
    "    ]\n",
    ")[-1]\n",
    "\n",
    "print(actor_checkpoint, critic_checkpoint)"
   ]
  },
  {
   "cell_type": "code",
   "execution_count": 21,
   "metadata": {},
   "outputs": [
    {
     "name": "stderr",
     "output_type": "stream",
     "text": [
      "100%|██████████| 185/185 [00:09<00:00, 19.48it/s]\n",
      "100%|██████████| 185/185 [00:09<00:00, 19.38it/s]\n",
      "100%|██████████| 185/185 [00:09<00:00, 19.23it/s]\n",
      "100%|██████████| 185/185 [00:09<00:00, 19.34it/s]\n",
      "100%|██████████| 185/185 [00:09<00:00, 19.04it/s]\n",
      "100%|██████████| 185/185 [00:16<00:00, 11.03it/s]\n",
      "100%|██████████| 185/185 [00:19<00:00,  9.42it/s]\n",
      "100%|██████████| 185/185 [00:20<00:00,  9.24it/s]\n",
      "100%|██████████| 185/185 [00:20<00:00,  9.15it/s]\n",
      "100%|██████████| 185/185 [00:19<00:00,  9.52it/s]\n"
     ]
    },
    {
     "name": "stdout",
     "output_type": "stream",
     "text": [
      "Precision  0.4898 0.009337996924800909\n",
      "NDCG  0.4888 0.009689236599309587\n"
     ]
    },
    {
     "name": "stderr",
     "output_type": "stream",
     "text": [
      "100%|██████████| 185/185 [00:10<00:00, 17.57it/s]\n",
      "100%|██████████| 185/185 [00:10<00:00, 17.50it/s]\n",
      "100%|██████████| 185/185 [00:10<00:00, 17.59it/s]\n",
      "100%|██████████| 185/185 [00:10<00:00, 17.31it/s]\n",
      "100%|██████████| 185/185 [00:10<00:00, 17.60it/s]\n",
      "100%|██████████| 185/185 [00:10<00:00, 17.51it/s]\n",
      "100%|██████████| 185/185 [00:10<00:00, 18.17it/s]\n",
      "100%|██████████| 185/185 [00:10<00:00, 17.56it/s]\n",
      "100%|██████████| 185/185 [00:10<00:00, 18.28it/s]\n",
      "100%|██████████| 185/185 [00:10<00:00, 18.21it/s]"
     ]
    },
    {
     "name": "stdout",
     "output_type": "stream",
     "text": [
      "Precision  0.4825 0.007409624316286545\n",
      "NDCG  0.4814 0.00739569633637213\n"
     ]
    },
    {
     "name": "stderr",
     "output_type": "stream",
     "text": [
      "\n"
     ]
    }
   ],
   "source": [
    "for K in top_k:\n",
    "    _precision = []\n",
    "    _ndcg = []\n",
    "    for i in range(10):\n",
    "        sum_precision = 0\n",
    "        sum_ndcg = 0\n",
    "        sum_propfair = 0\n",
    "\n",
    "        env = ENV[algorithm](\n",
    "            users_dict=dataset[\"eval_users_dict\"],\n",
    "            users_history_lens=dataset[\"eval_users_history_lens\"],\n",
    "            n_groups=n_groups,\n",
    "            movies_groups=dataset[\"movies_groups\"],\n",
    "            state_size=state_size,\n",
    "            done_count=done_count,\n",
    "            fairness_constraints=fairness_constraints,\n",
    "        )\n",
    "        available_users = env.available_users\n",
    "\n",
    "        recommender = AGENT[algorithm](\n",
    "            env=env,\n",
    "            users_num=users_num,\n",
    "            items_num=items_num,\n",
    "            genres_num=0,\n",
    "            movies_genres_id={}, \n",
    "            srm_size=srm_size,\n",
    "            state_size=state_size,\n",
    "            train_version=train_version,\n",
    "            is_test=True,\n",
    "            embedding_dim=embedding_dim,\n",
    "            actor_hidden_dim=actor_hidden_dim,\n",
    "            actor_learning_rate=actor_learning_rate,\n",
    "            critic_hidden_dim=critic_hidden_dim,\n",
    "            critic_learning_rate=critic_learning_rate,\n",
    "            discount_factor=discount_factor,\n",
    "            tau=tau,\n",
    "            replay_memory_size=replay_memory_size,\n",
    "            batch_size=batch_size,\n",
    "            model_path=output_path,\n",
    "            emb_model=emb_model,\n",
    "            embedding_network_weights_path=embedding_network_weights,\n",
    "            n_groups=n_groups,\n",
    "            fairness_constraints=fairness_constraints,\n",
    "        )\n",
    "\n",
    "        recommender.load_model(\n",
    "            os.path.join(output_path, \"actor_{}.h5\".format(actor_checkpoint)),\n",
    "            os.path.join(\n",
    "                output_path, \"critic_{}.h5\".format(critic_checkpoint)\n",
    "            ),\n",
    "        )\n",
    "        for user_id in tqdm(available_users):\n",
    "            eval_env = ENV[algorithm](\n",
    "                users_dict=dataset[\"eval_users_dict\"],\n",
    "                users_history_lens=dataset[\"eval_users_history_lens\"],\n",
    "                n_groups=n_groups,\n",
    "                movies_groups=dataset[\"movies_groups\"],\n",
    "                state_size=state_size,\n",
    "                done_count=done_count,\n",
    "                fairness_constraints=fairness_constraints,\n",
    "                fix_user_id=user_id\n",
    "            )\n",
    "\n",
    "            recommender.env = eval_env\n",
    "            available_items = set(eval_env.user_items.keys())\n",
    "\n",
    "            precision, ndcg, propfair = recommender.evaluate(\n",
    "                eval_env, top_k=K, available_items=available_items\n",
    "            )\n",
    "\n",
    "            sum_precision += precision\n",
    "            sum_ndcg += ndcg\n",
    "            sum_propfair += propfair\n",
    "\n",
    "            del eval_env\n",
    "\n",
    "        # print(\"---------- Evaluation\")\n",
    "        # print(\"- precision@{}: {}\".format(K, round(sum_precision / len(dataset[\"eval_users_dict\"]), 4)))\n",
    "        # print(\"- ndcg@{}: {}\".format(K, round(sum_ndcg / len(dataset[\"eval_users_dict\"]), 4)))\n",
    "        # print(\"- propfair: \", round(sum_propfair / len(dataset[\"eval_users_dict\"]), 4))\n",
    "        # print(\n",
    "        #     \"- ufg: \",\n",
    "        #     round((sum_propfair / len(dataset[\"eval_users_dict\"]))\n",
    "        #     / (1 - (sum_precision / len(dataset[\"eval_users_dict\"]))), 4)\n",
    "        # )\n",
    "        # print()\n",
    "\n",
    "        _precision.append(sum_precision / len(dataset[\"eval_users_dict\"]))\n",
    "        _ndcg.append(sum_ndcg / len(dataset[\"eval_users_dict\"]))\n",
    "\n",
    "    print(\"Precision \", round(np.mean(_precision), 4), np.std(_precision))\n",
    "    print(\"NDCG \", round(np.mean(_ndcg), 4), np.std(_ndcg))"
   ]
  },
  {
   "cell_type": "code",
   "execution_count": null,
   "metadata": {},
   "outputs": [],
   "source": [
    "Precision  0.5495 0.002609899028059817\n",
    "NDCG  0.5494 0.004043556553380812\n",
    "\n",
    "Precision  0.5454 0.0028730602100941866\n",
    "NDCG  0.5432 0.004251764316239375"
   ]
  }
 ],
 "metadata": {
  "colab": {
   "collapsed_sections": [],
   "include_colab_link": true,
   "machine_shape": "hm",
   "name": "RL_ActorCritic_DDPG_Movie_Recommendation.ipynb",
   "provenance": []
  },
  "interpreter": {
   "hash": "8842d3533bae659e5f41b6e8512932590b59a54a4b7636cc41bd679d9b5f82e4"
  },
  "kernelspec": {
   "display_name": "Python 3.8.11 64-bit ('recsysrl': conda)",
   "name": "python3"
  },
  "language_info": {
   "codemirror_mode": {
    "name": "ipython",
    "version": 3
   },
   "file_extension": ".py",
   "mimetype": "text/x-python",
   "name": "python",
   "nbconvert_exporter": "python",
   "pygments_lexer": "ipython3",
   "version": "3.8.11"
  }
 },
 "nbformat": 4,
 "nbformat_minor": 1
}
