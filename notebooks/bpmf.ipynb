{
 "cells": [
  {
   "cell_type": "markdown",
   "metadata": {},
   "source": [
    "# Train PMF"
   ]
  },
  {
   "cell_type": "code",
   "execution_count": null,
   "metadata": {},
   "outputs": [],
   "source": [
    "from __future__ import print_function\n",
    "\n",
    "import numpy as np\n",
    "import pandas as pd\n",
    "\n",
    "import torch\n",
    "import torch.nn as nn\n",
    "import torch.optim as optim\n",
    "from torch.autograd import Variable\n",
    "import torch.utils.data\n",
    "\n",
    "import matplotlib.pyplot as plt\n",
    "\n",
    "from sklearn.model_selection import KFold\n",
    "import pickle\n",
    "\n",
    "import sys\n",
    "\n",
    "sys.path.append(\"..\")\n",
    "\n",
    "from src.model.bpmf import BPMF"
   ]
  },
  {
   "cell_type": "code",
   "execution_count": null,
   "metadata": {},
   "outputs": [],
   "source": [
    "\"\"\"\n",
    "Options: \n",
    "- ml-100k\n",
    "- ml-1m\n",
    "- ml-10m\n",
    "- ml-20m\n",
    "- ml-25m\n",
    "\"\"\"\n",
    "\n",
    "DATASET = \"ml-100k\""
   ]
  },
  {
   "cell_type": "code",
   "execution_count": null,
   "metadata": {},
   "outputs": [],
   "source": [
    "def get_dataset(dataset_name):\n",
    "    if dataset_name in (\"ml-1m\", \"ml-10m\"):\n",
    "        rnames = [\"user_id\", \"item_id\", \"rating\", \"timestamp\"]\n",
    "        df = pd.read_table(\n",
    "            f\"../data/{dataset_name}/ratings.dat\",\n",
    "            sep=\"::\",\n",
    "            header=None,\n",
    "            names=rnames,\n",
    "            engine=\"python\",\n",
    "        )\n",
    "    else:\n",
    "        df = pd.read_csv(f\"../data/{dataset_name}/ratings.csv\")  # .reset_index()\n",
    "        df = df.rename(\n",
    "            columns={\n",
    "                \"userId\": \"user_id\",\n",
    "                \"movieId\": \"item_id\",\n",
    "            }  # , \"index\": \"timestamp\"}\n",
    "        )\n",
    "\n",
    "    df[\"rating\"] = df[\"rating\"].astype(\"float\")\n",
    "    df = df.sort_values([\"user_id\", \"timestamp\"])\n",
    "\n",
    "    return df\n",
    "\n",
    "\n",
    "df = get_dataset(DATASET)\n",
    "df.head()"
   ]
  },
  {
   "cell_type": "code",
   "execution_count": null,
   "metadata": {},
   "outputs": [],
   "source": [
    "import pandas as pd\n",
    "from math import ceil\n",
    "\n",
    "\n",
    "def split_train_test(data, train_ratio=0.8):\n",
    "    # Lista para armazenar os subsets de treino e teste\n",
    "    train_list = []\n",
    "    test_list = []\n",
    "\n",
    "    for _, group in data.groupby(\"user_id\"):\n",
    "        # Ordena as interações por timestamp\n",
    "        group = group.sort_values(\"timestamp\")\n",
    "\n",
    "        # Calcula o ponto de corte para o treino (80% das interações)\n",
    "        split_point = ceil(len(group) * train_ratio)\n",
    "\n",
    "        # Separa o conjunto de treino e teste\n",
    "        train_list.append(group.iloc[:split_point])\n",
    "        test_list.append(group.iloc[split_point:])\n",
    "\n",
    "    # Concatena todos os subsets de treino e teste\n",
    "    train_data = pd.concat(train_list)\n",
    "    test_data = pd.concat(test_list)\n",
    "\n",
    "    return train_data, test_data\n",
    "\n",
    "\n",
    "# Exemplo de uso:\n",
    "# df é o seu DataFrame com as colunas ['user_id', 'item_id', 'rating', 'timestamp']\n",
    "train_df, test_df = split_train_test(df)\n",
    "print(train_df.shape, test_df.shape)\n",
    "\n",
    "# # Normalize rewards to [-1, 1]\n",
    "train_data = df[[\"user_id\", \"item_id\", \"rating\"]].values\n",
    "train_data[:, 2] = 0.5 * (train_data[:, 2] - 3)\n",
    "\n",
    "test_data = test_df[[\"user_id\", \"item_id\", \"rating\"]].values\n",
    "test_data[:, 2] = 0.5 * (test_data[:, 2] - 3)\n",
    "\n",
    "# # Shuffle data\n",
    "np.random.shuffle(train_data)\n",
    "# np.random.shuffle(test_data)"
   ]
  },
  {
   "cell_type": "code",
   "execution_count": null,
   "metadata": {},
   "outputs": [],
   "source": [
    "NUM_ITEMS = df.item_id.max() + 1\n",
    "NUM_USERS = df.user_id.max() + 1\n",
    "\n",
    "print(NUM_USERS, NUM_ITEMS)"
   ]
  },
  {
   "cell_type": "code",
   "execution_count": null,
   "metadata": {},
   "outputs": [],
   "source": [
    "train_data = train_data.astype(float)"
   ]
  },
  {
   "cell_type": "code",
   "execution_count": null,
   "metadata": {},
   "outputs": [],
   "source": [
    "bpmf = BPMF(\n",
    "    n_user=NUM_USERS,\n",
    "    n_item=NUM_ITEMS,\n",
    "    n_feature=100,\n",
    "    max_rating=1.0,\n",
    "    min_rating=-1.0,\n",
    "    seed=0,\n",
    ")\n",
    "\n",
    "train_rmse_list = bpmf.fit(train_data, n_iters=300)"
   ]
  },
  {
   "cell_type": "code",
   "execution_count": null,
   "metadata": {},
   "outputs": [],
   "source": [
    "def RMSE(preds, truth):\n",
    "    return np.sqrt(np.mean(np.square(preds - truth)))"
   ]
  },
  {
   "cell_type": "code",
   "execution_count": null,
   "metadata": {},
   "outputs": [],
   "source": [
    "# Get test predictions\n",
    "preds = bpmf.predict(test_data)\n",
    "test_rmse = RMSE(preds, test_data[:, 2])\n",
    "print(\"Test rmse: {:f}\".format(test_rmse))"
   ]
  },
  {
   "cell_type": "code",
   "execution_count": null,
   "metadata": {},
   "outputs": [],
   "source": [
    "with open(f\"../model/bpmf/bpmf_{DATASET}.pickle\", \"wb\") as handle:\n",
    "    pickle.dump(bpmf, handle, protocol=pickle.HIGHEST_PROTOCOL)"
   ]
  },
  {
   "cell_type": "code",
   "execution_count": null,
   "metadata": {},
   "outputs": [],
   "source": []
  }
 ],
 "metadata": {
  "interpreter": {
   "hash": "23b1c047fd19bf20d4111f807c9e6bee9fdce0e396893bab828ebbcdf9a68cad"
  },
  "kernelspec": {
   "display_name": "Python 3.8.13 ('rsrl')",
   "language": "python",
   "name": "python3"
  },
  "language_info": {
   "codemirror_mode": {
    "name": "ipython",
    "version": 3
   },
   "file_extension": ".py",
   "mimetype": "text/x-python",
   "name": "python",
   "nbconvert_exporter": "python",
   "pygments_lexer": "ipython3",
   "version": "3.10.13"
  }
 },
 "nbformat": 4,
 "nbformat_minor": 4
}
