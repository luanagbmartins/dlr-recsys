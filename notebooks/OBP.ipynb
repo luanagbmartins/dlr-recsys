{
  "cells": [
    {
      "cell_type": "markdown",
      "metadata": {
        "id": "LTcTTDYzs3eT"
      },
      "source": [
        "# Dataset Loader\n",
        "\n",
        "The first part of the Open Bandit Pipeline (OBP) is the dataset loader. For the Open Bandit Dataset (OBD), the loader is `opb.dataset.OpenBanditDataset` ([docs](https://zr-obp.readthedocs.io/en/latest/_autosummary/obp.dataset.real.html#obp.dataset.real.OpenBanditDataset)). \n",
        "\n",
        "As with many classes in the OBP, the dataset modules are implemented with [dataclasses](https://docs.python.org/3.7/library/dataclasses.html).\n",
        "\n",
        "The dataset module inherits from `obp.dataset.base.BaseRealBanditDatset` ([docs](https://zr-obp.readthedocs.io/en/latest/_autosummary/obp.dataset.base.html#module-obp.dataset.base)) and should implement three methods:\n",
        "- `load_raw_data()`: Load an on-disk representation of the dataset into the module. Used during initialization.\n",
        "- `pre_process()`: Perform any preprocessing needed to transform the raw data representation into a final representation.\n",
        "- `obtain_batch_bandit_feedback()`: Return a dictionary containing (at least) keys: `[\"action\",\"position\",\"reward\",\"pscore\",\"context\",\"n_rounds\"]`\n",
        "\n",
        "It is also helpful if the dataset module exposes a property `len_list`, which is how many items the bandit shows the user at a time. Often the answer is 1, though in the case of OBD it's 3."
      ]
    },
    {
      "cell_type": "code",
      "execution_count": null,
      "metadata": {
        "id": "y2okvOD9sCaE"
      },
      "outputs": [],
      "source": [
        "import sys \n",
        "sys.path.append('..')\n",
        "\n",
        "import os\n",
        "import obp\n",
        "from src.data.obp_dataset import MovieLensDataset"
      ]
    },
    {
      "cell_type": "code",
      "execution_count": null,
      "metadata": {
        "colab": {
          "base_uri": "https://localhost:8080/"
        },
        "id": "WPG05Yi8tMUr",
        "outputId": "1f2c5af3-c92d-4bc4-8fd9-195340644b21"
      },
      "outputs": [],
      "source": [
        "dataset = MovieLensDataset(\n",
        "    data_path=os.path.join(os.getcwd(), \"../data/\"), \n",
        "    embedding_network_weights_path=\"../model/pmf/emb_50_ratio_0.800000_bs_1000_e_258_wd_0.100000_lr_0.000100_trained_pmf.pt\", \n",
        "    embedding_dim=50,\n",
        "    users_num=943,\n",
        "    items_num=1682,\n",
        "    state_size=5\n",
        ")"
      ]
    },
    {
      "cell_type": "code",
      "execution_count": null,
      "metadata": {},
      "outputs": [],
      "source": [
        "bandit_feedback = dataset.obtain_batch_bandit_feedback()\n",
        "print(\"feedback dict:\")\n",
        "for key, value in bandit_feedback.items():\n",
        "    print(f\"  {key}: {type(value)}\")"
      ]
    },
    {
      "cell_type": "code",
      "execution_count": null,
      "metadata": {},
      "outputs": [],
      "source": [
        "exp_rand_reward = round(bandit_feedback[\"reward\"].mean(),4)\n",
        "print(f\"Expected reward for uniform random actions: {exp_rand_reward}\")"
      ]
    },
    {
      "cell_type": "markdown",
      "metadata": {},
      "source": [
        "# Off-Policy Evaluation (OPE)\n",
        "\n",
        "The next step is OPE which attempts to estimate the performance of online bandit algorithms using the logged bandit feedback and ReplayMethod(RM)."
      ]
    },
    {
      "cell_type": "code",
      "execution_count": null,
      "metadata": {},
      "outputs": [],
      "source": [
        "import pickle\n",
        "import numpy as np\n",
        "from sklearn.linear_model import LogisticRegression\n",
        "\n",
        "import obp\n",
        "from obp.ope import (\n",
        "    OffPolicyEvaluation, \n",
        "    RegressionModel,\n",
        "    InverseProbabilityWeighting as IPS,\n",
        "    SelfNormalizedInverseProbabilityWeighting as SNIPS,\n",
        "    DirectMethod as DM,\n",
        "    DoublyRobust as DR,\n",
        "    DoublyRobustWithShrinkage as DRos,\n",
        ")\n",
        "\n",
        "from src.model.simulator import run_bandit_simulation\n",
        "from src.model.bandit import EpsilonGreedy, LinUCB, WFairLinUCB, FairLinUCB"
      ]
    },
    {
      "cell_type": "code",
      "execution_count": null,
      "metadata": {},
      "outputs": [],
      "source": [
        "n_groups = 10\n",
        "fairness_weight = {k: 1.0 for k in range(1, n_groups + 1)}\n",
        "with open(\"../data/ml-100k/movies_groups.pkl\", \"rb\") as pkl_file:\n",
        "    movies_groups = pickle.load(pkl_file)"
      ]
    },
    {
      "cell_type": "code",
      "execution_count": null,
      "metadata": {},
      "outputs": [],
      "source": [
        "epsilon_greedy = EpsilonGreedy(\n",
        "    n_actions=dataset.n_actions,\n",
        "    epsilon=0.1,\n",
        "    n_group=n_groups,\n",
        "    item_group=movies_groups,\n",
        "    fairness_weight=fairness_weight\n",
        ")\n",
        "eg_action_dist, eg_aligned_cvr, eg_cvr, eg_propfair, eg_ufg, eg_group_count = run_bandit_simulation(\n",
        "    bandit_feedback=bandit_feedback,\n",
        "    policy=epsilon_greedy,\n",
        "    epochs=5,\n",
        ")"
      ]
    },
    {
      "cell_type": "code",
      "execution_count": null,
      "metadata": {},
      "outputs": [],
      "source": [
        "lin_ucb = FairLinUCB(\n",
        "    dim=dataset.dim_context,\n",
        "    n_actions=dataset.n_actions,\n",
        "    epsilon=0.1,\n",
        "    n_group=n_groups,\n",
        "    item_group=movies_groups,\n",
        "    fairness_weight=fairness_weight,\n",
        "    batch_size=1\n",
        ")\n",
        "linucb_action_dist, linucb_aligned_cvr, linucb_cvr, linucb_propfair, linucb_ufg, linucb_group_count = run_bandit_simulation(\n",
        "    bandit_feedback=bandit_feedback,\n",
        "    policy=lin_ucb,\n",
        "    epochs=5,\n",
        ")"
      ]
    },
    {
      "cell_type": "code",
      "execution_count": null,
      "metadata": {},
      "outputs": [],
      "source": [
        "# # estimate the policy value of the online bandit algorithms using RM\n",
        "# ope = OffPolicyEvaluation(\n",
        "#     bandit_feedback=bandit_feedback,\n",
        "#     ope_estimators=[\n",
        "#         IPS(estimator_name=\"IPS\"), \n",
        "#         SNIPS(estimator_name=\"SNIPS\"),\n",
        "#         DM(estimator_name=\"DM\"), \n",
        "#         DR(estimator_name=\"DR\"),\n",
        "#         DRos(estimator_name=\"DRos\")\n",
        "#     ]\n",
        "# )"
      ]
    },
    {
      "cell_type": "code",
      "execution_count": null,
      "metadata": {},
      "outputs": [],
      "source": [
        "# # obp.ope.RegressionModel\n",
        "# regression_model = RegressionModel(\n",
        "#     n_actions=dataset.n_actions, # number of actions; |A|\n",
        "#     len_list=dataset.len_list, # number of items in a recommendation list; K\n",
        "#     base_model=LogisticRegression(C=100, max_iter=100000), \n",
        "# )"
      ]
    },
    {
      "cell_type": "code",
      "execution_count": null,
      "metadata": {},
      "outputs": [],
      "source": [
        "# estimated_rewards = regression_model.fit_predict(\n",
        "#     context=bandit_feedback[\"context\"],\n",
        "#     action=bandit_feedback[\"action\"],\n",
        "#     reward=bandit_feedback[\"reward\"],\n",
        "#     position=bandit_feedback[\"position\"],\n",
        "# )"
      ]
    },
    {
      "cell_type": "code",
      "execution_count": null,
      "metadata": {},
      "outputs": [],
      "source": [
        "# eg_estimated_policy_value = ope.estimate_policy_values(\n",
        "#     action_dist=eg_action_dist, # \\pi_e(a|x)\n",
        "#     estimated_rewards_by_reg_model=estimated_rewards, # \\hat{q}\n",
        "# )\n",
        "# eg_estimated_policy_value"
      ]
    },
    {
      "cell_type": "code",
      "execution_count": null,
      "metadata": {},
      "outputs": [],
      "source": [
        "# linucb_estimated_policy_value = ope.estimate_policy_values(\n",
        "#     action_dist=linucb_action_dist, # \\pi_e(a|x)\n",
        "#     estimated_rewards_by_reg_model=estimated_rewards, # \\hat{q}\n",
        "# )\n",
        "# linucb_estimated_policy_value"
      ]
    },
    {
      "cell_type": "code",
      "execution_count": null,
      "metadata": {},
      "outputs": [],
      "source": [
        "import plotly.express as px\n",
        "import plotly.graph_objs as go"
      ]
    },
    {
      "cell_type": "code",
      "execution_count": null,
      "metadata": {},
      "outputs": [],
      "source": [
        "fig = go.Figure([\n",
        "    go.Scatter(\n",
        "        x=[i + 1 for i in range(len(eg_aligned_cvr))],\n",
        "        y=eg_aligned_cvr,\n",
        "        name=\"CVR\"\n",
        "    ),\n",
        "    go.Scatter(\n",
        "        x=[i + 1 for i in range(len(eg_aligned_cvr))],\n",
        "        y=[exp_rand_reward for i in range(len(eg_aligned_cvr))],\n",
        "        name=\"Mean Reward\"\n",
        "    )\n",
        "])\n",
        "fig.update_layout(title=\"EGreedy\")\n",
        "fig.update_yaxes(range=[0, 1])\n",
        "fig.show()"
      ]
    },
    {
      "cell_type": "code",
      "execution_count": null,
      "metadata": {},
      "outputs": [],
      "source": [
        "fig = go.Figure([\n",
        "    go.Scatter(\n",
        "        x=[i + 1 for i in range(len(linucb_aligned_cvr))],\n",
        "        y=linucb_aligned_cvr,\n",
        "        name=\"CVR\"\n",
        "    ),\n",
        "    go.Scatter(\n",
        "        x=[i + 1 for i in range(len(linucb_aligned_cvr))],\n",
        "        y=[exp_rand_reward for i in range(len(linucb_aligned_cvr))],\n",
        "        name=\"Mean Reward\"\n",
        "    )\n",
        "])\n",
        "fig.update_layout(title=\"WFair LinUCB\")\n",
        "fig.update_yaxes(range=[0, 1])\n",
        "fig.show()"
      ]
    },
    {
      "cell_type": "code",
      "execution_count": null,
      "metadata": {},
      "outputs": [],
      "source": []
    }
  ],
  "metadata": {
    "colab": {
      "collapsed_sections": [],
      "name": "OBP.ipynb",
      "provenance": []
    },
    "interpreter": {
      "hash": "8842d3533bae659e5f41b6e8512932590b59a54a4b7636cc41bd679d9b5f82e4"
    },
    "kernelspec": {
      "display_name": "Python 3.8.11 64-bit ('recsysrl': conda)",
      "name": "python3"
    },
    "language_info": {
      "codemirror_mode": {
        "name": "ipython",
        "version": 3
      },
      "file_extension": ".py",
      "mimetype": "text/x-python",
      "name": "python",
      "nbconvert_exporter": "python",
      "pygments_lexer": "ipython3",
      "version": "3.8.11"
    }
  },
  "nbformat": 4,
  "nbformat_minor": 0
}
